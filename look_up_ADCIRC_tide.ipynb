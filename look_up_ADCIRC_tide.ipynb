{
 "cells": [
  {
   "cell_type": "markdown",
   "id": "3109a6d4",
   "metadata": {},
   "source": [
    "### look_up_ADCIRC_tide\n",
    "\n",
    "Read in a `.mat` file produced by `predict_tide_capecod.m`, as demo'd in `test_tide.m`.  \n",
    "Interpolate tides for input time.  \n",
    "\n",
    "The data was written from Matlab like this:  \n",
    "`save('HoM_ADCIRC_tide_predictions.mat','lat','lon','T','tid','-v7.3')`  \n",
    "The flag `-v7.3` ensures hdf5 format.\n",
    "\n",
    "The interpolation is done using Matlab datenum values as the time axis, so a function to change datetime objects  \n",
    "to datenum values is included."
   ]
  },
  {
   "cell_type": "code",
   "execution_count": 1,
   "id": "94aea9bf",
   "metadata": {},
   "outputs": [],
   "source": [
    "import numpy as np\n",
    "import datetime as dt\n",
    "from scipy.interpolate import interp1d\n",
    "import h5py\n",
    "\n",
    "matfile = 'HoM_ADCIRC_tide_predictions.mat'"
   ]
  },
  {
   "cell_type": "markdown",
   "id": "dd183aab",
   "metadata": {},
   "source": [
    "#### Function that reads tidal dat in `.mat` format and creates an interpolation function object"
   ]
  },
  {
   "cell_type": "code",
   "execution_count": 2,
   "id": "43c8c3de",
   "metadata": {},
   "outputs": [],
   "source": [
    "def get_interp_function(matfile):\n",
    "    \"\"\"Read tidal data in .mat format, create interpolation object\n",
    "    \"\"\"\n",
    "    data = h5py.File(matfile,'r')\n",
    "    T = np.squeeze(np.array(data['T']))\n",
    "    tid = np.squeeze(np.array(data['tid']))\n",
    "    return interp1d(T, tid, kind='linear')"
   ]
  },
  {
   "cell_type": "markdown",
   "id": "9e7a616d",
   "metadata": {},
   "source": [
    "#### Function to convert datetime ojbect to Matlab datenum"
   ]
  },
  {
   "cell_type": "code",
   "execution_count": 3,
   "id": "faea39db",
   "metadata": {},
   "outputs": [],
   "source": [
    "def datetime2matlabdn(date):\n",
    "    \"\"\"Convert datetime object to Matlab datenum\n",
    "    https://stackoverflow.com/questions/8776414/python-datetime-to-matlab-datenum\n",
    "    \"\"\"\n",
    "    ord = date.toordinal()\n",
    "    mdn = date + dt.timedelta(days = 366)\n",
    "    frac = (date-dt.datetime(date.year,date.month,date.day,0,0,0)).seconds / (24.0 * 60.0 * 60.0)\n",
    "    return mdn.toordinal() + frac"
   ]
  },
  {
   "cell_type": "markdown",
   "id": "29c84119",
   "metadata": {},
   "source": [
    "#### Call `get_interp_function` to get an interpolation function object"
   ]
  },
  {
   "cell_type": "code",
   "execution_count": 4,
   "id": "c61ea755",
   "metadata": {},
   "outputs": [],
   "source": [
    "f = get_interp_function(matfile)"
   ]
  },
  {
   "cell_type": "markdown",
   "id": "b6acac4f",
   "metadata": {},
   "source": [
    "#### Make an array of datetime times to test"
   ]
  },
  {
   "cell_type": "code",
   "execution_count": 5,
   "id": "27cdcd65",
   "metadata": {},
   "outputs": [],
   "source": [
    "t = np.arange(dt.datetime(2020,10,1,13,30), dt.datetime(2022,7,1,13,30), dt.timedelta(days=1)).astype(dt.datetime)"
   ]
  },
  {
   "cell_type": "markdown",
   "id": "67e70311",
   "metadata": {},
   "source": [
    "#### Test the numpy interpolation"
   ]
  },
  {
   "cell_type": "code",
   "execution_count": 6,
   "id": "60b72347",
   "metadata": {},
   "outputs": [
    {
     "name": "stdout",
     "output_type": "stream",
     "text": [
      "Wall time: 15 ms\n"
     ]
    }
   ],
   "source": [
    "%%time\n",
    "for time in t:\n",
    "    dn = datetime2matlabdn(time)\n",
    "    tidi = f(dn)"
   ]
  },
  {
   "cell_type": "markdown",
   "id": "51f375f2",
   "metadata": {},
   "source": [
    "#### Move tide data from the hdf5 dataset to 1D numpy arrays"
   ]
  },
  {
   "cell_type": "code",
   "execution_count": 7,
   "id": "90d9f4af",
   "metadata": {},
   "outputs": [],
   "source": [
    "data = h5py.File(matfile,'r')\n",
    "T = np.squeeze(np.array(data['T']))\n",
    "tid = np.squeeze(np.array(data['tid']))"
   ]
  },
  {
   "cell_type": "markdown",
   "id": "688587f1",
   "metadata": {},
   "source": [
    "#### Test the scipy interpolation (way faster)"
   ]
  },
  {
   "cell_type": "code",
   "execution_count": 8,
   "id": "aef947e5",
   "metadata": {},
   "outputs": [
    {
     "name": "stdout",
     "output_type": "stream",
     "text": [
      "Wall time: 5.98 ms\n"
     ]
    }
   ],
   "source": [
    "%%time\n",
    "for time in t:\n",
    "    dn = datetime2matlabdn(time)\n",
    "    tidi = np.interp(dn, T, tid)"
   ]
  }
 ],
 "metadata": {
  "kernelspec": {
   "display_name": "Python 3 (ipykernel)",
   "language": "python",
   "name": "python3"
  },
  "language_info": {
   "codemirror_mode": {
    "name": "ipython",
    "version": 3
   },
   "file_extension": ".py",
   "mimetype": "text/x-python",
   "name": "python",
   "nbconvert_exporter": "python",
   "pygments_lexer": "ipython3",
   "version": "3.9.7"
  }
 },
 "nbformat": 4,
 "nbformat_minor": 5
}
