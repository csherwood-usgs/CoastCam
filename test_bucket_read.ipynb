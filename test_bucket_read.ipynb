{
 "cells": [
  {
   "cell_type": "code",
   "execution_count": 1,
   "metadata": {},
   "outputs": [],
   "source": [
    "import fsspec\n",
    "import numpy as np\n",
    "import imageio"
   ]
  },
  {
   "cell_type": "code",
   "execution_count": 2,
   "metadata": {},
   "outputs": [
    {
     "name": "stdout",
     "output_type": "stream",
     "text": [
      "b'foo.txt\\r\\ntiny little file for testing file transfers'\n",
      "CPU times: user 159 ms, sys: 12.3 ms, total: 172 ms\n",
      "Wall time: 1.13 s\n"
     ]
    }
   ],
   "source": [
    "%%time\n",
    "url = 'cmgp-coastcam/cameras/caco-01/foo.txt'\n",
    "fs = fsspec.filesystem('s3')\n",
    "with fs.open(url) as f:\n",
    "    im = f.read()\n",
    "\n",
    "print(im)"
   ]
  },
  {
   "cell_type": "code",
   "execution_count": 3,
   "metadata": {},
   "outputs": [
    {
     "name": "stdout",
     "output_type": "stream",
     "text": [
      "<imageio.plugins.pillow.JPEGFormat.Reader object at 0x7f92e40ba310>\n"
     ]
    }
   ],
   "source": [
    "with fs.open('cmgp-coastcam/cameras/caco-01/products/1600866001.c2.timex.jpg') as f:\n",
    "    im = imageio.read(f)\n",
    "    \n",
    "print(im)"
   ]
  },
  {
   "cell_type": "code",
   "execution_count": 4,
   "metadata": {},
   "outputs": [
    {
     "name": "stdout",
     "output_type": "stream",
     "text": [
      "['cmgp-coastcam/cameras/caco-01/latest/1594377000.c1.snap.jpg', 'cmgp-coastcam/cameras/caco-01/latest/1594377000.c2.snap.jpg', 'cmgp-coastcam/cameras/caco-01/latest/1594377001.c1.timex.jpg', 'cmgp-coastcam/cameras/caco-01/latest/1594377001.c2.timex.jpg', 'cmgp-coastcam/cameras/caco-01/latest/1594377002.c1.var.jpg', 'cmgp-coastcam/cameras/caco-01/latest/1594377002.c2.var.jpg', 'cmgp-coastcam/cameras/caco-01/latest/1594377003.c1.bright.jpg', 'cmgp-coastcam/cameras/caco-01/latest/1594377003.c2.bright.jpg', 'cmgp-coastcam/cameras/caco-01/latest/1594377004.c1.dark.jpg', 'cmgp-coastcam/cameras/caco-01/latest/1594377004.c2.dark.jpg', 'cmgp-coastcam/cameras/caco-01/latest/1594377005.c1.rundark.jpg', 'cmgp-coastcam/cameras/caco-01/latest/1594377005.c2.rundark.jpg', 'cmgp-coastcam/cameras/caco-01/latest/1594378800.c1.snap.jpg', 'cmgp-coastcam/cameras/caco-01/latest/1594378800.c2.snap.jpg', 'cmgp-coastcam/cameras/caco-01/latest/1594378801.c1.timex.jpg', 'cmgp-coastcam/cameras/caco-01/latest/1594378801.c2.timex.jpg', 'cmgp-coastcam/cameras/caco-01/latest/1594378802.c1.var.jpg', 'cmgp-coastcam/cameras/caco-01/latest/1594378802.c2.var.jpg', 'cmgp-coastcam/cameras/caco-01/latest/1594378803.c1.bright.jpg', 'cmgp-coastcam/cameras/caco-01/latest/1594378803.c2.bright.jpg', 'cmgp-coastcam/cameras/caco-01/latest/1594378804.c1.dark.jpg', 'cmgp-coastcam/cameras/caco-01/latest/1594378804.c2.dark.jpg', 'cmgp-coastcam/cameras/caco-01/latest/1594378805.c1.rundark.jpg', 'cmgp-coastcam/cameras/caco-01/latest/1594378805.c2.rundark.jpg', 'cmgp-coastcam/cameras/caco-01/latest/c1_bright.jpg', 'cmgp-coastcam/cameras/caco-01/latest/c1_dark.jpg', 'cmgp-coastcam/cameras/caco-01/latest/c1_rundark.jpg', 'cmgp-coastcam/cameras/caco-01/latest/c1_snap.jpg', 'cmgp-coastcam/cameras/caco-01/latest/c1_timex.jpg', 'cmgp-coastcam/cameras/caco-01/latest/c1_var.jpg', 'cmgp-coastcam/cameras/caco-01/latest/c2_bright.jpg', 'cmgp-coastcam/cameras/caco-01/latest/c2_dark.jpg', 'cmgp-coastcam/cameras/caco-01/latest/c2_rundark.jpg', 'cmgp-coastcam/cameras/caco-01/latest/c2_snap.jpg', 'cmgp-coastcam/cameras/caco-01/latest/c2_timex.jpg', 'cmgp-coastcam/cameras/caco-01/latest/c2_var.jpg']\n"
     ]
    }
   ],
   "source": [
    "recent_list=fs.glob('cmgp-coastcam/cameras/caco-01/latest/*')\n",
    "print(recent_list)"
   ]
  }
 ],
 "metadata": {
  "kernelspec": {
   "display_name": "Python 3",
   "language": "python",
   "name": "python3"
  },
  "language_info": {
   "codemirror_mode": {
    "name": "ipython",
    "version": 3
   },
   "file_extension": ".py",
   "mimetype": "text/x-python",
   "name": "python",
   "nbconvert_exporter": "python",
   "pygments_lexer": "ipython3",
   "version": "3.7.8"
  }
 },
 "nbformat": 4,
 "nbformat_minor": 4
}
