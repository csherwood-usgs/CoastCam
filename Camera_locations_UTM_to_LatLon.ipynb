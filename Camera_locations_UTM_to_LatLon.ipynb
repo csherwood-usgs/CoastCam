{
 "cells": [
  {
   "cell_type": "code",
   "execution_count": 1,
   "id": "8e55f89f",
   "metadata": {},
   "outputs": [],
   "source": [
    "from pyproj import Transformer"
   ]
  },
  {
   "cell_type": "code",
   "execution_count": 2,
   "id": "c2d035f6",
   "metadata": {},
   "outputs": [],
   "source": [
    "# initialize transformation\n",
    "transformer = Transformer.from_crs( 'epsg:26919', 'epsg:4326' ) # UTM 19N to WGS84\n",
    "\n",
    "# Head of the Meadow camera locations from 3/4/2020 (effective back to beginning of camera installation on )\n",
    "caco01_c1_utm = [4655942.490, 410843.970] #UTM 19N northing, easting\n",
    "caco01_c2_utm = [4655942.410, 410844.140] #UTM 19N northing, easting\n",
    "\n",
    "# Marconi camera locations from 3/10/2021 Extrinsic cal (effective back to beginning of camera installation on 2/25/2021)\n",
    "caco02_c1_utm = [4638305.651, 420097.384] #UTM 19N northing, easting\n",
    "caco02_c2_utm = [4638305.461, 420097.474] #UTM 19N northing, easting"
   ]
  },
  {
   "cell_type": "code",
   "execution_count": 3,
   "id": "630a1227",
   "metadata": {},
   "outputs": [
    {
     "name": "stdout",
     "output_type": "stream",
     "text": [
      "HoM C1\n",
      "42.050480, -70.077380\n",
      "HoM C2\n",
      "42.050480, -70.077378\n",
      "Marconi C1\n",
      "41.892648, -69.963180\n",
      "Marconi C2\n",
      "41.892646, -69.963179\n"
     ]
    }
   ],
   "source": [
    "print('HoM C1')\n",
    "caco_01_c1_ll = transformer.transform( caco01_c1_utm[1], caco01_c1_utm[0] )\n",
    "print('{:.6f}, {:.6f}'.format(caco_01_c1_ll[0], caco_01_c1_ll[1]))\n",
    "print('HoM C2')\n",
    "caco_01_c2_ll = transformer.transform( caco01_c2_utm[1], caco01_c2_utm[0] )\n",
    "print('{:.6f}, {:.6f}'.format(caco_01_c2_ll[0], caco_01_c2_ll[1]))\n",
    "\n",
    "print('Marconi C1')\n",
    "caco_02_c1_ll =  transformer.transform( caco02_c1_utm[1], caco02_c1_utm[0] )\n",
    "print('{:.6f}, {:.6f}'.format(caco_02_c1_ll[0], caco_02_c1_ll[1]))\n",
    "print('Marconi C2')\n",
    "caco_02_c2_ll =  transformer.transform( caco02_c2_utm[1], caco02_c2_utm[0] )\n",
    "print('{:.6f}, {:.6f}'.format(caco_02_c2_ll[0], caco_02_c2_ll[1]))\n"
   ]
  }
 ],
 "metadata": {
  "kernelspec": {
   "display_name": "Python 3 (ipykernel)",
   "language": "python",
   "name": "python3"
  },
  "language_info": {
   "codemirror_mode": {
    "name": "ipython",
    "version": 3
   },
   "file_extension": ".py",
   "mimetype": "text/x-python",
   "name": "python",
   "nbconvert_exporter": "python",
   "pygments_lexer": "ipython3",
   "version": "3.10.8"
  }
 },
 "nbformat": 4,
 "nbformat_minor": 5
}
