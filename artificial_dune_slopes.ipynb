{
 "cells": [
  {
   "cell_type": "markdown",
   "metadata": {},
   "source": [
    "### artificial_dune_slopes\n",
    "Demonstrate reduction in overwash with increasingly gentle beach slopes"
   ]
  },
  {
   "cell_type": "code",
   "execution_count": 1,
   "metadata": {},
   "outputs": [],
   "source": [
    "import numpy as np\n",
    "import matplotlib.pyplot as plt\n",
    "%matplotlib inline"
   ]
  },
  {
   "cell_type": "markdown",
   "metadata": {},
   "source": [
    "#### Stockdon (2006) runup calculations"
   ]
  },
  {
   "cell_type": "code",
   "execution_count": 2,
   "metadata": {},
   "outputs": [],
   "source": [
    "def calcR2(H,T,slope,igflag=0):\n",
    "    \"\"\"\n",
    "    %\n",
    "    % [R2,S,setup, Sinc, SIG, ir] = calcR2(H,T,slope,igflag);\n",
    "    %\n",
    "    % Calculated 2% runup (R2), swash (S), setup (setup), incident swash (Sinc)\n",
    "    % and infragravity swash (SIG) elevations based on parameterizations from runup paper\n",
    "    % also Iribarren (ir)\n",
    "    % August 2010 - Included 15% runup (R16) statistic that, for a Guassian distribution, \n",
    "    % represents mean+sigma. It is calculated as R16 = setup + swash/4.  \n",
    "    % In a wave tank, Palmsten et al (2010) found this statistic represented initiation of dune erosion. \n",
    "    %\n",
    "    %\n",
    "    % H = significant wave height, reverse shoaled to deep water\n",
    "    % T = deep-water peak wave period\n",
    "    % slope = radians\n",
    "    % igflag = 0 (default)use full equation for all data\n",
    "    %        = 1  use dissipative-specific calculations when dissipative conditions exist (Iribarren < 0.3)\n",
    "    %        = 2  use dissipative-specific (IG energy) calculation for all data\n",
    "    %\n",
    "    % based on:\n",
    "    %  Stockdon, H. F., R. A. Holman, P. A. Howd, and J. Sallenger A. H. (2006),\n",
    "    %    Empirical parameterization of setup, swash, and runup,\n",
    "    %    Coastal Engineering, 53, 573-588.\n",
    "    % author: hstockdon@usgs.gov\n",
    "    # Converted to Python by csherwood@usgs.gov\n",
    "    \"\"\"\n",
    "    g = 9.81\n",
    "\n",
    "    # make slopes positive!\n",
    "    slope = np.abs(slope)\n",
    "\n",
    "    # compute wavelength and Iribarren\n",
    "    L = (g*T**2) / (2.*np.pi)\n",
    "    sqHL = np.sqrt(H*L)\n",
    "    ir = slope/np.sqrt(H/L)\n",
    "\n",
    "    if igflag == 2:                     # use dissipative equations (IG) for ALL data\n",
    "        R2 = 1.1*(0.039 * sqHL)\n",
    "        S = 0.046*sqHL\n",
    "        setup = 0.016*sqHL\n",
    "\n",
    "    elif igflag == 1 and ir < 0.3:      # if dissipative site use diss equations\n",
    "        R2 = 1.1*(0.039 * sqHL)\n",
    "        S = 0.046*sqHL\n",
    "        setup = 0.016*sqHL\n",
    "\n",
    "    else:                               # if int/ref site, use full equations\n",
    "        setup = 0.35*slope*sqHL\n",
    "        Sinc = 0.75*slope*sqHL\n",
    "        SIG = 0.06*sqHL\n",
    "        S = np.sqrt(Sinc**2 + SIG**2)\n",
    "        R2 = 1.1*(setup + S/2.)\n",
    "        R16 = 1.1*(setup + S/4.)\n",
    "\n",
    "    return R2, S, setup, Sinc, SIG, ir, R16"
   ]
  },
  {
   "cell_type": "markdown",
   "metadata": {},
   "source": [
    "#### Run through various (artificial) dune heights and calculate runup, assuming constant volume of sand"
   ]
  },
  {
   "cell_type": "code",
   "execution_count": 3,
   "metadata": {},
   "outputs": [
    {
     "name": "stdout",
     "output_type": "stream",
     "text": [
      "Initial r1, a 8.66, 43.30:\n",
      "  h     a1   a2     r1    r2 tanbeta runup\n",
      "  5.0  21.7  21.7   8.7   8.7  0.577 12.60\n",
      "  4.8  19.5  23.8   8.2  10.0  0.475 10.69\n",
      "  4.5  17.5  25.8   7.8  11.5  0.393  9.06\n",
      "  4.2  15.6  27.7   7.4  13.0  0.327  7.67\n",
      "  4.0  13.9  29.4   6.9  14.7  0.272  6.49\n",
      "  3.8  12.2  31.1   6.5  16.6  0.226  5.49\n",
      "  3.5  10.6  32.7   6.1  18.7  0.187  4.63\n",
      "  3.2   9.1  34.2   5.6  21.0  0.155  3.91\n",
      "  3.0   7.8  35.5   5.2  23.7  0.127  3.30\n",
      "  2.8   6.5  36.8   4.8  26.7  0.103  2.79\n",
      "  2.5   5.4  37.9   4.3  30.3  0.082  2.37\n",
      "  2.2   4.4  38.9   3.9  34.6  0.065  2.02\n",
      "  2.0   3.5  39.8   3.5  39.8  0.050  1.75\n",
      "  1.8   2.7  40.6   3.0  46.5  0.038  1.53\n",
      "  1.5   1.9  41.4   2.6  55.1  0.027  1.36\n",
      "  1.2   1.4  41.9   2.2  67.1  0.019  1.23\n",
      "  1.0   0.9  42.4   1.7  84.9  0.012  1.14\n",
      "  0.8   0.5  42.8   1.3 114.2  0.007  1.07\n"
     ]
    }
   ],
   "source": [
    "# specify incoming wave H, T\n",
    "H = 4.\n",
    "T = 12.\n",
    "\n",
    "# specify constructed dune height and angle of repose for road-side slope\n",
    "h_init=5\n",
    "beta_repose = 30.\n",
    "\n",
    "# calculate base distance r1 (run) of road-side half of dune\n",
    "r1 = h_init/(np.tan(np.deg2rad(beta_repose)))\n",
    "\n",
    "# area (volume per unit width)\n",
    "a1 = 0.5*h_init*r1\n",
    "\n",
    "# total initial volume assuming ocean-side is also at angle of repose. This area remains constant.\n",
    "a = 2.*a1\n",
    "print(\"Initial r1, a {:.2f}, {:.2f}:\".format(r1,a))\n",
    "\n",
    "# Array of crest heights\n",
    "hlist = np.arange(h_init,.5,-.25)\n",
    "\n",
    "# Arrays for results\n",
    "runup=np.zeros_like(hlist)\n",
    "tanbeta=np.zeros_like(hlist)\n",
    "r2=np.zeros_like(hlist)\n",
    "\n",
    "# loop through series of decreasing dune heights and calculate run-up\n",
    "print(\"  h     a1   a2     r1    r2 tanbeta runup\")\n",
    "for i, h in enumerate(hlist):\n",
    "    # new road-side base distance\n",
    "    r1 = h/(np.tan(np.deg2rad(beta_repose)))\n",
    "    \n",
    "    # new road-side area\n",
    "    a1 = 0.5*h*r1\n",
    "    \n",
    "    # conserve area; calculate ocean-side area and base distance\n",
    "    # (dont confuse r2 with runup)\n",
    "    a2 = a - a1\n",
    "    r2[i] = 2.*a2/h\n",
    "    \n",
    "    # calculate beach slope and Stockdon runup elevation\n",
    "    beta = np.arctan(h/r2[i])\n",
    "    betad = np.rad2deg(beta)\n",
    "    tanbeta[i]=h/r2[i]\n",
    "    runup[i],_,_,_,_,_,_ = calcR2(H,T,beta)\n",
    "    print(\"{:5.1f} {:5.1f} {:5.1f} {:5.1f} {:5.1f} {:6.3f} {:5.2f}\".format(h,a1,a2,r1,r2[i],tanbeta[i],runup[i]))"
   ]
  },
  {
   "cell_type": "code",
   "execution_count": 4,
   "metadata": {},
   "outputs": [
    {
     "data": {
      "text/plain": [
       "Text(0.5, 1.0, '$H_s$ = 4 m, $T$ = 12 s, $V$ = 43.3 m$^3$/m')"
      ]
     },
     "execution_count": 4,
     "metadata": {},
     "output_type": "execute_result"
    },
    {
     "data": {
      "image/png": "[encoded data removed]",
      "text/plain": [
       "<Figure size 432x288 with 1 Axes>"
      ]
     },
     "metadata": {
      "needs_background": "light"
     },
     "output_type": "display_data"
    }
   ],
   "source": [
    "plt.plot(hlist,hlist,linewidth=2,label='Dune Crest')\n",
    "plt.plot(hlist,runup,linewidth=2,label='Runup')\n",
    "plt.gca().invert_xaxis()\n",
    "plt.legend()\n",
    "plt.xlabel('Dune Crest (m)')\n",
    "plt.ylabel('Elevation (m)')\n",
    "ts = \"$H_s$ = {:.0f} m, $T$ = {:.0f} s, $V$ = {:.1f} m$^3$/m\".format(H,T,a)\n",
    "plt.title(ts)"
   ]
  },
  {
   "cell_type": "code",
   "execution_count": 5,
   "metadata": {},
   "outputs": [
    {
     "data": {
      "text/plain": [
       "Text(0.5, 1.0, '$H_s$ = 4 m, $T$ = 12 s, $V$ = 43.3 m$^3$/m')"
      ]
     },
     "execution_count": 5,
     "metadata": {},
     "output_type": "execute_result"
    },
    {
     "data": {
      "image/png": "[encoded data removed]",
      "text/plain": [
       "<Figure size 432x288 with 1 Axes>"
      ]
     },
     "metadata": {
      "needs_background": "light"
     },
     "output_type": "display_data"
    }
   ],
   "source": [
    "plt.plot(r2,np.ones_like(r2),'--',c='gray')\n",
    "plt.plot(r2,runup/hlist,linewidth=2,label='Runup/h')\n",
    "plt.legend()\n",
    "plt.xlabel('Beach distance r2 (m)')\n",
    "plt.ylabel('Ratio runup/h')\n",
    "ts = \"$H_s$ = {:.0f} m, $T$ = {:.0f} s, $V$ = {:.1f} m$^3$/m\".format(H,T,a)\n",
    "plt.title(ts)"
   ]
  }
 ],
 "metadata": {
  "kernelspec": {
   "display_name": "Python 3",
   "language": "python",
   "name": "python3"
  },
  "language_info": {
   "codemirror_mode": {
    "name": "ipython",
    "version": 3
   },
   "file_extension": ".py",
   "mimetype": "text/x-python",
   "name": "python",
   "nbconvert_exporter": "python",
   "pygments_lexer": "ipython3",
   "version": "3.7.6"
  }
 },
 "nbformat": 4,
 "nbformat_minor": 4
}
