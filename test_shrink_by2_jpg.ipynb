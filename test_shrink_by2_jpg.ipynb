{
 "cells": [
  {
   "cell_type": "code",
   "execution_count": 1,
   "id": "c8beb2e6",
   "metadata": {},
   "outputs": [
    {
     "name": "stdout",
     "output_type": "stream",
     "text": [
      "['1581508801.c1.timex.jpg', '1581508801.c2.timex.jpg', '1581508801.rectified.jpg', '1615401000.c1.snap.jpg', '1615401000.c2.snap.jpg', 'image_resize.jpg', 'image_resize4.jpg', 'image_scaled.jpg', 'test_image.jpg']\n"
     ]
    }
   ],
   "source": [
    "from PIL import Image\n",
    "import os\n",
    "import glob\n",
    "\n",
    "files = glob.glob('*.jpg')\n",
    "print(files)"
   ]
  },
  {
   "cell_type": "code",
   "execution_count": 3,
   "id": "a16df1c8",
   "metadata": {},
   "outputs": [
    {
     "name": "stdout",
     "output_type": "stream",
     "text": [
      "1581508801.c1.timex.x2.jpg\n",
      "1581508801.c2.timex.x2.jpg\n",
      "1581508801.rectified.x2.jpg\n",
      "1615401000.c1.snap.x2.jpg\n",
      "1615401000.c2.snap.x2.jpg\n",
      "image_resize.x2.jpg\n",
      "image_resize4.x2.jpg\n",
      "image_scaled.x2.jpg\n",
      "test_image.x2.jpg\n"
     ]
    }
   ],
   "source": [
    "m = map(os.path.basename, glob.glob('*.jpg'))\n",
    "for f in m:\n",
    "    n = f.split('.')\n",
    "    n[-1]='x2.jpg'\n",
    "    tmp = list(map(str,n))\n",
    "    new_name = '.'.join(tmp)\n",
    "    print(new_name)\n",
    "\n",
    "    iscale = 4\n",
    "    with Image.open(f) as im:\n",
    "        (width, height) = (im.width // iscale, im.height // iscale)\n",
    "        im_resized = im.resize((width, height),)\n",
    "\n",
    "        im_resized.save(new_name,quality=95)"
   ]
  }
 ],
 "metadata": {
  "kernelspec": {
   "display_name": "Python 3 (ipykernel)",
   "language": "python",
   "name": "python3"
  },
  "language_info": {
   "codemirror_mode": {
    "name": "ipython",
    "version": 3
   },
   "file_extension": ".py",
   "mimetype": "text/x-python",
   "name": "python",
   "nbconvert_exporter": "python",
   "pygments_lexer": "ipython3",
   "version": "3.10.4"
  }
 },
 "nbformat": 4,
 "nbformat_minor": 5
}
