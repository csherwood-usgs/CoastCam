{
 "cells": [
  {
   "cell_type": "markdown",
   "metadata": {},
   "source": [
    "### Rectify all images on S3 bucket and write to public read bucket"
   ]
  },
  {
   "cell_type": "code",
   "execution_count": 1,
   "metadata": {},
   "outputs": [
    {
     "name": "stderr",
     "output_type": "stream",
     "text": [
      "C:\\Users\\csherwood\\AppData\\Local\\Continuum\\miniconda3\\envs\\CRS\\lib\\site-packages\\skimage\\io\\manage_plugins.py:23: UserWarning: Your installed pillow version is < 7.1.0. Several security issues (CVE-2020-11538, CVE-2020-10379, CVE-2020-10994, CVE-2020-10177) have been fixed in pillow 7.1.0 or higher. We recommend to upgrade this library.\n",
      "  from .collection import imread_collection_wrapper\n"
     ]
    }
   ],
   "source": [
    "from pathlib import Path\n",
    "import imageio\n",
    "import fsspec\n",
    "import numpy as np\n",
    "import matplotlib.pyplot as plt\n",
    "import datetime\n",
    "from dateutil import tz\n",
    "import pandas as pd\n",
    "import glob, os\n",
    "\n",
    "from coastcam_funcs import *\n",
    "from calibration_crs import *\n"
   ]
  },
  {
   "cell_type": "markdown",
   "metadata": {},
   "source": [
    "#### Read the inventory of products"
   ]
  },
  {
   "cell_type": "code",
   "execution_count": 2,
   "metadata": {},
   "outputs": [
    {
     "name": "stdout",
     "output_type": "stream",
     "text": [
      "['C:\\\\crs\\\\src\\\\dash_doodler\\\\results\\\\results2021-02-20-15-46/1577188801.c1.timex_label_greyscale2021-02-20-15-49_crs.png', 'C:\\\\crs\\\\src\\\\dash_doodler\\\\results\\\\results2021-02-20-15-46/1577188801.c2.timex_label_greyscale2021-02-20-15-53_crs.png']\n"
     ]
    }
   ],
   "source": [
    "rdir = 'C:\\\\crs\\\\src\\\\dash_doodler\\\\results\\\\results2021-02-20-15-46'\n",
    "c1list = []\n",
    "c2list = []\n",
    "\n",
    "for c1path in glob.glob(rdir+'/'+'*c1.timex_label_greyscale*'):\n",
    "    c1file = os.path.basename(c1path)\n",
    "\n",
    "    # check to see there is a corresponding c2 file\n",
    "    c2path = (glob.glob(rdir+'/'+c1file[0:10]+'.c2.timex_label_greyscale*'))[0]\n",
    "    if c2path:     \n",
    "        c1list.append(c1file)\n",
    "        c2file = os.path.basename(c2path)\n",
    "        c2list.append(c2file)\n",
    "\n",
    "label_paths = [ rdir+'/'+c1list[0],rdir+'/'+c2list[0]]\n",
    "print(label_paths)"
   ]
  },
  {
   "cell_type": "code",
   "execution_count": 3,
   "metadata": {},
   "outputs": [],
   "source": [
    "# this is from ../src/dash_doodler/classes.txt\n",
    "label_names = ['sky','water','surf','veg','sand']\n",
    "label_clrs = ['lightblue','blue','gray','green','orange']\n",
    "    \n",
    "def sort_labels(labels):\n",
    "    label_nums = np.unique(labels)\n",
    "    label_size = np.zeros(len(label_nums))\n",
    "    for i,label_num in enumerate(label_nums):\n",
    "        label_size[i]= int(len(labels[labels==label_num]))\n",
    "    \n",
    "    sorted_labels = label_nums[np.argsort(-label_size)]\n",
    "    sorted_size = label_size[np.argsort(-label_size)]\n",
    "    return sorted_labels, sorted_size\n",
    "\n",
    "def label_inventory(labels, label_names):\n",
    "    sorted_labels, sorted_size = sort_labels(labels)\n",
    "    for i in sorted_labels:\n",
    "        print('{:}, {:d}, {:.3f}'.format(label_names[i-1],int(sorted_size[i-1]), sorted_size[i-1]/(np.sum(sorted_size))))"
   ]
  },
  {
   "cell_type": "code",
   "execution_count": 4,
   "metadata": {},
   "outputs": [
    {
     "name": "stdout",
     "output_type": "stream",
     "text": [
      "Camera 1:\n",
      "veg, 628463, 0.125\n",
      "sand, 232420, 0.046\n",
      "water, 969784, 0.193\n",
      "sky, 2432612, 0.485\n",
      "surf, 750225, 0.150\n",
      "Camera 2:\n",
      "veg, 296098, 0.059\n",
      "water, 907184, 0.181\n",
      "sand, 185363, 0.037\n",
      "sky, 2903696, 0.579\n",
      "surf, 721163, 0.144\n"
     ]
    }
   ],
   "source": [
    "print('Camera 1:')\n",
    "lbl = imageio.imread(label_paths[0])\n",
    "label_inventory(lbl,label_names)\n",
    "print('Camera 2:')\n",
    "lbl = imageio.imread(label_paths[1])\n",
    "label_inventory(lbl,label_names)"
   ]
  },
  {
   "cell_type": "markdown",
   "metadata": {},
   "source": [
    "### Make a time series of the fraction for each label"
   ]
  },
  {
   "cell_type": "code",
   "execution_count": 5,
   "metadata": {},
   "outputs": [
    {
     "name": "stdout",
     "output_type": "stream",
     "text": [
      "Length of image list:  17\n",
      "Length of label list:  5\n"
     ]
    },
    {
     "data": {
      "text/plain": [
       "<matplotlib.legend.Legend at 0x21bf5bd2648>"
      ]
     },
     "execution_count": 5,
     "metadata": {},
     "output_type": "execute_result"
    },
    {
     "data": {
      "image/png": "[encoded data removed]",
      "text/plain": [
       "<Figure size 432x288 with 1 Axes>"
      ]
     },
     "metadata": {
      "needs_background": "light"
     },
     "output_type": "display_data"
    }
   ],
   "source": [
    "print('Length of image list: ',len(c1list))\n",
    "print('Length of label list: ',len(label_names))\n",
    "\n",
    "# Make an array w/ number of labels in each category\n",
    "labc = np.zeros((len(c1list),len(label_names)))\n",
    "for i, fn1 in enumerate(c1list):\n",
    "    lbl = imageio.imread( rdir+'/'+fn1)\n",
    "    sl, ss = sort_labels(lbl)\n",
    "    for j in range(len(sl)):\n",
    "        labc[i,sl[j]-1] = ss[j]\n",
    "        \n",
    "# normalize by number of labels per image\n",
    "nc = lbl.size\n",
    "labc = labc / nc\n",
    "        \n",
    "sky = labc[:,0]\n",
    "water = labc[:,1]\n",
    "surf = labc[:,2]\n",
    "veg = labc[:,3]\n",
    "sand = labc[:,4]\n",
    "\n",
    "plt.plot(veg,label='veg',linewidth=2,c=label_clrs[3])\n",
    "plt.plot(sand,label='sand',linewidth=2,c=label_clrs[4])\n",
    "plt.plot(water,label='water',linewidth=2,c=label_clrs[1])\n",
    "plt.plot(sky,label='sky',linewidth=2,c=label_clrs[0])\n",
    "plt.plot(surf,label='surf',linewidth=2,c=label_clrs[2])\n",
    "plt.ylabel('Fraction of map')\n",
    "plt.xlabel('Image')\n",
    "plt.legend()"
   ]
  },
  {
   "cell_type": "markdown",
   "metadata": {},
   "source": [
    "### Set up the rectification"
   ]
  },
  {
   "cell_type": "code",
   "execution_count": 6,
   "metadata": {},
   "outputs": [
    {
     "name": "stdout",
     "output_type": "stream",
     "text": [
      "Extrinsics are in world coordinates\n",
      "{'x': 410843.97, 'y': 4655942.49, 'z': 27.3, 'a': -0.271, 't': 1.304, 'r': 0.007}\n",
      "52.49000000022352\n",
      "{'x': 410935.0, 'y': 4655890.0, 'angd': 55.0}\n",
      "{'x': 410843.97, 'y': 4655942.49, 'z': 27.3, 'a': -0.271, 't': 1.304, 'r': 0.007}\n",
      "{'x': -9.21537219613947, 'y': 104.6744377358444, 'z': 27.3, 'a': 0.6889310885968812, 't': 1.304, 'r': 0.007}\n"
     ]
    }
   ],
   "source": [
    "# List of files...three for each camera. Calibration parameters are in .json format\n",
    "# These are the USGS image filename format\n",
    "extrinsic_cal_files = ['CACO01_C1_EOBest.json','CACO01_C2_EOBest.json']\n",
    "intrinsic_cal_files = ['CACO01_C1_IOBest.json','CACO01_C2_IOBest.json']\n",
    "\n",
    "# Dict providing the metadata that the Axiom code infers from the USACE filename format\n",
    "metadata= {'name': 'CACO-01', 'serial_number': 1, 'camera_number': 'C1', 'calibration_date': '2019-12-12', 'coordinate_system': 'geo'}\n",
    "# dict providing origin and orientation of the local grid\n",
    "local_origin = {'x': 410935.,'y':4655890., 'angd': 55.}\n",
    "\n",
    "# read cal files and make lists of cal dicts\n",
    "extrinsics_list = []\n",
    "for f in extrinsic_cal_files:\n",
    "    extrinsics_list.append( json2dict(f) )\n",
    "intrinsics_list = []\n",
    "for f in intrinsic_cal_files:\n",
    "    intrinsics_list.append( json2dict(f) )\n",
    "    \n",
    "# check test for coordinate system\n",
    "if metadata['coordinate_system'].lower() == 'xyz':\n",
    "    print('Extrinsics are local coordinates')\n",
    "elif metadata['coordinate_system'].lower() == 'geo':\n",
    "    print('Extrinsics are in world coordinates')\n",
    "else:\n",
    "    print('Invalid value of coordinate_system: ',metadata['coordinate_system'])\n",
    "    \n",
    "print(extrinsics_list[0])\n",
    "print(extrinsics_list[0]['y']-local_origin['y'])\n",
    "\n",
    "calibration = CameraCalibration(metadata,intrinsics_list[0],extrinsics_list[0],local_origin)\n",
    "print(calibration.local_origin)\n",
    "print(calibration.world_extrinsics)\n",
    "print(calibration.local_extrinsics)"
   ]
  },
  {
   "cell_type": "markdown",
   "metadata": {},
   "source": [
    "### Functions for rectifying labels\n",
    "* TODO - Put these in an external .py file\n",
    "* `TargetGrid` is unchanged...remove from here if `rectify_crs.py` is included.\n",
    "* The `rectfier` class has been split into standalone functions, renamed, and repurposed to treat 2D arrays, rather than x,y,rgb arrays."
   ]
  },
  {
   "cell_type": "code",
   "execution_count": 7,
   "metadata": {},
   "outputs": [],
   "source": [
    "from scipy.interpolate import RegularGridInterpolator\n",
    "from scipy.ndimage.morphology import distance_transform_edt\n",
    "\n",
    "class TargetGrid(object):\n",
    "    \"\"\"Grid generated to georectify image.\n",
    "\n",
    "    CRS modified to make endpoints inclusive\n",
    "    Notes:\n",
    "        - Used to maps points in world coordinates to pixels\n",
    "        - The limits should be specified in local coordinates using the same\n",
    "          coordinates and units as camera calibrations.\n",
    "\n",
    "    Args:\n",
    "        xlims (ndarray) - min and max (inclusive) in the x-direction (e.g. [-50, 650])\n",
    "        ylims (ndarray) - min and max (inclusive) in the y-direction (e.g. [0, 2501])\n",
    "        dx (float) - resolution of grid in x direction (same units as camera calibration)\n",
    "        dy (float) - resolution of grid in y direction (same units as camera calibration)\n",
    "        z (float) - static value to estimate elevation at everypoint in the x, y grid\n",
    "\n",
    "    Attributes:\n",
    "        X (np.ndarray): Local grid coordinates in x-direction.\n",
    "        Y (np.ndarray): Local grid coordinates in y-direction.\n",
    "        Z (np.ndarray): Local grid coordinates in z-direction.\n",
    "        xyz (np.ndarray): The grid where pixels are compiled from images for rectification.\n",
    "    \"\"\"\n",
    "    def __init__(self, xlims, ylims, dx=1, dy=1, z=-0.91):\n",
    "        x = np.arange(xlims[0], xlims[1]+dx, dx)\n",
    "        y = np.arange(ylims[0], ylims[1]+dx, dy)\n",
    "        self.X, self.Y = np.meshgrid(x, y)\n",
    "        self.Z = np.zeros_like(self.X) + z\n",
    "        self.xyz = self._xyz_grid()\n",
    "\n",
    "    def _xyz_grid(self):\n",
    "        x = self.X.copy().T.flatten()\n",
    "        y = self.Y.copy().T.flatten()\n",
    "        z = self.Z.copy().T.flatten()\n",
    "        return np.vstack((x, y, z)).T\n",
    "    \n",
    "def find_distort_UV(target_grid, calibration):\n",
    "    # get UV for pinhole camera\n",
    "    xyz = np.vstack((\n",
    "        target_grid.xyz.T,\n",
    "        np.ones((len(target_grid.xyz),))\n",
    "    ))\n",
    "    UV = np.matmul(calibration.P, xyz)\n",
    "\n",
    "    # make homogenous\n",
    "    div = np.tile(UV[2, :], (3, 1))\n",
    "    UV = UV / div\n",
    "\n",
    "    # get and rename\n",
    "    NU = calibration.lcp['NU']\n",
    "    NV = calibration.lcp['NV']\n",
    "    c0U = calibration.lcp['c0U']\n",
    "    c0V = calibration.lcp['c0V']\n",
    "    fx = calibration.lcp['fx']\n",
    "    fy = calibration.lcp['fy']\n",
    "    d1 = calibration.lcp['d1']\n",
    "    d2 = calibration.lcp['d2']\n",
    "    d3 = calibration.lcp['d3']\n",
    "    t1 = calibration.lcp['t1']\n",
    "    t2 = calibration.lcp['t2']\n",
    "    u = UV[0, :]\n",
    "    v = UV[1, :]\n",
    "\n",
    "    # normalize distances\n",
    "    x = (u - c0U) / fx\n",
    "    y = (v - c0V) / fy\n",
    "    # radial distortion\n",
    "    r2 = x*x + y*y\n",
    "    fr = 1. + d1*r2 + d2*r2*r2 + d3*r2*r2*r2\n",
    "    # tangential distorion\n",
    "    dx=2.*t1*x*y + t2*(r2+2.*x*x)\n",
    "    dy=t1*(r2+2.*y*y) + 2.*t2*x*y\n",
    "    # apply correction, answer in chip pixel units\n",
    "    xd = x*fr + dx\n",
    "    yd = y*fr + dy\n",
    "    Ud = xd*fx+c0U\n",
    "    Vd = yd*fy+c0V\n",
    "\n",
    "    # Declare array for flagged values\n",
    "    flag = np.ones_like(Ud)\n",
    "\n",
    "    # find negative UV coordinates\n",
    "    flag[np.where( Ud<0.)]=0.\n",
    "    flag[np.where( Vd<0.)]=0.\n",
    "    # find UVd coordinates greater than image size\n",
    "    flag[np.where( Ud>=NU)]=0.\n",
    "    flag[np.where( Vd>=NV)]=0.\n",
    "\n",
    "    # Determine if Tangential Distortion is within Range\n",
    "    #  Find Maximum possible tangential distortion at corners\n",
    "    Um=np.array((0, 0, NU, NU))\n",
    "    Vm=np.array((0, NV, NV, 0))\n",
    "\n",
    "    # Normalization\n",
    "    xm = (Um-c0U)/fx\n",
    "    ym = (Vm-c0V)/fy\n",
    "    r2m = xm*xm + ym*ym\n",
    "\n",
    "    # Tangential Distortion\n",
    "    dxm=2.*t1*xm*ym + t2*(r2m+2.*xm*xm)\n",
    "    dym=t1*(r2m+2.*ym*ym) + 2.*t2*xm*ym\n",
    "\n",
    "    # Find Values Larger than those at corners\n",
    "    flag[np.where(np.abs(dy)>np.max(np.abs(dym)))]=0.\n",
    "    flag[np.where(np.abs(dx)>np.max(np.abs(dxm)))]=0.\n",
    "\n",
    "    DU = Ud.reshape(target_grid.X.shape, order='F')\n",
    "    DV = Vd.reshape(target_grid.Y.shape, order='F')\n",
    "\n",
    "    # find negative Zc values and add to flag\n",
    "    UV = np.matmul(calibration.P, xyz)\n",
    "    xyzC = np.matmul(calibration.R,np.matmul(calibration.IC,xyz))\n",
    "    flag[np.where(xyzC[2,:]<=0.)]=0.\n",
    "    flag = flag.reshape(target_grid.X.shape, order='F')\n",
    "\n",
    "    # apply the flag to zero-out non-valid points\n",
    "    return DU*flag, DV*flag, flag\n",
    "\n",
    "def get_labels(target_grid, DU, DV, labels):\n",
    "    \"\"\"Return label values for each xyz point from the image\n",
    "\n",
    "    Arguments:\n",
    "        DU (np.ndarray): Pixel location in camera orientation and coordinate system\n",
    "        DV (np.ndarray): Pixel location in camera orientation and coorindate system\n",
    "        image_labels (np.ndarray [nx,ny]) with integer label values at U,V points\n",
    "        interpolation will be nearest neighbor to preserve integer values\n",
    "\n",
    "    Returns:\n",
    "        K (np.ndarray): Integer image label for each point in the image\n",
    "    \"\"\"\n",
    "    K = np.zeros((\n",
    "        target_grid.X.shape[0],\n",
    "        target_grid.X.shape[1]\n",
    "    ))\n",
    "\n",
    "    rgi = RegularGridInterpolator(\n",
    "        (np.arange(0, labels.shape[0]),\n",
    "         np.arange(0, labels.shape[1])),\n",
    "        labels[:,:],\n",
    "        method='nearest',\n",
    "        bounds_error=False,\n",
    "        fill_value=0)\n",
    "    K[:, :] = rgi((DV,DU))\n",
    "\n",
    "    # mask out values out of range like Matlab\n",
    "    # avoid runtime nan comparison warning (DU, DV already have nans)\n",
    "    with np.errstate(invalid='ignore'):\n",
    "        mask_u = np.logical_or(\n",
    "            DU <= 1,\n",
    "            DU >= labels.shape[1]\n",
    "        )\n",
    "        mask_v = np.logical_or(\n",
    "            DV <= 1,\n",
    "            DV >= labels.shape[0]\n",
    "        )\n",
    "    mask = np.logical_or(\n",
    "        mask_u,\n",
    "        mask_v\n",
    "    )\n",
    "    K[mask] = np.nan\n",
    "    return K\n",
    "\n",
    "def rectify_labels(metadata, target_grid, label_files, intrinsic_cal_list, extrinsic_cal_list, local_origin, fs=None):\n",
    "    \"\"\"Georectify and blend labels from multiple cameras\n",
    "\n",
    "    Arguments:\n",
    "        metadata (dict):\n",
    "        target_grid: grid object\n",
    "        label_files (list): List of label files\n",
    "        intrinsic_cal_list (list): list of paths to internal calibrations (one for each camera)\n",
    "        extrinsic_cal_list (list): list of paths to external calibrations (one for each camera)\n",
    "        local_origin:\n",
    "        fs: (object): fsspec file spec object for folder on S3 bucket. If none, normal file system will be used.\n",
    "\n",
    "    Returns:\n",
    "        M (np.ndarray): Georectified images merged from supplied images.\n",
    "    \"\"\"\n",
    "    # array for final pixel values\n",
    "    #M = np.zeros_like(target_grid.X)\n",
    "    M = np.zeros((701,501,2))\n",
    "\n",
    "    for cur_idx, (label_file, intrinsic_cal, extrinsic_cal) in enumerate(zip(label_files, intrinsic_cal_list, extrinsic_cal_list)):\n",
    "        # load camera calibration file and find pixel locations\n",
    "        camera_calibration = CameraCalibration(metadata, intrinsic_cal, extrinsic_cal, local_origin)\n",
    "        U, V, flag = find_distort_UV(target_grid, camera_calibration)\n",
    "\n",
    "        # load image and apply weights to pixels\n",
    "        if fs:\n",
    "            # using fsspec for S3 files\n",
    "            with fs.open(label_file) as f:\n",
    "                image = imageio.imread(f)\n",
    "        else:\n",
    "            # regular file system\n",
    "            image = imageio.imread(label_file)\n",
    "\n",
    "        M[:,:,cur_idx] = get_labels(target_grid, U, V, image)\n",
    "    \n",
    "    return M.astype(np.uint8)\n"
   ]
  },
  {
   "cell_type": "code",
   "execution_count": 8,
   "metadata": {},
   "outputs": [],
   "source": [
    "xmin = 0.\n",
    "xmax = 500.\n",
    "ymin = 0.\n",
    "ymax = 700.\n",
    "dx = 1.\n",
    "dy = 1.\n",
    "z =  0.\n",
    "\n",
    "rectifier_grid = TargetGrid(\n",
    "    [xmin, xmax],\n",
    "    [ymin, ymax],\n",
    "    dx,\n",
    "    dy,\n",
    "    z\n",
    ")"
   ]
  },
  {
   "cell_type": "code",
   "execution_count": 9,
   "metadata": {
    "scrolled": true
   },
   "outputs": [
    {
     "name": "stdout",
     "output_type": "stream",
     "text": [
      "5\n"
     ]
    }
   ],
   "source": [
    "M = rectify_labels(metadata, rectifier_grid, label_paths, intrinsics_list, \\\n",
    "                                                extrinsics_list, local_origin )        \n",
    "Mm = np.maximum(M[:,:,0],M[:,:,1])\n",
    "\n",
    "print(np.max(Mm))\n"
   ]
  },
  {
   "cell_type": "code",
   "execution_count": 10,
   "metadata": {},
   "outputs": [
    {
     "data": {
      "image/png": "[encoded data removed]",
      "text/plain": [
       "<Figure size 504x360 with 2 Axes>"
      ]
     },
     "metadata": {
      "needs_background": "light"
     },
     "output_type": "display_data"
    }
   ],
   "source": [
    "from matplotlib.colors import ListedColormap\n",
    "label_cmap = ListedColormap(['#696969','#00FFFF', '#0000FF', '#F5FFFA', '#008000', '#FFA500'])\n",
    "cb_label_names = ['none','sky','water','surf','veg','sand']\n",
    "\n",
    "fig = plt.figure(figsize=(7,5))\n",
    "# fig,ax = plt.subplots(1,1,aspect='equal')\n",
    "plt.pcolor(Mm,cmap=label_cmap,)\n",
    "plt.gca().set_aspect('equal')\n",
    "cb=plt.colorbar()\n",
    "cb.set_ticks(np.linspace(.5, 4.5, 6))\n",
    "cb.set_ticklabels(cb_label_names)"
   ]
  },
  {
   "cell_type": "code",
   "execution_count": 11,
   "metadata": {},
   "outputs": [
    {
     "data": {
      "image/png": "[encoded data removed]",
      "text/plain": [
       "<Figure size 1440x1152 with 20 Axes>"
      ]
     },
     "metadata": {
      "needs_background": "light"
     },
     "output_type": "display_data"
    }
   ],
   "source": [
    "i = 0\n",
    "fig,ax=plt.subplots(5,4,figsize=(20,16))\n",
    "ax = ax.ravel()\n",
    "for fn1, fn2 in (zip(c1list,c2list)):\n",
    "    label_paths = [ rdir+'/'+fn1, rdir+'/'+fn2 ]\n",
    "    M = rectify_labels(metadata, rectifier_grid, label_paths, intrinsics_list, \\\n",
    "                                                extrinsics_list, local_origin )        \n",
    "    Mm = np.maximum(M[:,:,0],M[:,:,1])\n",
    "    Mm[Mm==1]=3\n",
    "    #ax[i].subplot(5,4,i+1)\n",
    "    ax[i].pcolor(Mm,cmap=label_cmap)\n",
    "    ax[i].set_xticks([])\n",
    "    ax[i].set_yticks([])\n",
    "    ax[i].set_aspect('equal')\n",
    "    i=i+1"
   ]
  }
 ],
 "metadata": {
  "kernelspec": {
   "display_name": "Python 3",
   "language": "python",
   "name": "python3"
  },
  "language_info": {
   "codemirror_mode": {
    "name": "ipython",
    "version": 3
   },
   "file_extension": ".py",
   "mimetype": "text/x-python",
   "name": "python",
   "nbconvert_exporter": "python",
   "pygments_lexer": "ipython3",
   "version": "3.7.6"
  }
 },
 "nbformat": 4,
 "nbformat_minor": 4
}
