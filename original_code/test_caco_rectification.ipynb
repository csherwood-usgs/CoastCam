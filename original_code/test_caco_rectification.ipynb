{
 "cells": [
  {
   "cell_type": "code",
   "execution_count": 1,
   "metadata": {},
   "outputs": [],
   "source": [
    "from pathlib import Path\n",
    "import imageio\n",
    "import numpy as np\n",
    "import matplotlib.pyplot as plt\n",
    "%matplotlib inline"
   ]
  },
  {
   "cell_type": "markdown",
   "metadata": {},
   "source": [
    "#### Notes\n",
    " * Metadata is a temporary dict of stuff that the Axiom code reads from files. \n",
    " * extrinsic and intrinsic parameters are stored in a list of dicts\n",
    " * `metadata['coordinate_system']` indicates whether extrinsics are in local `'xyz'` or world `'geo'` coordinates\n",
    " \n",
    " * `lcp` is a dict lens calibration parameters, a synonym for intrinsics\n",
    " * `beta` is an numpy array that contains the values of the extrinsic dict"
   ]
  },
  {
   "cell_type": "code",
   "execution_count": 2,
   "metadata": {},
   "outputs": [],
   "source": [
    "# These .py files define the objects that load calibration data and do the rectification\n",
    "%run -i coastcam_funcs.py\n",
    "%run -i calibration_crs.py\n",
    "%run -i rectifier_crs.py\n"
   ]
  },
  {
   "cell_type": "code",
   "execution_count": 3,
   "metadata": {},
   "outputs": [],
   "source": [
    "# List of files...three for each camera. Calibration parameters are in .json format\n",
    "# These are the USGS image filename format\n",
    "image_files       = ['1581508801.c1.timex.jpg','1581508801.c2.timex.jpg']\n",
    "extrinsic_cal_files = ['CACO01_C1_EOBest.json','CACO01_C2_EOBest.json']\n",
    "intrinsic_cal_files = ['CACO01_C1_IOBest.json','CACO01_C2_IOBest.json']"
   ]
  },
  {
   "cell_type": "code",
   "execution_count": 4,
   "metadata": {},
   "outputs": [],
   "source": [
    "# Dict providing the metadata that the Axiom code infers from the USACE filename format\n",
    "metadata= {'name': 'CACO-01', 'serial_number': 1, 'camera_number': 'C1', 'calibration_date': '2019-12-12', 'coordinate_system': 'geo'}\n",
    "# dict providing origin and orientation of the local grid\n",
    "local_origin = {'x': 410935.,'y':4655890., 'angd': 55.}"
   ]
  },
  {
   "cell_type": "code",
   "execution_count": 5,
   "metadata": {},
   "outputs": [],
   "source": [
    "# read cal files and make lists of cal dicts\n",
    "extrinsics_list = []\n",
    "for f in extrinsic_cal_files:\n",
    "    extrinsics_list.append( json2dict(f) )\n",
    "intrinsics_list = []\n",
    "for f in intrinsic_cal_files:\n",
    "    intrinsics_list.append( json2dict(f) )"
   ]
  },
  {
   "cell_type": "code",
   "execution_count": 6,
   "metadata": {},
   "outputs": [
    {
     "name": "stdout",
     "output_type": "stream",
     "text": [
      "Extrinsics are in world coordinates\n",
      "{'x': 410843.97, 'y': 4655942.49, 'z': 27.3, 'a': -0.271, 't': 1.304, 'r': 0.007}\n",
      "52.49000000022352\n"
     ]
    }
   ],
   "source": [
    "# check test for coordinate system\n",
    "if metadata['coordinate_system'].lower() == 'xyz':\n",
    "    print('Extrinsics are local coordinates')\n",
    "elif metadata['coordinate_system'].lower() == 'geo':\n",
    "    print('Extrinsics are in world coordinates')\n",
    "else:\n",
    "    print('Invalid value of coordinate_system: ',metadata['coordinate_system'])\n",
    "    \n",
    "print(extrinsics_list[0])\n",
    "print(extrinsics_list[0]['y']-local_origin['y'])"
   ]
  },
  {
   "cell_type": "code",
   "execution_count": 7,
   "metadata": {},
   "outputs": [
    {
     "name": "stdout",
     "output_type": "stream",
     "text": [
      "{'x': 410935.0, 'y': 4655890.0, 'angd': 55.0}\n",
      "{'x': 410843.97, 'y': 4655942.49, 'z': 27.3, 'a': -0.271, 't': 1.304, 'r': 0.007}\n",
      "{'x': -9.215372196139484, 'y': 104.67443773584442, 'z': 27.3, 'a': 0.6889310885968812, 't': 1.304, 'r': 0.007}\n"
     ]
    }
   ],
   "source": [
    "calibration = CameraCalibration(metadata,intrinsics_list[0],extrinsics_list[0],local_origin)\n",
    "print(calibration.local_origin)\n",
    "print(calibration.world_extrinsics)\n",
    "print(calibration.local_extrinsics)"
   ]
  },
  {
   "cell_type": "code",
   "execution_count": 8,
   "metadata": {},
   "outputs": [],
   "source": [
    "xmin = 0.\n",
    "xmax = 500.\n",
    "ymin = 0.\n",
    "ymax = 700.\n",
    "dx = 2.\n",
    "dy = 2.\n",
    "z =  0.\n",
    "\n",
    "rectifier_grid = TargetGrid(\n",
    "    [xmin, xmax],\n",
    "    [ymin, ymax],\n",
    "    dx,\n",
    "    dy,\n",
    "    z\n",
    ")\n",
    "#print(rectifier_grid.X)\n",
    "\n",
    "rectifier = Rectifier(\n",
    "    rectifier_grid\n",
    ")"
   ]
  },
  {
   "cell_type": "code",
   "execution_count": 9,
   "metadata": {},
   "outputs": [
    {
     "name": "stdout",
     "output_type": "stream",
     "text": [
      "loop 0 calibrations:\n",
      "{'NU': 2448, 'NV': 2048, 'c0U': 1150.389769, 'c0V': 1200.529802, 'fx': 3599.302724, 'fy': 3600.840045, 'd1': -0.221394, 'd2': 0.129797, 'd3': 0.0, 't1': 0.000599, 't2': -0.000393} {'x': 410843.97, 'y': 4655942.49, 'z': 27.3, 'a': -0.271, 't': 1.304, 'r': 0.007}\n",
      "back from CameraCalibration\n",
      "back from _find_distort_UV\n",
      "(351, 251)\n",
      "(2048, 2448, 3) None\n",
      "back from get_pixels\n",
      "back from assemble_image_weights\n",
      "back from apply_weights_to_pixles\n",
      "loop 1 calibrations:\n",
      "{'NU': 2448, 'NV': 2048, 'c0U': 1215.323012, 'c0V': 1076.162623, 'fx': 2411.904295, 'fy': 2409.796036, 'd1': -0.219987, 'd2': 0.178703, 'd3': -0.05506, 't1': 0.000114, 't2': -0.002621} {'x': 410844.14, 'y': 4655942.41, 'z': 27.3, 'a': 0.5, 't': 1.173, 'r': 0.03}\n",
      "back from CameraCalibration\n",
      "back from _find_distort_UV\n",
      "(351, 251)\n",
      "(2048, 2448, 3) None\n",
      "back from get_pixels\n",
      "back from assemble_image_weights\n",
      "back from apply_weights_to_pixles\n",
      "CPU times: user 727 ms, sys: 178 ms, total: 905 ms\n",
      "Wall time: 492 ms\n"
     ]
    }
   ],
   "source": [
    "%%time\n",
    "#%prun rectified_image = rectifier.rectify_images(metadata, image_files, intrinsics_list, extrinsics_list, local_origin)\n",
    "rectified_image = rectifier.rectify_images(metadata, image_files, intrinsics_list, extrinsics_list, local_origin)"
   ]
  },
  {
   "cell_type": "code",
   "execution_count": 15,
   "metadata": {},
   "outputs": [
    {
     "name": "stdout",
     "output_type": "stream",
     "text": [
      "[[[-9223372036854775808 -9223372036854775808 -9223372036854775808]\n",
      "  [-9223372036854775808 -9223372036854775808 -9223372036854775808]\n",
      "  [-9223372036854775808 -9223372036854775808 -9223372036854775808]\n",
      "  ...\n",
      "  [                 155                  182                  211]\n",
      "  [                 154                  181                  210]\n",
      "  [                 154                  181                  210]]\n",
      "\n",
      " [[-9223372036854775808 -9223372036854775808 -9223372036854775808]\n",
      "  [-9223372036854775808 -9223372036854775808 -9223372036854775808]\n",
      "  [-9223372036854775808 -9223372036854775808 -9223372036854775808]\n",
      "  ...\n",
      "  [                 156                  183                  212]\n",
      "  [                 156                  183                  212]\n",
      "  [                 154                  181                  210]]\n",
      "\n",
      " [[-9223372036854775808 -9223372036854775808 -9223372036854775808]\n",
      "  [-9223372036854775808 -9223372036854775808 -9223372036854775808]\n",
      "  [-9223372036854775808 -9223372036854775808 -9223372036854775808]\n",
      "  ...\n",
      "  [                 155                  182                  211]\n",
      "  [                 154                  181                  210]\n",
      "  [                 154                  181                  210]]\n",
      "\n",
      " ...\n",
      "\n",
      " [[-9223372036854775808 -9223372036854775808 -9223372036854775808]\n",
      "  [-9223372036854775808 -9223372036854775808 -9223372036854775808]\n",
      "  [-9223372036854775808 -9223372036854775808 -9223372036854775808]\n",
      "  ...\n",
      "  [                 117                  138                  165]\n",
      "  [                 118                  139                  166]\n",
      "  [                 118                  139                  166]]\n",
      "\n",
      " [[-9223372036854775808 -9223372036854775808 -9223372036854775808]\n",
      "  [-9223372036854775808 -9223372036854775808 -9223372036854775808]\n",
      "  [-9223372036854775808 -9223372036854775808 -9223372036854775808]\n",
      "  ...\n",
      "  [                 117                  138                  165]\n",
      "  [                 117                  138                  165]\n",
      "  [                 118                  139                  166]]\n",
      "\n",
      " [[-9223372036854775808 -9223372036854775808 -9223372036854775808]\n",
      "  [-9223372036854775808 -9223372036854775808 -9223372036854775808]\n",
      "  [-9223372036854775808 -9223372036854775808 -9223372036854775808]\n",
      "  ...\n",
      "  [                 118                  139                  165]\n",
      "  [                 117                  138                  165]\n",
      "  [                 118                  139                  166]]]\n"
     ]
    }
   ],
   "source": [
    "rectified_image[np.where(rectified_image>255.)]=255\n",
    "ri = rectified_image.astype(int)\n",
    "print(ri)"
   ]
  },
  {
   "cell_type": "code",
   "execution_count": 16,
   "metadata": {},
   "outputs": [
    {
     "name": "stderr",
     "output_type": "stream",
     "text": [
      "Lossy conversion from float64 to uint8. Range [4.141949613377928, 255.0]. Convert image to uint8 prior to saving to suppress this warning.\n"
     ]
    }
   ],
   "source": [
    "imageio.imwrite('caco_test_image_rgi_lin.jpg',rectified_image)"
   ]
  },
  {
   "cell_type": "code",
   "execution_count": 12,
   "metadata": {},
   "outputs": [
    {
     "name": "stdout",
     "output_type": "stream",
     "text": [
      "[[[         nan          nan          nan]\n",
      "  [         nan          nan          nan]\n",
      "  [         nan          nan          nan]\n",
      "  ...\n",
      "  [155.         182.         211.        ]\n",
      "  [154.         181.         210.        ]\n",
      "  [154.75955249 181.75955249 210.75955249]]\n",
      "\n",
      " [[         nan          nan          nan]\n",
      "  [         nan          nan          nan]\n",
      "  [         nan          nan          nan]\n",
      "  ...\n",
      "  [156.         183.         212.        ]\n",
      "  [156.         183.         212.        ]\n",
      "  [154.82961288 181.82961288 210.82961288]]\n",
      "\n",
      " [[         nan          nan          nan]\n",
      "  [         nan          nan          nan]\n",
      "  [         nan          nan          nan]\n",
      "  ...\n",
      "  [155.         182.         211.        ]\n",
      "  [154.35685344 181.35685344 210.35685344]\n",
      "  [154.         181.         210.        ]]\n",
      "\n",
      " ...\n",
      "\n",
      " [[         nan          nan          nan]\n",
      "  [         nan          nan          nan]\n",
      "  [         nan          nan          nan]\n",
      "  ...\n",
      "  [117.         138.         165.        ]\n",
      "  [118.         139.         166.        ]\n",
      "  [118.         139.         166.        ]]\n",
      "\n",
      " [[         nan          nan          nan]\n",
      "  [         nan          nan          nan]\n",
      "  [         nan          nan          nan]\n",
      "  ...\n",
      "  [117.         138.         165.        ]\n",
      "  [117.29669475 138.29669475 165.29669475]\n",
      "  [118.         139.         166.        ]]\n",
      "\n",
      " [[         nan          nan          nan]\n",
      "  [         nan          nan          nan]\n",
      "  [         nan          nan          nan]\n",
      "  ...\n",
      "  [118.         139.         166.        ]\n",
      "  [117.23253164 138.23253164 165.23253164]\n",
      "  [118.         139.         166.        ]]]\n"
     ]
    }
   ],
   "source": [
    "print(rectified_image)"
   ]
  },
  {
   "cell_type": "code",
   "execution_count": 13,
   "metadata": {},
   "outputs": [
    {
     "name": "stderr",
     "output_type": "stream",
     "text": [
      "Clipping input data to the valid range for imshow with RGB data ([0..1] for floats or [0..255] for integers).\n"
     ]
    },
    {
     "data": {
      "image/png": "[encoded data removed]",
      "text/plain": [
       "<Figure size 432x288 with 1 Axes>"
      ]
     },
     "metadata": {
      "needs_background": "light"
     },
     "output_type": "display_data"
    }
   ],
   "source": [
    "plt.imshow( rectified_image.astype(np.int))\n",
    "plt.gca().invert_yaxis()"
   ]
  },
  {
   "cell_type": "code",
   "execution_count": 14,
   "metadata": {},
   "outputs": [
    {
     "name": "stdout",
     "output_type": "stream",
     "text": [
      "[[[         nan          nan          nan]\n",
      "  [         nan          nan          nan]\n",
      "  [         nan          nan          nan]\n",
      "  ...\n",
      "  [155.         182.         211.        ]\n",
      "  [154.         181.         210.        ]\n",
      "  [154.75955249 181.75955249 210.75955249]]\n",
      "\n",
      " [[         nan          nan          nan]\n",
      "  [         nan          nan          nan]\n",
      "  [         nan          nan          nan]\n",
      "  ...\n",
      "  [156.         183.         212.        ]\n",
      "  [156.         183.         212.        ]\n",
      "  [154.82961288 181.82961288 210.82961288]]\n",
      "\n",
      " [[         nan          nan          nan]\n",
      "  [         nan          nan          nan]\n",
      "  [         nan          nan          nan]\n",
      "  ...\n",
      "  [155.         182.         211.        ]\n",
      "  [154.35685344 181.35685344 210.35685344]\n",
      "  [154.         181.         210.        ]]\n",
      "\n",
      " ...\n",
      "\n",
      " [[         nan          nan          nan]\n",
      "  [         nan          nan          nan]\n",
      "  [         nan          nan          nan]\n",
      "  ...\n",
      "  [117.         138.         165.        ]\n",
      "  [118.         139.         166.        ]\n",
      "  [118.         139.         166.        ]]\n",
      "\n",
      " [[         nan          nan          nan]\n",
      "  [         nan          nan          nan]\n",
      "  [         nan          nan          nan]\n",
      "  ...\n",
      "  [117.         138.         165.        ]\n",
      "  [117.29669475 138.29669475 165.29669475]\n",
      "  [118.         139.         166.        ]]\n",
      "\n",
      " [[         nan          nan          nan]\n",
      "  [         nan          nan          nan]\n",
      "  [         nan          nan          nan]\n",
      "  ...\n",
      "  [118.         139.         166.        ]\n",
      "  [117.23253164 138.23253164 165.23253164]\n",
      "  [118.         139.         166.        ]]]\n"
     ]
    }
   ],
   "source": [
    "print(rectified_image)"
   ]
  }
 ],
 "metadata": {
  "kernelspec": {
   "display_name": "Python 3",
   "language": "python",
   "name": "python3"
  },
  "language_info": {
   "codemirror_mode": {
    "name": "ipython",
    "version": 3
   },
   "file_extension": ".py",
   "mimetype": "text/x-python",
   "name": "python",
   "nbconvert_exporter": "python",
   "pygments_lexer": "ipython3",
   "version": "3.7.6"
  }
 },
 "nbformat": 4,
 "nbformat_minor": 4
}
