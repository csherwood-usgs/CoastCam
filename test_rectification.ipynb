{
 "cells": [
  {
   "cell_type": "code",
   "execution_count": 1,
   "metadata": {},
   "outputs": [],
   "source": [
    "from pathlib import Path\n",
    "import imageio\n",
    "import numpy as np\n",
    "import matplotlib.pyplot as plt\n",
    "%matplotlib inline"
   ]
  },
  {
   "cell_type": "code",
   "execution_count": 2,
   "metadata": {},
   "outputs": [],
   "source": [
    "# These .py files define the objects that load calibration data and do the rectification\n",
    "%run -i calibration\n",
    "%run -i rectifier"
   ]
  },
  {
   "cell_type": "code",
   "execution_count": 3,
   "metadata": {},
   "outputs": [],
   "source": [
    "# The Axiom software included ways to build these filename arrays\n",
    "image_files    = ['./data/images/1548097201.Mon.Jan.21_19_00_01.GMT.2019.manos.c1.timex.jpg',\\\n",
    "               './data/images/1548097201.Mon.Jan.21_19_00_01.GMT.2019.manos.c2.timex.jpg',\\\n",
    "               './data/images/1548097201.Mon.Jan.21_19_00_01.GMT.2019.manos.c5.timex.jpg',\\\n",
    "               './data/images/1548097201.Mon.Jan.21_19_00_01.GMT.2019.manos.c6.timex.jpg']\n",
    "\n",
    "calibration_files = ['./data/camera_calibration/17512833_c1_20180809_xyz_lcp.mat',\\\n",
    "                     './data/camera_calibration/17512834_c2_20180809_xyz_lcp.mat',\\\n",
    "                     './data/camera_calibration/17512818_c5_20180809_xyz_lcp.mat',\\\n",
    "                     './data/camera_calibration/17512836_c6_20180809_xyz_lcp.mat']"
   ]
  },
  {
   "cell_type": "code",
   "execution_count": 4,
   "metadata": {},
   "outputs": [],
   "source": [
    "xmin = -50.\n",
    "xmax = 651.\n",
    "ymin = 0.\n",
    "ymax = 2501.\n",
    "dx = 1.\n",
    "dy = 1.\n",
    "z = -0.91\n",
    "\n",
    "rectifier_grid = TargetGrid(\n",
    "    [xmin, xmax],\n",
    "    [ymin, ymax],\n",
    "    dx,\n",
    "    dy,\n",
    "    z\n",
    ")\n",
    "\n",
    "rectifier = Rectifier(\n",
    "    rectifier_grid\n",
    ")"
   ]
  },
  {
   "cell_type": "code",
   "execution_count": 6,
   "metadata": {},
   "outputs": [
    {
     "name": "stdout",
     "output_type": "stream",
     "text": [
      " Wall time: 40.1 s\n"
     ]
    }
   ],
   "source": [
    "%%time\n",
    "%prun rectified_image = rectifier.rectify_images([str(s) for s in image_files],[str(s) for s in calibration_files])"
   ]
  },
  {
   "cell_type": "code",
   "execution_count": null,
   "metadata": {},
   "outputs": [],
   "source": [
    "imageio.imwrite('test_image.jpg',rectified_image)"
   ]
  },
  {
   "cell_type": "code",
   "execution_count": null,
   "metadata": {},
   "outputs": [],
   "source": [
    "plt.imshow( rectified_image.astype(np.int))\n",
    "plt.gca().invert_yaxis()"
   ]
  },
  {
   "cell_type": "code",
   "execution_count": null,
   "metadata": {},
   "outputs": [],
   "source": [
    "print(np.nanmax(rectified_image))"
   ]
  }
 ],
 "metadata": {
  "kernelspec": {
   "display_name": "Python 3",
   "language": "python",
   "name": "python3"
  },
  "language_info": {
   "codemirror_mode": {
    "name": "ipython",
    "version": 3
   },
   "file_extension": ".py",
   "mimetype": "text/x-python",
   "name": "python",
   "nbconvert_exporter": "python",
   "pygments_lexer": "ipython3",
   "version": "3.7.6"
  }
 },
 "nbformat": 4,
 "nbformat_minor": 4
}
