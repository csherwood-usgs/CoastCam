{
 "cells": [
  {
   "cell_type": "code",
   "execution_count": 1,
   "metadata": {},
   "outputs": [],
   "source": [
    "import fsspec\n",
    "import s3fs\n",
    "import numpy as np\n",
    "import imageio\n",
    "import datetime\n",
    "from dateutil import tz\n"
   ]
  },
  {
   "cell_type": "code",
   "execution_count": 2,
   "metadata": {},
   "outputs": [
    {
     "name": "stdout",
     "output_type": "stream",
     "text": [
      "Current UTC time stamp:  1643326340.416366\n",
      "Day number:  16433\n",
      "Today is: 2022-01-27\n"
     ]
    }
   ],
   "source": [
    "# Check for files from today\n",
    "# This makes a \"naive\" timestamp\n",
    "#tsNow = datetime.datetime.utcnow().timestamp()\n",
    "# This makes an \"aware\" timestamp\n",
    "tsNow = datetime.datetime.now(tz=datetime.timezone.utc).timestamp()\n",
    "\n",
    "print(\"Current UTC time stamp: \",tsNow)\n",
    "dayn = str(int(tsNow/100000.))\n",
    "print(\"Day number: \",dayn)\n",
    "today = datetime.date.today()\n",
    "print(\"Today is:\",today)"
   ]
  },
  {
   "cell_type": "code",
   "execution_count": 25,
   "metadata": {},
   "outputs": [
    {
     "data": {
      "text/plain": [
       "('2022-01-20 15:30:00', datetime.datetime(2022, 1, 20, 15, 30))"
      ]
     },
     "execution_count": 25,
     "metadata": {},
     "output_type": "execute_result"
    }
   ],
   "source": [
    "def unix2dts(unixnumber, timezone='eastern'):\n",
    "    \"\"\"\n",
    "    Get local time from unix number\n",
    "\n",
    "    Input:\n",
    "        unixnumber - string containing unix time (aka epoch)\n",
    "    Returns:\n",
    "        date_time_string, date_time_object in utc\n",
    "\n",
    "    TODO: not sure why this returns the correct value without specifying that input time zone is eastern\n",
    "    \"\"\"\n",
    "    if timezone.lower() == 'eastern':\n",
    "        tzone = tz.gettz('America/New_York')\n",
    "    elif timezone.lower() == 'utc':\n",
    "        tzone = tz.gettz('UTC')\n",
    "\n",
    "    # images other than \"snaps\" end in 1, 2,...but these are not part of the time stamp.\n",
    "    # replace with zero\n",
    "    ts = int( unixnumber[:-1]+'0')\n",
    "    date_time_obj =  datetime.datetime.utcfromtimestamp(ts)\n",
    "    date_time_str = date_time_obj.strftime('%Y-%m-%d %H:%M:%S')\n",
    "    return date_time_str, date_time_obj\n",
    "\n",
    "unix2dts('1642692600')"
   ]
  },
  {
   "cell_type": "code",
   "execution_count": 3,
   "metadata": {},
   "outputs": [
    {
     "name": "stdout",
     "output_type": "stream",
     "text": [
      "164332.0 164333.0\n",
      "2020-11-01 12:00:00 1604250000.0 (164332.0, 164333.0)\n",
      "164332.0 164333.0\n",
      "2020-11-02 12:00:00 1604336400.0 (164332.0, 164333.0)\n",
      "86400.0\n",
      "1604250001\n"
     ]
    }
   ],
   "source": [
    "def dayn( timestamp ):\n",
    "    daynf = np.floor(tsNow/10000.)\n",
    "    daync = np.ceil(tsNow/10000.)\n",
    "    print(daynf, daync)\n",
    "    return daynf, daync \n",
    "\n",
    "tsStart = datetime.datetime.strptime('2020-11-01 12:00','%Y-%m-%d %H:%M')\n",
    "tsStart.replace(tzinfo=datetime.timezone.utc)\n",
    "print(tsStart, tsStart.timestamp(), dayn(tsStart.timestamp()))\n",
    "tsEnd = datetime.datetime.strptime('2020-11-02 12:00','%Y-%m-%d %H:%M')\n",
    "tsEnd.replace(tzinfo=datetime.timezone.utc)\n",
    "print(tsEnd, tsEnd.timestamp(), dayn(tsEnd.timestamp()))\n",
    "print(tsEnd.timestamp()-tsStart.timestamp())\n",
    "print(str(int(tsStart.timestamp())+1))"
   ]
  },
  {
   "cell_type": "code",
   "execution_count": 22,
   "metadata": {},
   "outputs": [
    {
     "name": "stdout",
     "output_type": "stream",
     "text": [
      "1643173200.0\n",
      "164317\n"
     ]
    }
   ],
   "source": [
    "# Get the timestamp for the day you want images\n",
    "datestr = '2022-01-26'\n",
    "ts = datetime.datetime.strptime(datestr,'%Y-%m-%d')\n",
    "print(ts.timestamp())\n",
    "timestr = str(ts.timestamp())[0:6]\n",
    "print(timestr)"
   ]
  },
  {
   "cell_type": "code",
   "execution_count": 23,
   "metadata": {},
   "outputs": [
    {
     "name": "stdout",
     "output_type": "stream",
     "text": [
      "164332.0 164333.0\n"
     ]
    },
    {
     "data": {
      "text/plain": [
       "(164332.0, 164333.0)"
      ]
     },
     "execution_count": 23,
     "metadata": {},
     "output_type": "execute_result"
    }
   ],
   "source": [
    "dayn(1642692600)"
   ]
  },
  {
   "cell_type": "code",
   "execution_count": 20,
   "metadata": {},
   "outputs": [
    {
     "name": "stdout",
     "output_type": "stream",
     "text": [
      "<s3fs.core.S3FileSystem object at 0x00000178EE841940>\n"
     ]
    }
   ],
   "source": [
    "fs = fsspec.filesystem('s3')\n",
    "globstring = 'cmgp-coastcam/cameras/caco-01/products/'+timestr+'*.c?.timex.jpg'\n",
    "recent_list=fs.glob(globstring)\n",
    "print(recent_list)"
   ]
  },
  {
   "cell_type": "code",
   "execution_count": 21,
   "metadata": {},
   "outputs": [
    {
     "name": "stdout",
     "output_type": "stream",
     "text": [
      "[]\n"
     ]
    }
   ],
   "source": [
    "print(recent_list)"
   ]
  },
  {
   "cell_type": "markdown",
   "metadata": {},
   "source": [
    "### strategy\n",
    "Not sure what the best strategy is. I think we tend to miss some c2 files, so maybe the best plan it find the last c2 file and the corresponding c1 file."
   ]
  },
  {
   "cell_type": "code",
   "execution_count": 18,
   "metadata": {},
   "outputs": [
    {
     "name": "stdout",
     "output_type": "stream",
     "text": [
      "['cmgp-coastcam/cameras/caco-01/products/1602880201', 'c2', 'timex', 'jpg']\n",
      "cmgp-coastcam/cameras/caco-01/products/1602880201.c1.timex.jpg\n"
     ]
    }
   ],
   "source": [
    "ss = recent_list[-1].split('.')\n",
    "print(ss)\n",
    "c1fn = ss[0]+'.c1.'+ss[2]+'.'+ss[3]\n",
    "print(c1fn)"
   ]
  },
  {
   "cell_type": "code",
   "execution_count": 20,
   "metadata": {},
   "outputs": [
    {
     "name": "stdout",
     "output_type": "stream",
     "text": [
      "cmgp-coastcam/cameras/caco-01/products/1602880201.c1.timex.jpg\n"
     ]
    }
   ],
   "source": [
    "# is there a corresponding c1 file?\n",
    "for e in recent_list:\n",
    "    if e == c1fn:\n",
    "        print(e)"
   ]
  },
  {
   "cell_type": "code",
   "execution_count": 21,
   "metadata": {},
   "outputs": [
    {
     "name": "stdout",
     "output_type": "stream",
     "text": [
      "(2048, 2448, 3)\n"
     ]
    }
   ],
   "source": [
    "\n",
    "with fs.open(c1fn) as f:\n",
    "    im = imageio.imread(f)\n",
    "    \n",
    "print(im.shape)"
   ]
  },
  {
   "cell_type": "code",
   "execution_count": 4,
   "metadata": {},
   "outputs": [
    {
     "name": "stdout",
     "output_type": "stream",
     "text": [
      "['cmgp-coastcam/cameras/caco-01/latest/1594377000.c1.snap.jpg', 'cmgp-coastcam/cameras/caco-01/latest/1594377000.c2.snap.jpg', 'cmgp-coastcam/cameras/caco-01/latest/1594377001.c1.timex.jpg', 'cmgp-coastcam/cameras/caco-01/latest/1594377001.c2.timex.jpg', 'cmgp-coastcam/cameras/caco-01/latest/1594377002.c1.var.jpg', 'cmgp-coastcam/cameras/caco-01/latest/1594377002.c2.var.jpg', 'cmgp-coastcam/cameras/caco-01/latest/1594377003.c1.bright.jpg', 'cmgp-coastcam/cameras/caco-01/latest/1594377003.c2.bright.jpg', 'cmgp-coastcam/cameras/caco-01/latest/1594377004.c1.dark.jpg', 'cmgp-coastcam/cameras/caco-01/latest/1594377004.c2.dark.jpg', 'cmgp-coastcam/cameras/caco-01/latest/1594377005.c1.rundark.jpg', 'cmgp-coastcam/cameras/caco-01/latest/1594377005.c2.rundark.jpg', 'cmgp-coastcam/cameras/caco-01/latest/1594378800.c1.snap.jpg', 'cmgp-coastcam/cameras/caco-01/latest/1594378800.c2.snap.jpg', 'cmgp-coastcam/cameras/caco-01/latest/1594378801.c1.timex.jpg', 'cmgp-coastcam/cameras/caco-01/latest/1594378801.c2.timex.jpg', 'cmgp-coastcam/cameras/caco-01/latest/1594378802.c1.var.jpg', 'cmgp-coastcam/cameras/caco-01/latest/1594378802.c2.var.jpg', 'cmgp-coastcam/cameras/caco-01/latest/1594378803.c1.bright.jpg', 'cmgp-coastcam/cameras/caco-01/latest/1594378803.c2.bright.jpg', 'cmgp-coastcam/cameras/caco-01/latest/1594378804.c1.dark.jpg', 'cmgp-coastcam/cameras/caco-01/latest/1594378804.c2.dark.jpg', 'cmgp-coastcam/cameras/caco-01/latest/1594378805.c1.rundark.jpg', 'cmgp-coastcam/cameras/caco-01/latest/1594378805.c2.rundark.jpg', 'cmgp-coastcam/cameras/caco-01/latest/c1_bright.jpg', 'cmgp-coastcam/cameras/caco-01/latest/c1_dark.jpg', 'cmgp-coastcam/cameras/caco-01/latest/c1_rundark.jpg', 'cmgp-coastcam/cameras/caco-01/latest/c1_snap.jpg', 'cmgp-coastcam/cameras/caco-01/latest/c1_timex.jpg', 'cmgp-coastcam/cameras/caco-01/latest/c1_var.jpg', 'cmgp-coastcam/cameras/caco-01/latest/c2_bright.jpg', 'cmgp-coastcam/cameras/caco-01/latest/c2_dark.jpg', 'cmgp-coastcam/cameras/caco-01/latest/c2_rundark.jpg', 'cmgp-coastcam/cameras/caco-01/latest/c2_snap.jpg', 'cmgp-coastcam/cameras/caco-01/latest/c2_timex.jpg', 'cmgp-coastcam/cameras/caco-01/latest/c2_var.jpg']\n"
     ]
    }
   ],
   "source": [
    "recent_list=fs.glob('cmgp-coastcam/cameras/caco-01/latest/*')\n",
    "print(recent_list)"
   ]
  },
  {
   "cell_type": "code",
   "execution_count": 5,
   "metadata": {},
   "outputs": [],
   "source": [
    "# test writing to the public bucket\n",
    "fs2 = fsspec.filesystem('s3', profile='default')\n",
    "\n",
    "with fs2.open('s3://cmgp-sfm-public-read-bucket/csherwood/foo.txt','w') as fo:\n",
    "    fo.write('test file text')\n",
    "\n",
    "    "
   ]
  }
 ],
 "metadata": {
  "kernelspec": {
   "display_name": "Python 3 (ipykernel)",
   "language": "python",
   "name": "python3"
  },
  "language_info": {
   "codemirror_mode": {
    "name": "ipython",
    "version": 3
   },
   "file_extension": ".py",
   "mimetype": "text/x-python",
   "name": "python",
   "nbconvert_exporter": "python",
   "pygments_lexer": "ipython3",
   "version": "3.9.7"
  }
 },
 "nbformat": 4,
 "nbformat_minor": 4
}
