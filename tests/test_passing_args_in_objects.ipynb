{
 "cells": [
  {
   "cell_type": "code",
   "execution_count": 5,
   "metadata": {},
   "outputs": [
    {
     "name": "stdout",
     "output_type": "stream",
     "text": [
      "testobject\n"
     ]
    },
    {
     "data": {
      "text/plain": [
       "'second_name'"
      ]
     },
     "execution_count": 5,
     "metadata": {},
     "output_type": "execute_result"
    }
   ],
   "source": [
    "metadata = {'name': 'testobject', 'other_name': 'second_name'}\n",
    "\n",
    "\n",
    "class AnObject(object):\n",
    "    \n",
    "    def __init__(self,metadata):\n",
    "        self.name = metadata[\"name\"]\n",
    "        self.metadata = metadata\n",
    "        self.other_name = self._load_other_metadata()\n",
    "        \n",
    "    def _load_other_metadata(self):\n",
    "        other_name = self.metadata[\"other_name\"]\n",
    "        return other_name\n",
    "    \n",
    "obj = AnObject(metadata)\n",
    "\n",
    "print(obj.name)\n",
    "obj.other_name"
   ]
  }
 ],
 "metadata": {
  "kernelspec": {
   "display_name": "Python 3",
   "language": "python",
   "name": "python3"
  },
  "language_info": {
   "codemirror_mode": {
    "name": "ipython",
    "version": 3
   },
   "file_extension": ".py",
   "mimetype": "text/x-python",
   "name": "python",
   "nbconvert_exporter": "python",
   "pygments_lexer": "ipython3",
   "version": "3.7.6"
  }
 },
 "nbformat": 4,
 "nbformat_minor": 4
}
