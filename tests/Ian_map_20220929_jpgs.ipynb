{
 "cells": [
  {
   "cell_type": "code",
   "execution_count": 10,
   "id": "e3062f48",
   "metadata": {},
   "outputs": [
    {
     "data": {
      "text/html": [
       "<div>\n",
       "<style scoped>\n",
       "    .dataframe tbody tr th:only-of-type {\n",
       "        vertical-align: middle;\n",
       "    }\n",
       "\n",
       "    .dataframe tbody tr th {\n",
       "        vertical-align: top;\n",
       "    }\n",
       "\n",
       "    .dataframe thead th {\n",
       "        text-align: right;\n",
       "    }\n",
       "</style>\n",
       "<table border=\"1\" class=\"dataframe\">\n",
       "  <thead>\n",
       "    <tr style=\"text-align: right;\">\n",
       "      <th></th>\n",
       "      <th>image_id</th>\n",
       "      <th>lon</th>\n",
       "      <th>lat</th>\n",
       "      <th>easting</th>\n",
       "      <th>northing</th>\n",
       "      <th>utm_zone</th>\n",
       "      <th>orthometric_height</th>\n",
       "      <th>omega</th>\n",
       "      <th>phi</th>\n",
       "      <th>kappa</th>\n",
       "    </tr>\n",
       "  </thead>\n",
       "  <tbody>\n",
       "    <tr>\n",
       "      <th>0</th>\n",
       "      <td>056277_0929222027153_017_RGB1.jpg</td>\n",
       "      <td>-82.102217</td>\n",
       "      <td>26.880243</td>\n",
       "      <td>390523.743</td>\n",
       "      <td>2973647.347</td>\n",
       "      <td>17</td>\n",
       "      <td>1112.249</td>\n",
       "      <td>21.60065</td>\n",
       "      <td>6.00492</td>\n",
       "      <td>104.66276</td>\n",
       "    </tr>\n",
       "    <tr>\n",
       "      <th>1</th>\n",
       "      <td>056277_0929222027153_017_RGB2.jpg</td>\n",
       "      <td>-82.102218</td>\n",
       "      <td>26.880243</td>\n",
       "      <td>390523.603</td>\n",
       "      <td>2973647.308</td>\n",
       "      <td>17</td>\n",
       "      <td>1112.249</td>\n",
       "      <td>-21.56128</td>\n",
       "      <td>-5.95042</td>\n",
       "      <td>-75.32455</td>\n",
       "    </tr>\n",
       "    <tr>\n",
       "      <th>2</th>\n",
       "      <td>056278_0929222027218_017_RGB1.jpg</td>\n",
       "      <td>-82.097044</td>\n",
       "      <td>26.881563</td>\n",
       "      <td>391038.839</td>\n",
       "      <td>2973789.090</td>\n",
       "      <td>17</td>\n",
       "      <td>1112.265</td>\n",
       "      <td>21.62669</td>\n",
       "      <td>5.99854</td>\n",
       "      <td>104.65846</td>\n",
       "    </tr>\n",
       "    <tr>\n",
       "      <th>3</th>\n",
       "      <td>056278_0929222027218_017_RGB2.jpg</td>\n",
       "      <td>-82.097045</td>\n",
       "      <td>26.881563</td>\n",
       "      <td>391038.714</td>\n",
       "      <td>2973789.055</td>\n",
       "      <td>17</td>\n",
       "      <td>1112.265</td>\n",
       "      <td>-21.53651</td>\n",
       "      <td>-5.95223</td>\n",
       "      <td>-75.33205</td>\n",
       "    </tr>\n",
       "    <tr>\n",
       "      <th>4</th>\n",
       "      <td>056279_0929222027282_017_RGB1.jpg</td>\n",
       "      <td>-82.091877</td>\n",
       "      <td>26.882884</td>\n",
       "      <td>391553.330</td>\n",
       "      <td>2973930.937</td>\n",
       "      <td>17</td>\n",
       "      <td>1110.441</td>\n",
       "      <td>21.57725</td>\n",
       "      <td>5.95596</td>\n",
       "      <td>104.69194</td>\n",
       "    </tr>\n",
       "    <tr>\n",
       "      <th>...</th>\n",
       "      <td>...</td>\n",
       "      <td>...</td>\n",
       "      <td>...</td>\n",
       "      <td>...</td>\n",
       "      <td>...</td>\n",
       "      <td>...</td>\n",
       "      <td>...</td>\n",
       "      <td>...</td>\n",
       "      <td>...</td>\n",
       "      <td>...</td>\n",
       "    </tr>\n",
       "    <tr>\n",
       "      <th>1315</th>\n",
       "      <td>056934_0929222225289_006_RGB2.jpg</td>\n",
       "      <td>-82.249617</td>\n",
       "      <td>26.657253</td>\n",
       "      <td>375639.423</td>\n",
       "      <td>2949082.332</td>\n",
       "      <td>17</td>\n",
       "      <td>858.207</td>\n",
       "      <td>7.45542</td>\n",
       "      <td>-21.13083</td>\n",
       "      <td>19.81888</td>\n",
       "    </tr>\n",
       "    <tr>\n",
       "      <th>1316</th>\n",
       "      <td>056935_0929222225357_006_RGB1.jpg</td>\n",
       "      <td>-82.251902</td>\n",
       "      <td>26.661650</td>\n",
       "      <td>375416.805</td>\n",
       "      <td>2949571.605</td>\n",
       "      <td>17</td>\n",
       "      <td>858.129</td>\n",
       "      <td>-7.41082</td>\n",
       "      <td>21.09957</td>\n",
       "      <td>-160.20682</td>\n",
       "    </tr>\n",
       "    <tr>\n",
       "      <th>1317</th>\n",
       "      <td>056935_0929222225357_006_RGB2.jpg</td>\n",
       "      <td>-82.251901</td>\n",
       "      <td>26.661649</td>\n",
       "      <td>375416.852</td>\n",
       "      <td>2949571.469</td>\n",
       "      <td>17</td>\n",
       "      <td>858.129</td>\n",
       "      <td>7.44943</td>\n",
       "      <td>-21.18929</td>\n",
       "      <td>19.79689</td>\n",
       "    </tr>\n",
       "    <tr>\n",
       "      <th>1318</th>\n",
       "      <td>056936_0929222225425_006_RGB1.jpg</td>\n",
       "      <td>-82.253745</td>\n",
       "      <td>26.666170</td>\n",
       "      <td>375238.284</td>\n",
       "      <td>2950074.054</td>\n",
       "      <td>17</td>\n",
       "      <td>857.970</td>\n",
       "      <td>-7.37047</td>\n",
       "      <td>21.15504</td>\n",
       "      <td>-160.18228</td>\n",
       "    </tr>\n",
       "    <tr>\n",
       "      <th>1319</th>\n",
       "      <td>056936_0929222225425_006_RGB2.jpg</td>\n",
       "      <td>-82.253744</td>\n",
       "      <td>26.666169</td>\n",
       "      <td>375238.329</td>\n",
       "      <td>2950073.916</td>\n",
       "      <td>17</td>\n",
       "      <td>857.970</td>\n",
       "      <td>7.50205</td>\n",
       "      <td>-21.13039</td>\n",
       "      <td>19.80542</td>\n",
       "    </tr>\n",
       "  </tbody>\n",
       "</table>\n",
       "<p>1320 rows × 10 columns</p>\n",
       "</div>"
      ],
      "text/plain": [
       "                               image_id        lon        lat     easting  \\\n",
       "0     056277_0929222027153_017_RGB1.jpg -82.102217  26.880243  390523.743   \n",
       "1     056277_0929222027153_017_RGB2.jpg -82.102218  26.880243  390523.603   \n",
       "2     056278_0929222027218_017_RGB1.jpg -82.097044  26.881563  391038.839   \n",
       "3     056278_0929222027218_017_RGB2.jpg -82.097045  26.881563  391038.714   \n",
       "4     056279_0929222027282_017_RGB1.jpg -82.091877  26.882884  391553.330   \n",
       "...                                 ...        ...        ...         ...   \n",
       "1315  056934_0929222225289_006_RGB2.jpg -82.249617  26.657253  375639.423   \n",
       "1316  056935_0929222225357_006_RGB1.jpg -82.251902  26.661650  375416.805   \n",
       "1317  056935_0929222225357_006_RGB2.jpg -82.251901  26.661649  375416.852   \n",
       "1318  056936_0929222225425_006_RGB1.jpg -82.253745  26.666170  375238.284   \n",
       "1319  056936_0929222225425_006_RGB2.jpg -82.253744  26.666169  375238.329   \n",
       "\n",
       "         northing  utm_zone  orthometric_height     omega       phi      kappa  \n",
       "0     2973647.347        17            1112.249  21.60065   6.00492  104.66276  \n",
       "1     2973647.308        17            1112.249 -21.56128  -5.95042  -75.32455  \n",
       "2     2973789.090        17            1112.265  21.62669   5.99854  104.65846  \n",
       "3     2973789.055        17            1112.265 -21.53651  -5.95223  -75.33205  \n",
       "4     2973930.937        17            1110.441  21.57725   5.95596  104.69194  \n",
       "...           ...       ...                 ...       ...       ...        ...  \n",
       "1315  2949082.332        17             858.207   7.45542 -21.13083   19.81888  \n",
       "1316  2949571.605        17             858.129  -7.41082  21.09957 -160.20682  \n",
       "1317  2949571.469        17             858.129   7.44943 -21.18929   19.79689  \n",
       "1318  2950074.054        17             857.970  -7.37047  21.15504 -160.18228  \n",
       "1319  2950073.916        17             857.970   7.50205 -21.13039   19.80542  \n",
       "\n",
       "[1320 rows x 10 columns]"
      ]
     },
     "execution_count": 10,
     "metadata": {},
     "output_type": "execute_result"
    }
   ],
   "source": [
    "import pandas as pd\n",
    "import matplotlib.pyplot as plt\n",
    "\n",
    "df = pd.read_csv('d:/crs/proj/2022_Hurricane_Ian/NOAA_20220929a/events_UTM17.csv')\n",
    "df"
   ]
  },
  {
   "cell_type": "code",
   "execution_count": 12,
   "id": "6e1df1f4",
   "metadata": {},
   "outputs": [],
   "source": [
    "lon = df['lon'].values\n",
    "lat = df['lat'].values"
   ]
  },
  {
   "cell_type": "code",
   "execution_count": 23,
   "id": "2389c757",
   "metadata": {},
   "outputs": [
    {
     "data": {
      "text/plain": [
       "[<matplotlib.lines.Line2D at 0x286f6c823e0>]"
      ]
     },
     "execution_count": 23,
     "metadata": {},
     "output_type": "execute_result"
    },
    {
     "data": {
      "image/png": "[encoded data removed]",
      "text/plain": [
       "<Figure size 432x288 with 1 Axes>"
      ]
     },
     "metadata": {
      "needs_background": "light"
     },
     "output_type": "display_data"
    }
   ],
   "source": [
    "plt.plot(lon,lat,'.')\n",
    "plt.plot(lon[1070:],lat[1070:],'.r')"
   ]
  },
  {
   "cell_type": "code",
   "execution_count": 25,
   "id": "6fabcbc1",
   "metadata": {},
   "outputs": [
    {
     "name": "stdout",
     "output_type": "stream",
     "text": [
      "1320 in database\n"
     ]
    }
   ],
   "source": [
    "new_dir = 'd:/crs/proj/2022_Hurricane_Ian/NOAA_20220929a/jpgs_sanibel/'\n",
    "if not os.path.exists(new_dir):\n",
    "    os.makedirs(new_dir)\n",
    "\n",
    "nfiles = df.shape[0]\n",
    "# dfs = df.sample(nfiles)\n",
    "print(nfiles, 'in database')"
   ]
  },
  {
   "cell_type": "code",
   "execution_count": 27,
   "id": "54c5c1f9",
   "metadata": {},
   "outputs": [
    {
     "data": {
      "text/plain": [
       "image_id              056812_0929222202208_013_RGB1.jpg\n",
       "lon                                          -82.094467\n",
       "lat                                           26.418189\n",
       "easting                                       390854.95\n",
       "northing                                    2922460.821\n",
       "utm_zone                                             17\n",
       "orthometric_height                              798.793\n",
       "omega                                         -17.99073\n",
       "phi                                            13.46922\n",
       "kappa                                        -125.99412\n",
       "Name: 1070, dtype: object"
      ]
     },
     "execution_count": 27,
     "metadata": {},
     "output_type": "execute_result"
    }
   ],
   "source": [
    "df.loc[1070]"
   ]
  },
  {
   "cell_type": "code",
   "execution_count": null,
   "id": "d4e4cb26",
   "metadata": {},
   "outputs": [],
   "source": []
  }
 ],
 "metadata": {
  "kernelspec": {
   "display_name": "Python 3 (ipykernel)",
   "language": "python",
   "name": "python3"
  },
  "language_info": {
   "codemirror_mode": {
    "name": "ipython",
    "version": 3
   },
   "file_extension": ".py",
   "mimetype": "text/x-python",
   "name": "python",
   "nbconvert_exporter": "python",
   "pygments_lexer": "ipython3",
   "version": "3.10.4"
  }
 },
 "nbformat": 4,
 "nbformat_minor": 5
}
