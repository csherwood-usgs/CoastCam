{
 "cells": [
  {
   "cell_type": "code",
   "execution_count": 1,
   "metadata": {},
   "outputs": [],
   "source": [
    "import imageio\n",
    "import numpy as np\n",
    "from scipy.interpolate import RectBivariateSpline, RegularGridInterpolator\n",
    "from scipy.ndimage.morphology import distance_transform_edt\n",
    "\n",
    "def assemble_image_weights( K ):\n",
    "    \"\"\"Return weight matrix W used for image merging.\n",
    "\n",
    "    Notes:\n",
    "        - Calculates Euclidean distance for each entry to nearest non-zero pixel value\n",
    "        - edt: Euclidean Distance Transform\n",
    "\n",
    "    Arguments:\n",
    "        K (np.ndarray): Pixel intensity\n",
    "\n",
    "    Returns:\n",
    "        W (np.ndarray): Pixel weights used for merging images\n",
    "    \"\"\"\n",
    "    # NaN in K indicates no pixel value at that location\n",
    "    # edt finds euclidean distance from no value to closest value\n",
    "    # so, find the nans, then invert so it works with the function\n",
    "    W = distance_transform_edt(~np.isnan(K[:, :, 0]))\n",
    "\n",
    "    # Not sure when this would happen, but I'm including it because it's in the MATLAB code\n",
    "    if np.isinf(np.max(W)):\n",
    "        W[:] = 1\n",
    "\n",
    "    W = W / np.max(W)\n",
    "    #W[W == 0] = np.nan\n",
    "\n",
    "    return W\n",
    "\n",
    "def apply_weights_to_pixels( K, W ):\n",
    "    \"\"\"Return pixel intensities (K) weighted by W.\n",
    "\n",
    "    Arguments:\n",
    "        K (np.ndarray): Pixel intensity\n",
    "        W (np.ndarray): Pixel weights used for merging images\n",
    "\n",
    "    Returns:\n",
    "        K_weighted(np.ndarray): Pixel intensity weighted for merging\n",
    "    \"\"\"\n",
    "    W_nonan = W.copy()\n",
    "    #W_nonan[np.isnan(W_nonan)] = 0\n",
    "    K_weighted = K*W_nonan[:, :, np.newaxis]\n",
    "\n",
    "    return K_weighted\n"
   ]
  },
  {
   "cell_type": "code",
   "execution_count": 4,
   "metadata": {},
   "outputs": [
    {
     "name": "stdout",
     "output_type": "stream",
     "text": [
      "Kp\n",
      "(5, 5, 3)\n",
      "[[0. 0. 0. 0. 0.]\n",
      " [0. 0. 0. 0. 1.]\n",
      " [0. 0. 0. 1. 1.]\n",
      " [0. 0. 1. 1. 1.]\n",
      " [0. 1. 1. 1. 1.]]\n",
      "W\n",
      "[[0.15617376 0.22086305 0.34921515 0.4938648  0.64392092]\n",
      " [0.31234752 0.34921515 0.4417261  0.56309251 0.6984303 ]\n",
      " [0.46852129 0.4938648  0.56309251 0.66258916 0.78086881]\n",
      " [0.62469505 0.64392092 0.6984303  0.78086881 0.88345221]\n",
      " [0.78086881 0.79633306 0.84102145 0.91064169 1.        ]]\n",
      "Kw\n",
      "[[0.         0.         0.         0.         0.        ]\n",
      " [0.         0.         0.         0.         0.6984303 ]\n",
      " [0.         0.         0.         0.66258916 0.78086881]\n",
      " [0.         0.         0.6984303  0.78086881 0.88345221]\n",
      " [0.         0.79633306 0.84102145 0.91064169 1.        ]]\n",
      "[[0. 0. 0. 0. 0.]\n",
      " [0. 0. 0. 0. 1.]\n",
      " [0. 0. 0. 1. 1.]\n",
      " [0. 0. 1. 1. 1.]\n",
      " [0. 1. 1. 1. 1.]]\n"
     ]
    }
   ],
   "source": [
    "\n",
    "K = np.zeros((5,5))\n",
    "\n",
    "K[1,4]=1\n",
    "K[2,3:]=1\n",
    "K[3,2:]=1\n",
    "K[4,1:]=1\n",
    "Kp = np.tile(K[:,:,None],[1,1,3])\n",
    "print('Kp')\n",
    "print(np.shape(Kp))\n",
    "print(Kp[:,:,0])\n",
    "\n",
    "W = assemble_image_weights( Kp )\n",
    "print('W')\n",
    "print(W[:,:])\n",
    "\n",
    "Kw = apply_weights_to_pixels( Kp, W )\n",
    "print('Kw')\n",
    "print(Kw[:,:,0])\n",
    "\n",
    "# add up weights and pixel itensities\n",
    "totalW = np.zeros_like(Kp)\n",
    "M = np.zeros_like(Kp)\n",
    "totalW = totalW + W[:, :, np.newaxis]\n",
    "#K_weighted[np.isnan(K_weighted)] = 0\n",
    "M = M + Kw\n",
    "\n",
    "# stop divide by 0 warnings\n",
    "with np.errstate(invalid='ignore'):\n",
    "    M = M / totalW\n",
    "print(M[:,:,0])"
   ]
  }
 ],
 "metadata": {
  "kernelspec": {
   "display_name": "Python 3.10.4 ('CRS')",
   "language": "python",
   "name": "python3"
  },
  "language_info": {
   "codemirror_mode": {
    "name": "ipython",
    "version": 3
   },
   "file_extension": ".py",
   "mimetype": "text/x-python",
   "name": "python",
   "nbconvert_exporter": "python",
   "pygments_lexer": "ipython3",
   "version": "3.10.4"
  },
  "vscode": {
   "interpreter": {
    "hash": "5ed5042986eca359ffa00aa9596dc65fdd0c03513974f52f425db31bc61e3fb9"
   }
  }
 },
 "nbformat": 4,
 "nbformat_minor": 4
}
