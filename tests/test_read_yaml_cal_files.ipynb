{
 "cells": [
  {
   "cell_type": "code",
   "execution_count": 1,
   "metadata": {},
   "outputs": [],
   "source": [
    "# test reading YAML into dict\n",
    "import numpy as np\n",
    "import yaml"
   ]
  },
  {
   "cell_type": "code",
   "execution_count": 2,
   "metadata": {},
   "outputs": [],
   "source": [
    "#### Define some helper functions"
   ]
  },
  {
   "cell_type": "code",
   "execution_count": 3,
   "metadata": {},
   "outputs": [],
   "source": [
    "def yaml2dict(yamlfile):\n",
    "    \"\"\"Import contents of a YAML file as a dict\n",
    "    \n",
    "    Input:\n",
    "        yamlfile (str): YAML file to read\n",
    "        \n",
    "    Returns:\n",
    "        dict interpreted from YAML file\n",
    "    \"\"\"\n",
    "    dictname = None\n",
    "    with open(yamlfile, \"r\") as infile:\n",
    "        try:\n",
    "            dictname = yaml.safe_load(infile)\n",
    "        except yaml.YAMLerror as exc:\n",
    "            print(exc)\n",
    "            \n",
    "    return dictname \n",
    "\n",
    "def recursive_print_dict( d, indent = 0 ):\n",
    "    \"\"\"Print contents of a nested dict\n",
    "    \n",
    "    Input:\n",
    "        d (dict) - dict to be printed\n",
    "        indent (int) - initial indent level\n",
    "        \n",
    "    Returns:\n",
    "        null\n",
    "    \n",
    "    https://stackoverflow.com/questions/62040540/how-to-print-a-nested-dictionary-in-yaml-format\n",
    "    \"\"\"\n",
    "    for k, v in d.items():\n",
    "        if isinstance(v, dict):\n",
    "            print(\"  \" * indent, f\"{k}:\")\n",
    "            recursive_print_dict(v, indent+1)\n",
    "        else:\n",
    "            print(\"  \" * indent, f\"{k}:{v}\")"
   ]
  },
  {
   "cell_type": "code",
   "execution_count": 4,
   "metadata": {},
   "outputs": [
    {
     "name": "stdout",
     "output_type": "stream",
     "text": [
      "intrinsics:\n",
      " NU:2448\n",
      " NV:2048\n",
      " c0U:1175.208918\n",
      " c0V:1086.601829\n",
      " fx:3589.043204\n",
      " fy:3575.485357\n",
      " d1:-0.230895\n",
      " d2:0.198019\n",
      " d3:0.0\n",
      " t1:0.000884\n",
      " t2:-0.000116\n",
      " cal_reference:CalTech Calibration Toolbox\n",
      " cal_valid_date:2021-02-25 00:00\n",
      " cal_date:2021-02-25\n",
      " cal_contact:csherwood@usgs.gov\n",
      "Value of intrinsics[\"NU\"] is: 2448\n"
     ]
    }
   ],
   "source": [
    "# read internal calibration file\n",
    "intrinsics = yaml2dict(r\"../data/2021-02-25_CACO02_C1_IO.yml\")\n",
    "print(\"intrinsics:\")\n",
    "recursive_print_dict(intrinsics)\n",
    "\n",
    "print('Value of intrinsics[\"NU\"] is:', intrinsics['NU'])"
   ]
  },
  {
   "cell_type": "code",
   "execution_count": 5,
   "metadata": {},
   "outputs": [
    {
     "name": "stdout",
     "output_type": "stream",
     "text": [
      "extrinsics:\n",
      "['NU', 'NV', 'c0U', 'c0V', 'fx', 'fy', 'd1', 'd2', 'd3', 't1', 't2', 'cal_reference', 'cal_valid_date', 'cal_date', 'cal_contact']\n",
      "extrinsics['x']['value'] = 420097.474\n"
     ]
    }
   ],
   "source": [
    "extrinsics = yaml2dict(r\"../data/2021-03-17_CACO02_C2_EO.yml\")\n",
    "print(\"extrinsics:\")\n",
    "print(list(intrinsics.keys()))\n",
    "print(\"extrinsics['x']['value'] = {}\".format(extrinsics['x']['value']))"
   ]
  },
  {
   "cell_type": "code",
   "execution_count": 6,
   "metadata": {},
   "outputs": [
    {
     "name": "stdout",
     "output_type": "stream",
     "text": [
      " x:\n",
      "   value:420097.474\n",
      "   units:meters\n",
      "   long_name:UTM Zone 19N Easting (m)\n",
      "   epsg:26919\n",
      " y:\n",
      "   value:4638305.461\n",
      "   units:meters\n",
      "   long_name:UTM Zone 19N Northing (m)\n",
      "   epsg:26919\n",
      " z:\n",
      "   value:19.585\n",
      "   units:meters\n",
      "   long_name:Elevation (m NAVD88)\n",
      "   epsg:5703\n",
      " a:\n",
      "   value:1.023\n",
      "   units:degrees\n",
      "   long_name:Azimuth (degrees geographic convention)\n",
      " t:\n",
      "   value:1.184\n",
      "   units:degrees\n",
      "   long_name:Tilt (degrees up from nadir)\n",
      " r:\n",
      "   value:0.058\n",
      "   units:degrees\n",
      "   long_name:Roll (degrees CCW from horizontal) (check this)\n",
      " cal_date:2021-03-17\n",
      " cal_valid_datetime:2021-03-17 00:00\n",
      " cal_contact:csherwood@usgs.gov\n",
      " FAN:2021-FA-xx\n"
     ]
    }
   ],
   "source": [
    "recursive_print_dict(extrinsics)"
   ]
  },
  {
   "cell_type": "code",
   "execution_count": null,
   "metadata": {},
   "outputs": [],
   "source": []
  }
 ],
 "metadata": {
  "kernelspec": {
   "display_name": "Python 3 (ipykernel)",
   "language": "python",
   "name": "python3"
  },
  "language_info": {
   "codemirror_mode": {
    "name": "ipython",
    "version": 3
   },
   "file_extension": ".py",
   "mimetype": "text/x-python",
   "name": "python",
   "nbconvert_exporter": "python",
   "pygments_lexer": "ipython3",
   "version": "3.9.7"
  }
 },
 "nbformat": 4,
 "nbformat_minor": 4
}
