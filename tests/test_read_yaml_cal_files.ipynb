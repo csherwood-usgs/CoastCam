{
 "cells": [
  {
   "cell_type": "code",
   "execution_count": 1,
   "metadata": {},
   "outputs": [
    {
     "name": "stdout",
     "output_type": "stream",
     "text": [
      "{'NU': 2448, 'NV': 2048, 'c0U': 1175.208918, 'c0V': 1086.601829, 'fx': 3589.043204, 'fy': 3575.485357, 'd1': -0.230895, 'd2': 0.198019, 'd3': 0.0, 't1': 0.000884, 't2': -0.000116, 'cal_date': '2021-02-25', 'cal_contact': 'csherwood@usgs.gov'}\n"
     ]
    }
   ],
   "source": [
    "# test reading json into dict\n",
    "import numpy as np\n",
    "import yaml\n",
    "\n",
    "with open(r\"../data/2021-02-25_CACO02_C1_IO.yml\", 'r') as infile:\n",
    "    try:\n",
    "        intrinsics = yaml.safe_load(infile)\n",
    "        print(intrinsics)\n",
    "    except yaml.YAMLError as exc:\n",
    "        print(exc)"
   ]
  },
  {
   "cell_type": "code",
   "execution_count": 2,
   "metadata": {},
   "outputs": [
    {
     "name": "stdout",
     "output_type": "stream",
     "text": [
      "Intrinsics:\n",
      "{'NU': 2448, 'NV': 2048, 'c0U': 1175.208918, 'c0V': 1086.601829, 'fx': 3589.043204, 'fy': 3575.485357, 'd1': -0.230895, 'd2': 0.198019, 'd3': 0.0, 't1': 0.000884, 't2': -0.000116, 'cal_date': '2021-02-25', 'cal_contact': 'csherwood@usgs.gov'}\n",
      "Value of intrinsics[\"NU\"] is: 2448\n"
     ]
    }
   ],
   "source": [
    "def yaml2dict(yamlfile):\n",
    "    \"\"\"Import contents of a YAML file as a dict\n",
    "    \n",
    "    Args:\n",
    "        yamlfile (str): YAML file to read\n",
    "        \n",
    "    Returns:\n",
    "        dict interpreted from YAML file\n",
    "        \n",
    "    Raises:\n",
    "    \n",
    "    \"\"\"\n",
    "    dictname = None\n",
    "    with open(yamlfile, \"r\") as infile:\n",
    "        try:\n",
    "            dictname = yaml.safe_load(infile)\n",
    "        except yaml.YAMLerror as exc:\n",
    "            print(exc)\n",
    "            \n",
    "    return dictname \n",
    "\n",
    "# read individual calibration files\n",
    "intrinsics = yaml2dict(r\"../data/2021-02-25_CACO02_C1_IO.yml\")\n",
    "print(\"Intrinsics:\")\n",
    "print(intrinsics)\n",
    "print('Value of intrinsics[\"NU\"] is:', intrinsics['NU'])"
   ]
  }
 ],
 "metadata": {
  "kernelspec": {
   "display_name": "Python 3",
   "language": "python",
   "name": "python3"
  },
  "language_info": {
   "codemirror_mode": {
    "name": "ipython",
    "version": 3
   },
   "file_extension": ".py",
   "mimetype": "text/x-python",
   "name": "python",
   "nbconvert_exporter": "python",
   "pygments_lexer": "ipython3",
   "version": "3.7.6"
  }
 },
 "nbformat": 4,
 "nbformat_minor": 4
}
