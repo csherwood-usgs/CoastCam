{
 "cells": [
  {
   "cell_type": "code",
   "execution_count": 1,
   "id": "5f33ca11",
   "metadata": {},
   "outputs": [],
   "source": [
    "import xarray as xr\n",
    "import numpy as np\n",
    "import datetime\n",
    "import matplotlib.pyplot as plt\n"
   ]
  },
  {
   "cell_type": "code",
   "execution_count": 2,
   "id": "692c9248",
   "metadata": {},
   "outputs": [],
   "source": [
    "# most recent forecast\n",
    "url = 'http://fvcom.smast.umassd.edu:8080/thredds/dodsC/FVCOM/NECOFS/Forecasts/NECOFS_GOM3_FORECAST.nc'\n",
    "ds = xr.open_dataset(url, drop_variables='siglay')\n",
    "\n",
    "# 30-year hindcast, irivers, but no tides\n",
    "# url = 'http://fvcom.smast.umassd.edu:8080/thredds/dodsC/fvcom/hindcasts/30yr_gom3'\n",
    "# ds = xr.open_dataset(url, drop_variables=('siglev','siglay'),decode_times=False)"
   ]
  },
  {
   "cell_type": "code",
   "execution_count": 3,
   "id": "0ad533d8",
   "metadata": {},
   "outputs": [
    {
     "data": {
      "text/html": [
       "<pre>&lt;xarray.Dataset&gt;\n",
       "Dimensions:      (nele: 99137, node: 53087, siglay: 40, three: 3, time: 145)\n",
       "Coordinates:\n",
       "    lon          (node) float32 ...\n",
       "    lat          (node) float32 ...\n",
       "    lonc         (nele) float32 ...\n",
       "    latc         (nele) float32 ...\n",
       "  * time         (time) datetime64[ns] 2021-11-27 ... 2021-12-03\n",
       "Dimensions without coordinates: nele, node, siglay, three\n",
       "Data variables:\n",
       "    x            (node) float32 ...\n",
       "    y            (node) float32 ...\n",
       "    xc           (nele) float32 ...\n",
       "    yc           (nele) float32 ...\n",
       "    h            (node) float32 ...\n",
       "    nv           (three, nele) int32 ...\n",
       "    Times        (time) |S64 ...\n",
       "    zeta         (time, node) float32 ...\n",
       "    nbe          (three, nele) int32 ...\n",
       "    aw0          (three, nele) float32 ...\n",
       "    awx          (three, nele) float32 ...\n",
       "    awy          (three, nele) float32 ...\n",
       "    u            (time, siglay, nele) float32 ...\n",
       "    v            (time, siglay, nele) float32 ...\n",
       "    ww           (time, siglay, nele) float32 ...\n",
       "    ua           (time, nele) float32 ...\n",
       "    va           (time, nele) float32 ...\n",
       "    temp         (time, siglay, node) float32 ...\n",
       "    salinity     (time, siglay, node) float32 ...\n",
       "    icing_0kts   (time, node) float32 ...\n",
       "    icing_10kts  (time, node) float32 ...\n",
       "    fvcom_mesh   int32 ...\n",
       "Attributes:\n",
       "    title:                           NECOFS GOM3 (FVCOM) - Northeast US - Lat...\n",
       "    institution:                     School for Marine Science and Technology\n",
       "    source:                          FVCOM_3.0\n",
       "    history:                         Sun Nov 28 06:16:28 2021: ncrcat -O -v x...\n",
       "    references:                      http://fvcom.smast.umassd.edu, http://co...\n",
       "    Conventions:                     CF-1.0, UGRID-1.0\n",
       "    CoordinateSystem:                Cartesian\n",
       "    CoordinateProjection:            init=nad83:1802\n",
       "    Tidal_Forcing:                   Tidal Forcing Time Series Title: JULIAN ...\n",
       "    River_Forcing:                   THERE ARE NO RIVERS IN THIS MODEL\n",
       "    GroundWater_Forcing:             GROUND WATER FORCING IS OFF!\n",
       "    Surface_Heat_Forcing:            FVCOM variable surface heat forcing file...\n",
       "    Surface_Wind_Forcing:            FVCOM variable surface Wind forcing:\\nFI...\n",
       "    Surface_PrecipEvap_Forcing:      FVCOM periodic surface precip forcing:\\n...\n",
       "    Icing_Model_Forcing:             FVCOM variable surface icing forcing:\\nF...\n",
       "    Special_Physical_processes:      long shore flow adjustment for thermal w...\n",
       "    nco_openmp_thread_number:        1\n",
       "    summary:                         Latest forecast from the FVCOM Northeast...\n",
       "    DODS.strlen:                     26\n",
       "    DODS.dimName:                    DateStrLen\n",
       "    DODS_EXTRA.Unlimited_Dimension:  time</pre>"
      ],
      "text/plain": [
       "<xarray.Dataset>\n",
       "Dimensions:      (nele: 99137, node: 53087, siglay: 40, three: 3, time: 145)\n",
       "Coordinates:\n",
       "    lon          (node) float32 ...\n",
       "    lat          (node) float32 ...\n",
       "    lonc         (nele) float32 ...\n",
       "    latc         (nele) float32 ...\n",
       "  * time         (time) datetime64[ns] 2021-11-27 ... 2021-12-03\n",
       "Dimensions without coordinates: nele, node, siglay, three\n",
       "Data variables:\n",
       "    x            (node) float32 ...\n",
       "    y            (node) float32 ...\n",
       "    xc           (nele) float32 ...\n",
       "    yc           (nele) float32 ...\n",
       "    h            (node) float32 ...\n",
       "    nv           (three, nele) int32 ...\n",
       "    Times        (time) |S64 ...\n",
       "    zeta         (time, node) float32 ...\n",
       "    nbe          (three, nele) int32 ...\n",
       "    aw0          (three, nele) float32 ...\n",
       "    awx          (three, nele) float32 ...\n",
       "    awy          (three, nele) float32 ...\n",
       "    u            (time, siglay, nele) float32 ...\n",
       "    v            (time, siglay, nele) float32 ...\n",
       "    ww           (time, siglay, nele) float32 ...\n",
       "    ua           (time, nele) float32 ...\n",
       "    va           (time, nele) float32 ...\n",
       "    temp         (time, siglay, node) float32 ...\n",
       "    salinity     (time, siglay, node) float32 ...\n",
       "    icing_0kts   (time, node) float32 ...\n",
       "    icing_10kts  (time, node) float32 ...\n",
       "    fvcom_mesh   int32 ...\n",
       "Attributes:\n",
       "    title:                           NECOFS GOM3 (FVCOM) - Northeast US - Lat...\n",
       "    institution:                     School for Marine Science and Technology\n",
       "    source:                          FVCOM_3.0\n",
       "    history:                         Sun Nov 28 06:16:28 2021: ncrcat -O -v x...\n",
       "    references:                      http://fvcom.smast.umassd.edu, http://co...\n",
       "    Conventions:                     CF-1.0, UGRID-1.0\n",
       "    CoordinateSystem:                Cartesian\n",
       "    CoordinateProjection:            init=nad83:1802\n",
       "    Tidal_Forcing:                   Tidal Forcing Time Series Title: JULIAN ...\n",
       "    River_Forcing:                   THERE ARE NO RIVERS IN THIS MODEL\n",
       "    GroundWater_Forcing:             GROUND WATER FORCING IS OFF!\n",
       "    Surface_Heat_Forcing:            FVCOM variable surface heat forcing file...\n",
       "    Surface_Wind_Forcing:            FVCOM variable surface Wind forcing:\\nFI...\n",
       "    Surface_PrecipEvap_Forcing:      FVCOM periodic surface precip forcing:\\n...\n",
       "    Icing_Model_Forcing:             FVCOM variable surface icing forcing:\\nF...\n",
       "    Special_Physical_processes:      long shore flow adjustment for thermal w...\n",
       "    nco_openmp_thread_number:        1\n",
       "    summary:                         Latest forecast from the FVCOM Northeast...\n",
       "    DODS.strlen:                     26\n",
       "    DODS.dimName:                    DateStrLen\n",
       "    DODS_EXTRA.Unlimited_Dimension:  time"
      ]
     },
     "execution_count": 3,
     "metadata": {},
     "output_type": "execute_result"
    }
   ],
   "source": [
    "ds"
   ]
  },
  {
   "cell_type": "code",
   "execution_count": 4,
   "id": "c00e7212",
   "metadata": {},
   "outputs": [
    {
     "name": "stdout",
     "output_type": "stream",
     "text": [
      "2021-11-27T00:00:00.000000000\n",
      "2021-12-03T00:00:00.000000000\n"
     ]
    }
   ],
   "source": [
    "print(ds.time[0].values)\n",
    "print(ds.time[-1].values)"
   ]
  },
  {
   "cell_type": "code",
   "execution_count": 5,
   "id": "c94d84ec",
   "metadata": {},
   "outputs": [
    {
     "name": "stdout",
     "output_type": "stream",
     "text": [
      "-70.05605 42.06413 26.329\n"
     ]
    }
   ],
   "source": [
    "# Find the indices of the points in (x,y) closest to the points in (xi,yi)\n",
    "def nearxyn(x,y,xi,yi):    \n",
    "    ind=np.ones(len(xi),dtype=int)\n",
    "    for i in np.arange(len(xi)):\n",
    "        dist=np.sqrt((x-xi[i])**2+(y-yi[i])**2)\n",
    "        ind[i]=dist.argmin()    \n",
    "    return ind\n",
    "\n",
    "# Find the indices of the point in (x,y) closest to the point (xi,yi)\n",
    "def nearxy(x,y,xi,yi):\n",
    "    dist=np.sqrt((x-xi)**2+(y-yi)**2)\n",
    "    ind=dist.argmin()     \n",
    "    return ind\n",
    "\n",
    "coords = [-70.0643, 42.0643]\n",
    "\n",
    "# Query to find closest NECOFS nodes to station locations\n",
    "nodeid = nearxy(ds.lon,ds.lat,coords[0],coords[1])\n",
    "print(ds.lon[nodeid].values,ds.lat[nodeid].values,ds.h[nodeid].values)"
   ]
  },
  {
   "cell_type": "code",
   "execution_count": 6,
   "id": "359845c2",
   "metadata": {},
   "outputs": [
    {
     "data": {
      "text/plain": [
       "[<matplotlib.lines.Line2D at 0x1b7c5465448>]"
      ]
     },
     "execution_count": 6,
     "metadata": {},
     "output_type": "execute_result"
    },
    {
     "data": {
      "image/png": "[encoded data removed]",
      "text/plain": [
       "<Figure size 432x288 with 1 Axes>"
      ]
     },
     "metadata": {
      "needs_background": "light"
     },
     "output_type": "display_data"
    }
   ],
   "source": [
    "# pick a specific time\n",
    "ds.sel(time=\"2021-11-27T12:00:00.000000\")\n",
    "# or a time slice\n",
    "dst = ds.sel(time=slice(\"2021-11-27T12:00:00.000000\",\"2021-11-27T18:00:00.000000\"))\n",
    "\n",
    "# could grab as arrays and plot\n",
    "#t = dst.time[:].values\n",
    "#zeta = dst.zeta[:,nodeid].values\n",
    "#plt.plot(t,zeta)\n",
    "\n",
    "# but this is easier\n",
    "zeta = dst.zeta[:,nodeid]\n",
    "zeta.plot()"
   ]
  }
 ],
 "metadata": {
  "kernelspec": {
   "display_name": "Python 3 (ipykernel)",
   "language": "python",
   "name": "python3"
  },
  "language_info": {
   "codemirror_mode": {
    "name": "ipython",
    "version": 3
   },
   "file_extension": ".py",
   "mimetype": "text/x-python",
   "name": "python",
   "nbconvert_exporter": "python",
   "pygments_lexer": "ipython3",
   "version": "3.7.6"
  }
 },
 "nbformat": 4,
 "nbformat_minor": 5
}
