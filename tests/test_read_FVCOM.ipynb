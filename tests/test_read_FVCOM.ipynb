{
 "cells": [
  {
   "cell_type": "code",
   "execution_count": 1,
   "id": "5f33ca11",
   "metadata": {},
   "outputs": [],
   "source": [
    "import xarray as xr\n",
    "import numpy as np\n",
    "import datetime\n",
    "import matplotlib.pyplot as plt\n"
   ]
  },
  {
   "cell_type": "code",
   "execution_count": 2,
   "id": "692c9248",
   "metadata": {},
   "outputs": [],
   "source": [
    "hindcast = True\n",
    "\n",
    "if(not hindcast):\n",
    "# most recent forecast\n",
    "    url = 'http://fvcom.smast.umassd.edu:8080/thredds/dodsC/FVCOM/NECOFS/Forecasts/NECOFS_GOM3_FORECAST.nc'\n",
    "    ds = xr.open_dataset(url, drop_variables='siglay')\n",
    "else:\n",
    "    # 30-year hindcast, irivers, but no tides\n",
    "    url = 'http://fvcom.smast.umassd.edu:8080/thredds/dodsC/fvcom/hindcasts/30yr_gom3'\n",
    "    ds = xr.open_dataset(url, drop_variables=('siglev','siglay'),decode_times=False)"
   ]
  },
  {
   "cell_type": "code",
   "execution_count": 3,
   "id": "0ad533d8",
   "metadata": {},
   "outputs": [
    {
     "data": {
      "text/html": [
       "<pre>&lt;xarray.Dataset&gt;\n",
       "Dimensions:        (four: 4, maxelem: 9, maxnode: 11, nele: 90415, node: 48451, siglay: 45, siglev: 46, three: 3, time: 342348)\n",
       "Coordinates:\n",
       "    lon            (node) float32 ...\n",
       "    lat            (node) float32 ...\n",
       "    lonc           (nele) float32 ...\n",
       "    latc           (nele) float32 ...\n",
       "  * time           (time) float32 43509.0 43509.043 ... 57753.957 57754.0\n",
       "Dimensions without coordinates: four, maxelem, maxnode, nele, node, siglay, siglev, three\n",
       "Data variables:\n",
       "    nprocs         int32 ...\n",
       "    partition      (nele) int32 ...\n",
       "    x              (node) float32 ...\n",
       "    y              (node) float32 ...\n",
       "    xc             (nele) float32 ...\n",
       "    yc             (nele) float32 ...\n",
       "    h              (node) float32 ...\n",
       "    nv             (three, nele) int32 ...\n",
       "    nbe            (three, nele) int32 ...\n",
       "    ntsn           (node) int32 ...\n",
       "    nbsn           (maxnode, node) int32 ...\n",
       "    ntve           (node) int32 ...\n",
       "    nbve           (maxelem, node) int32 ...\n",
       "    a1u            (four, nele) float32 ...\n",
       "    a2u            (four, nele) float32 ...\n",
       "    aw0            (three, nele) float32 ...\n",
       "    awx            (three, nele) float32 ...\n",
       "    awy            (three, nele) float32 ...\n",
       "    art2           (node) float32 ...\n",
       "    art1           (node) float32 ...\n",
       "    iint           (time) int32 ...\n",
       "    Itime          (time) int32 ...\n",
       "    Itime2         (time) int32 ...\n",
       "    Times          (time) |S64 ...\n",
       "    zeta           (time, node) float32 ...\n",
       "    file_date      (time) |S64 ...\n",
       "    u              (time, siglay, nele) float32 ...\n",
       "    v              (time, siglay, nele) float32 ...\n",
       "    omega          (time, siglev, node) float32 ...\n",
       "    ww             (time, siglay, nele) float32 ...\n",
       "    ua             (time, nele) float32 ...\n",
       "    va             (time, nele) float32 ...\n",
       "    temp           (time, siglay, node) float32 ...\n",
       "    salinity       (time, siglay, node) float32 ...\n",
       "    km             (time, siglev, node) float32 ...\n",
       "    kh             (time, siglev, node) float32 ...\n",
       "    kq             (time, siglev, node) float32 ...\n",
       "    q2             (time, siglev, node) float32 ...\n",
       "    q2l            (time, siglev, node) float32 ...\n",
       "    l              (time, siglev, node) float32 ...\n",
       "    short_wave     (time, node) float32 ...\n",
       "    net_heat_flux  (time, node) float32 ...\n",
       "    uwind_stress   (time, nele) float32 ...\n",
       "    vwind_stress   (time, nele) float32 ...\n",
       "    fvcom_mesh     int32 ...\n",
       "Attributes:\n",
       "    title:                       GOM3 Nesting  by Yf.Sun@umassd.edu\n",
       "    institution:                 School for Marine Science and Technology\n",
       "    source:                      FVCOM_3.0\n",
       "    history:                     model started at: 22/12/2011   16:41\n",
       "    references:                  http://fvcom.smast.umassd.edu, http://codfis...\n",
       "    Conventions:                 CF-1.4, UGRID-0.9\n",
       "    CoordinateSystem:            Cartesian\n",
       "    CoordinateProjection:        none\n",
       "    Tidal_Forcing:               TIDAL ELEVATION FORCING IS OFF!\n",
       "    River_Forcing:               THERE ARE 50 RIVERS IN THIS MODEL.\\nRIVER IN...\n",
       "    GroundWater_Forcing:         GROUND WATER FORCING IS OFF!\n",
       "    Surface_Heat_Forcing:        FVCOM variable surface heat forcing file:\\nF...\n",
       "    Surface_Wind_Forcing:        FVCOM variable surface Wind forcing:\\nFILE N...\n",
       "    Surface_PrecipEvap_Forcing:  FVCOM periodic surface precip forcing:\\nFILE...\n",
       "    cdm_data_type:               any\n",
       "    DODS.strlen:                 26\n",
       "    DODS.dimName:                DateStrLen</pre>"
      ],
      "text/plain": [
       "<xarray.Dataset>\n",
       "Dimensions:        (four: 4, maxelem: 9, maxnode: 11, nele: 90415, node: 48451, siglay: 45, siglev: 46, three: 3, time: 342348)\n",
       "Coordinates:\n",
       "    lon            (node) float32 ...\n",
       "    lat            (node) float32 ...\n",
       "    lonc           (nele) float32 ...\n",
       "    latc           (nele) float32 ...\n",
       "  * time           (time) float32 43509.0 43509.043 ... 57753.957 57754.0\n",
       "Dimensions without coordinates: four, maxelem, maxnode, nele, node, siglay, siglev, three\n",
       "Data variables:\n",
       "    nprocs         int32 ...\n",
       "    partition      (nele) int32 ...\n",
       "    x              (node) float32 ...\n",
       "    y              (node) float32 ...\n",
       "    xc             (nele) float32 ...\n",
       "    yc             (nele) float32 ...\n",
       "    h              (node) float32 ...\n",
       "    nv             (three, nele) int32 ...\n",
       "    nbe            (three, nele) int32 ...\n",
       "    ntsn           (node) int32 ...\n",
       "    nbsn           (maxnode, node) int32 ...\n",
       "    ntve           (node) int32 ...\n",
       "    nbve           (maxelem, node) int32 ...\n",
       "    a1u            (four, nele) float32 ...\n",
       "    a2u            (four, nele) float32 ...\n",
       "    aw0            (three, nele) float32 ...\n",
       "    awx            (three, nele) float32 ...\n",
       "    awy            (three, nele) float32 ...\n",
       "    art2           (node) float32 ...\n",
       "    art1           (node) float32 ...\n",
       "    iint           (time) int32 ...\n",
       "    Itime          (time) int32 ...\n",
       "    Itime2         (time) int32 ...\n",
       "    Times          (time) |S64 ...\n",
       "    zeta           (time, node) float32 ...\n",
       "    file_date      (time) |S64 ...\n",
       "    u              (time, siglay, nele) float32 ...\n",
       "    v              (time, siglay, nele) float32 ...\n",
       "    omega          (time, siglev, node) float32 ...\n",
       "    ww             (time, siglay, nele) float32 ...\n",
       "    ua             (time, nele) float32 ...\n",
       "    va             (time, nele) float32 ...\n",
       "    temp           (time, siglay, node) float32 ...\n",
       "    salinity       (time, siglay, node) float32 ...\n",
       "    km             (time, siglev, node) float32 ...\n",
       "    kh             (time, siglev, node) float32 ...\n",
       "    kq             (time, siglev, node) float32 ...\n",
       "    q2             (time, siglev, node) float32 ...\n",
       "    q2l            (time, siglev, node) float32 ...\n",
       "    l              (time, siglev, node) float32 ...\n",
       "    short_wave     (time, node) float32 ...\n",
       "    net_heat_flux  (time, node) float32 ...\n",
       "    uwind_stress   (time, nele) float32 ...\n",
       "    vwind_stress   (time, nele) float32 ...\n",
       "    fvcom_mesh     int32 ...\n",
       "Attributes:\n",
       "    title:                       GOM3 Nesting  by Yf.Sun@umassd.edu\n",
       "    institution:                 School for Marine Science and Technology\n",
       "    source:                      FVCOM_3.0\n",
       "    history:                     model started at: 22/12/2011   16:41\n",
       "    references:                  http://fvcom.smast.umassd.edu, http://codfis...\n",
       "    Conventions:                 CF-1.4, UGRID-0.9\n",
       "    CoordinateSystem:            Cartesian\n",
       "    CoordinateProjection:        none\n",
       "    Tidal_Forcing:               TIDAL ELEVATION FORCING IS OFF!\n",
       "    River_Forcing:               THERE ARE 50 RIVERS IN THIS MODEL.\\nRIVER IN...\n",
       "    GroundWater_Forcing:         GROUND WATER FORCING IS OFF!\n",
       "    Surface_Heat_Forcing:        FVCOM variable surface heat forcing file:\\nF...\n",
       "    Surface_Wind_Forcing:        FVCOM variable surface Wind forcing:\\nFILE N...\n",
       "    Surface_PrecipEvap_Forcing:  FVCOM periodic surface precip forcing:\\nFILE...\n",
       "    cdm_data_type:               any\n",
       "    DODS.strlen:                 26\n",
       "    DODS.dimName:                DateStrLen"
      ]
     },
     "execution_count": 3,
     "metadata": {},
     "output_type": "execute_result"
    }
   ],
   "source": [
    "ds"
   ]
  },
  {
   "cell_type": "code",
   "execution_count": 4,
   "id": "c00e7212",
   "metadata": {},
   "outputs": [
    {
     "name": "stdout",
     "output_type": "stream",
     "text": [
      "43509.0\n",
      "57754.0\n"
     ]
    }
   ],
   "source": [
    "print(ds.time[0].values)\n",
    "print(ds.time[-1].values)"
   ]
  },
  {
   "cell_type": "code",
   "execution_count": 5,
   "id": "3285a775",
   "metadata": {},
   "outputs": [
    {
     "name": "stdout",
     "output_type": "stream",
     "text": [
      "1978-01-01T00:00:00 2017-01-01T00:00:00\n",
      "['1978-01-01T00' '1978-01-01T01' '1978-01-01T02' ... '2016-12-31T21'\n",
      " '2016-12-31T22' '2016-12-31T23']\n"
     ]
    }
   ],
   "source": [
    "if(hindcast):\n",
    "    ts = np.datetime64('1858-11-17 00:00:00')+np.timedelta64(int(ds.time[0].values),'D')\n",
    "    te = np.datetime64('1858-11-17 00:00:00')+np.timedelta64(int(ds.time[-1].values),'D')\n",
    "    time = np.arange(ts,te,dtype='datetime64[h]')\n",
    "    print(ts, te)\n",
    "    print(time)"
   ]
  },
  {
   "cell_type": "code",
   "execution_count": 6,
   "id": "c94d84ec",
   "metadata": {},
   "outputs": [
    {
     "name": "stdout",
     "output_type": "stream",
     "text": [
      "-70.05605 42.064137 26.3185\n"
     ]
    }
   ],
   "source": [
    "# Find the indices of the points in (x,y) closest to the points in (xi,yi)\n",
    "def nearxyn(x,y,xi,yi):    \n",
    "    ind=np.ones(len(xi),dtype=int)\n",
    "    for i in np.arange(len(xi)):\n",
    "        dist=np.sqrt((x-xi[i])**2+(y-yi[i])**2)\n",
    "        ind[i]=dist.argmin()    \n",
    "    return ind\n",
    "\n",
    "# Find the indices of the point in (x,y) closest to the point (xi,yi)\n",
    "def nearxy(x,y,xi,yi):\n",
    "    dist=np.sqrt((x-xi)**2+(y-yi)**2)\n",
    "    ind=dist.argmin()     \n",
    "    return ind\n",
    "\n",
    "coords = [-70.0643, 42.0643]\n",
    "\n",
    "# Query to find closest NECOFS nodes to station locations\n",
    "nodeid = nearxy(ds.lon,ds.lat,coords[0],coords[1])\n",
    "print(ds.lon[nodeid].values,ds.lat[nodeid].values,ds.h[nodeid].values)"
   ]
  },
  {
   "cell_type": "code",
   "execution_count": 7,
   "id": "359845c2",
   "metadata": {},
   "outputs": [
    {
     "name": "stdout",
     "output_type": "stream",
     "text": [
      "2015-07-25T00\n"
     ]
    },
    {
     "data": {
      "image/png": "[encoded data removed]",
      "text/plain": [
       "<Figure size 432x288 with 1 Axes>"
      ]
     },
     "metadata": {
      "needs_background": "light"
     },
     "output_type": "display_data"
    }
   ],
   "source": [
    "if(not hindcast):\n",
    "    # pick a specific time\n",
    "    ds.sel(time=\"2021-11-27T12:00:00.000000\")\n",
    "    # or a time slice\n",
    "    dst = ds.sel(time=slice(\"2021-11-27T12:00:00.000000\",\"2021-11-27T18:00:00.000000\"))\n",
    "\n",
    "    # could grab as arrays and plot\n",
    "    #t = dst.time[:].values\n",
    "    #zeta = dst.zeta[:,nodeid].values\n",
    "    #plt.plot(t,zeta)\n",
    "    \n",
    "    # but this is easier\n",
    "    zeta = dst.zeta[200:225,nodeid]\n",
    "    zeta.plot()\n",
    "    \n",
    "else:\n",
    "    tid = np.argmin(time<np.datetime64(\"2015-07-25\",'h'))\n",
    "    print(time[tid])\n",
    "    t = time[tid-13:tid+13]\n",
    "    zeta = ds.zeta[tid-13:tid+13,nodeid]\n",
    "    plt.plot(t,zeta)"
   ]
  }
 ],
 "metadata": {
  "kernelspec": {
   "display_name": "Python 3 (ipykernel)",
   "language": "python",
   "name": "python3"
  },
  "language_info": {
   "codemirror_mode": {
    "name": "ipython",
    "version": 3
   },
   "file_extension": ".py",
   "mimetype": "text/x-python",
   "name": "python",
   "nbconvert_exporter": "python",
   "pygments_lexer": "ipython3",
   "version": "3.7.6"
  }
 },
 "nbformat": 4,
 "nbformat_minor": 5
}
