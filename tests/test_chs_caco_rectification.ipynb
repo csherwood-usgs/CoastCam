{
 "cells": [
  {
   "cell_type": "markdown",
   "metadata": {},
   "source": [
    "### Test the rectifier functions"
   ]
  },
  {
   "cell_type": "code",
   "execution_count": 1,
   "metadata": {},
   "outputs": [],
   "source": [
    "from pathlib import Path\n",
    "import imageio\n",
    "import fsspec\n",
    "import numpy as np\n",
    "import matplotlib.pyplot as plt\n",
    "%matplotlib inline"
   ]
  },
  {
   "cell_type": "markdown",
   "metadata": {},
   "source": [
    "#### Notes\n",
    " * Metadata is a temporary dict of stuff that the Axiom code reads from files. \n",
    " * extrinsic and intrinsic parameters are stored in a list of dicts\n",
    " * `metadata['coordinate_system']` indicates whether extrinsics are in local `'xyz'` or world `'geo'` coordinates\n",
    " \n",
    " * `lcp` is a dict of lens calibration parameters, a synonym for intrinsics\n",
    " * `beta` is an numpy array that contains the values of the extrinsic dict"
   ]
  },
  {
   "cell_type": "code",
   "execution_count": 2,
   "metadata": {},
   "outputs": [],
   "source": [
    "# These .py files define the objects that load calibration data and do the rectification\n",
    "# %run -i coastcam_funcs.py\n",
    "# %run -i calibration_crs.py\n",
    "# %run -i chs_rectifier_crs.py\n",
    "from coastcam_funcs import *\n",
    "from calibration_crs import *\n",
    "from rectifier_crs import *"
   ]
  },
  {
   "cell_type": "code",
   "execution_count": 3,
   "metadata": {},
   "outputs": [],
   "source": [
    "# List of files...three for each camera. Calibration parameters are in .json format\n",
    "# These are the USGS image filename format\n",
    "extrinsic_cal_files = ['CACO01_C1_EOBest.json','CACO01_C2_EOBest.json']\n",
    "intrinsic_cal_files = ['CACO01_C1_IOBest.json','CACO01_C2_IOBest.json']"
   ]
  },
  {
   "cell_type": "code",
   "execution_count": 4,
   "metadata": {},
   "outputs": [
    {
     "data": {
      "text/plain": [
       "['./1581508801.c1.timex.jpg', './1581508801.c2.timex.jpg']"
      ]
     },
     "execution_count": 4,
     "metadata": {},
     "output_type": "execute_result"
    }
   ],
   "source": [
    "s3 = False # set to False to test local read, set to True to test bucket read\n",
    "if s3:\n",
    "    # read from S3 bucket\n",
    "    imdir='cmgp-coastcam/cameras/caco-01/products/'\n",
    "    image_files = ['1600866001.c1.timex.jpg','1600866001.c2.timex.jpg']\n",
    "    ftime = filetime2timestr(image_files[0], timezone='eastern')\n",
    "    fs = fsspec.filesystem('s3')\n",
    "else:\n",
    "    # local test files\n",
    "    imdir='./'\n",
    "    image_files = ['1581508801.c1.timex.jpg','1581508801.c2.timex.jpg']\n",
    "    ftime, e = filetime2timestr(image_files[0], timezone='eastern')\n",
    "\n",
    "    fs = None\n",
    "\n",
    "impaths = []\n",
    "for f in image_files:\n",
    "    impaths.append(imdir+f)\n",
    "impaths"
   ]
  },
  {
   "cell_type": "code",
   "execution_count": 5,
   "metadata": {},
   "outputs": [
    {
     "name": "stdout",
     "output_type": "stream",
     "text": [
      "2020-02-12 12:00:00 1581508801\n"
     ]
    }
   ],
   "source": [
    "print(ftime, e)"
   ]
  },
  {
   "cell_type": "code",
   "execution_count": 6,
   "metadata": {},
   "outputs": [],
   "source": [
    "# Dict providing the metadata that the Axiom code infers from the USACE filename format\n",
    "metadata= {'name': 'CACO-01', 'serial_number': 1, 'camera_number': 'C1', 'calibration_date': '2019-12-12', 'coordinate_system': 'geo'}\n",
    "# dict providing origin and orientation of the local grid\n",
    "local_origin = {'x': 410935.,'y':4655890., 'angd': 55.}"
   ]
  },
  {
   "cell_type": "code",
   "execution_count": 7,
   "metadata": {},
   "outputs": [],
   "source": [
    "# read cal files and make lists of cal dicts\n",
    "extrinsics_list = []\n",
    "for f in extrinsic_cal_files:\n",
    "    extrinsics_list.append( json2dict(f) )\n",
    "intrinsics_list = []\n",
    "for f in intrinsic_cal_files:\n",
    "    intrinsics_list.append( json2dict(f) )"
   ]
  },
  {
   "cell_type": "code",
   "execution_count": 8,
   "metadata": {},
   "outputs": [
    {
     "name": "stdout",
     "output_type": "stream",
     "text": [
      "Extrinsics are in world coordinates\n",
      "{'x': 410843.97, 'y': 4655942.49, 'z': 27.3, 'a': -0.271, 't': 1.304, 'r': 0.007}\n",
      "52.49000000022352\n"
     ]
    }
   ],
   "source": [
    "# check test for coordinate system\n",
    "if metadata['coordinate_system'].lower() == 'xyz':\n",
    "    print('Extrinsics are local coordinates')\n",
    "elif metadata['coordinate_system'].lower() == 'geo':\n",
    "    print('Extrinsics are in world coordinates')\n",
    "else:\n",
    "    print('Invalid value of coordinate_system: ',metadata['coordinate_system'])\n",
    "    \n",
    "print(extrinsics_list[0])\n",
    "print(extrinsics_list[0]['y']-local_origin['y'])"
   ]
  },
  {
   "cell_type": "code",
   "execution_count": 9,
   "metadata": {},
   "outputs": [
    {
     "name": "stdout",
     "output_type": "stream",
     "text": [
      "{'x': 410935.0, 'y': 4655890.0, 'angd': 55.0}\n",
      "{'x': 410843.97, 'y': 4655942.49, 'z': 27.3, 'a': -0.271, 't': 1.304, 'r': 0.007}\n",
      "{'x': -9.215372196139484, 'y': 104.67443773584442, 'z': 27.3, 'a': 0.6889310885968812, 't': 1.304, 'r': 0.007}\n"
     ]
    }
   ],
   "source": [
    "calibration = CameraCalibration(metadata,intrinsics_list[0],extrinsics_list[0],local_origin)\n",
    "print(calibration.local_origin)\n",
    "print(calibration.world_extrinsics)\n",
    "print(calibration.local_extrinsics)"
   ]
  },
  {
   "cell_type": "code",
   "execution_count": 10,
   "metadata": {},
   "outputs": [],
   "source": [
    "xmin = 0.\n",
    "xmax = 500.\n",
    "ymin = 0.\n",
    "ymax = 700.\n",
    "dx = 1.\n",
    "dy = 1.\n",
    "z =  0.\n",
    "\n",
    "rectifier_grid = TargetGrid(\n",
    "    [xmin, xmax],\n",
    "    [ymin, ymax],\n",
    "    dx,\n",
    "    dy,\n",
    "    z\n",
    ")\n",
    "#print(rectifier_grid.X)\n",
    "\n",
    "rectifier = Rectifier(\n",
    "    rectifier_grid\n",
    ")"
   ]
  },
  {
   "cell_type": "code",
   "execution_count": 11,
   "metadata": {},
   "outputs": [
    {
     "name": "stdout",
     "output_type": "stream",
     "text": [
      "CPU times: user 1.31 s, sys: 1.12 s, total: 2.43 s\n",
      "Wall time: 944 ms\n"
     ]
    }
   ],
   "source": [
    "%%time\n",
    "#%prun rectified_image = rectifier.rectify_images(metadata, image_files, intrinsics_list, extrinsics_list, local_origin)\n",
    "rectified_image = rectifier.rectify_images(metadata, impaths, intrinsics_list, extrinsics_list, local_origin, fs=fs)"
   ]
  },
  {
   "cell_type": "code",
   "execution_count": 15,
   "metadata": {},
   "outputs": [],
   "source": [
    "# write a local file\n",
    "ofile = e+'.rectified.jpg'\n",
    "imageio.imwrite(ofile,np.flip(rectified_image,0),format='jpg')"
   ]
  },
  {
   "cell_type": "code",
   "execution_count": 16,
   "metadata": {},
   "outputs": [],
   "source": [
    "# write to the public sfm bucket\n",
    "fs2 = fsspec.filesystem('s3', profile='default')\n",
    "with fs2.open('s3://cmgp-sfm-public-read-bucket/csherwood/'+ofile,'wb') as fo:\n",
    "    imageio.imwrite(fo,np.flip(rectified_image,0),format='jpg')"
   ]
  },
  {
   "cell_type": "code",
   "execution_count": 17,
   "metadata": {},
   "outputs": [
    {
     "data": {
      "image/png": "[encoded data removed]",
      "text/plain": [
       "<Figure size 432x288 with 1 Axes>"
      ]
     },
     "metadata": {
      "needs_background": "light"
     },
     "output_type": "display_data"
    }
   ],
   "source": [
    "# make an annotated image\n",
    "plt.imshow( rectified_image.astype(np.int))\n",
    "plt.gca().invert_yaxis()\n",
    "plt.xlabel('Offshore (m)')\n",
    "plt.ylabel('Alongshore (m)')\n",
    "# make a North arrow\n",
    "angr = calibration.local_origin['angd']*np.pi/180.\n",
    "dx = np.cos(angr)*90.\n",
    "dy = np.sin(angr)*90.\n",
    "plt.arrow(50,550,dx,dy,linewidth=2,head_width=25,head_length=30,color='white',shape='right')\n",
    "plt.text(100,670,'N',color='white')\n",
    "plt.text(220,670,ftime,fontsize=8,color='gold')\n",
    "plt.title(e)\n",
    "fp = e+'.rectified.png'\n",
    "plt.savefig(fp,dpi=200)"
   ]
  },
  {
   "cell_type": "code",
   "execution_count": null,
   "metadata": {},
   "outputs": [],
   "source": [
    "# alongshore profile of RGB values at \n",
    "plt.plot(rectified_image[:,60,:])"
   ]
  }
 ],
 "metadata": {
  "kernelspec": {
   "display_name": "Python 3",
   "language": "python",
   "name": "python3"
  },
  "language_info": {
   "codemirror_mode": {
    "name": "ipython",
    "version": 3
   },
   "file_extension": ".py",
   "mimetype": "text/x-python",
   "name": "python",
   "nbconvert_exporter": "python",
   "pygments_lexer": "ipython3",
   "version": "3.7.6"
  }
 },
 "nbformat": 4,
 "nbformat_minor": 4
}
