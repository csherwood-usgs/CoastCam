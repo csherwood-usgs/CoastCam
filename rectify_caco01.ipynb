{
 "cells": [
  {
   "cell_type": "markdown",
   "metadata": {},
   "source": [
    "### Rectify all images on S3 bucket and write to public read bucket"
   ]
  },
  {
   "cell_type": "code",
   "execution_count": null,
   "metadata": {},
   "outputs": [],
   "source": [
    "from pathlib import Path\n",
    "import imageio\n",
    "import fsspec\n",
    "import numpy as np\n",
    "import matplotlib.pyplot as plt\n",
    "import datetime\n",
    "from dateutil import tz\n",
    "import pandas as pd\n",
    "\n",
    "from coastcam_funcs import *\n",
    "from calibration_crs import *\n",
    "from rectifier_crs import *"
   ]
  },
  {
   "cell_type": "markdown",
   "metadata": {},
   "source": [
    "#### Read the inventory of products  \n",
    "Generated with `aws s3 ls s3://cmgp-coastcam/cameras/caco-01/products/ --profile coastcam > caco01inventory.txt`  \n",
    "Then edited to remove a few bad entries.\n",
    "These have beeen deleted from the S3 bucket."
   ]
  },
  {
   "cell_type": "code",
   "execution_count": null,
   "metadata": {},
   "outputs": [],
   "source": [
    "df = pd.read_csv('caco01inventory.txt', header=None, delim_whitespace=True, parse_dates={'datetime': [0, 1]})\n",
    "df.rename(columns={2:'fid',3:'filename'}, inplace=True)\n",
    "del df['fid']\n",
    "df"
   ]
  },
  {
   "cell_type": "markdown",
   "metadata": {},
   "source": [
    "### Get list of `c1.timex` files and find matching `c2.timex` files. Make list of `c1.timex` images with matches."
   ]
  },
  {
   "cell_type": "code",
   "execution_count": null,
   "metadata": {},
   "outputs": [],
   "source": [
    "# find instances of timex.c1\n",
    "df2 = df[df['filename'].str.contains('c1.timex')]\n",
    "df2"
   ]
  },
  {
   "cell_type": "code",
   "execution_count": null,
   "metadata": {},
   "outputs": [],
   "source": [
    "# filelist will contain all of the c1.timex images that have matching c2 images\n",
    "filelist = [ ]\n",
    "matches = 0\n",
    "no_matches = 0\n",
    "for i, row in df2.iterrows():\n",
    "    fs1 = row['filename']\n",
    "    # print(fs1)\n",
    "    fn1 = list(fs1)\n",
    "    fn2 = fn1.copy()\n",
    "    fn2[12]='2'\n",
    "    fs2=\"\".join(fn2)\n",
    "    # print(fs2)\n",
    "    if len(df[df['filename'].isin([fs2])]) == 1:\n",
    "        filelist.append(fs1)\n",
    "        matches += 1\n",
    "    else:\n",
    "        no_matches += 1\n",
    "\n",
    "print(matches, no_matches, matches+no_matches)"
   ]
  },
  {
   "cell_type": "markdown",
   "metadata": {},
   "source": [
    "### Set up the rectification"
   ]
  },
  {
   "cell_type": "code",
   "execution_count": null,
   "metadata": {},
   "outputs": [],
   "source": [
    "# List of files...three for each camera. Calibration parameters are in .json format\n",
    "# These are the USGS image filename format\n",
    "extrinsic_cal_files = ['CACO01_C1_EOBest.json','CACO01_C2_EOBest.json']\n",
    "intrinsic_cal_files = ['CACO01_C1_IOBest.json','CACO01_C2_IOBest.json']\n",
    "\n",
    "# Dict providing the metadata that the Axiom code infers from the USACE filename format\n",
    "metadata= {'name': 'CACO-01', 'serial_number': 1, 'camera_number': 'C1', 'calibration_date': '2019-12-12', 'coordinate_system': 'geo'}\n",
    "# dict providing origin and orientation of the local grid\n",
    "local_origin = {'x': 410935.,'y':4655890., 'angd': 55.}\n",
    "\n",
    "# read cal files and make lists of cal dicts\n",
    "extrinsics_list = []\n",
    "for f in extrinsic_cal_files:\n",
    "    extrinsics_list.append( json2dict(f) )\n",
    "intrinsics_list = []\n",
    "for f in intrinsic_cal_files:\n",
    "    intrinsics_list.append( json2dict(f) )\n",
    "    \n",
    "# check test for coordinate system\n",
    "if metadata['coordinate_system'].lower() == 'xyz':\n",
    "    print('Extrinsics are local coordinates')\n",
    "elif metadata['coordinate_system'].lower() == 'geo':\n",
    "    print('Extrinsics are in world coordinates')\n",
    "else:\n",
    "    print('Invalid value of coordinate_system: ',metadata['coordinate_system'])\n",
    "    \n",
    "print(extrinsics_list[0])\n",
    "print(extrinsics_list[0]['y']-local_origin['y'])\n",
    "\n",
    "calibration = CameraCalibration(metadata,intrinsics_list[0],extrinsics_list[0],local_origin)\n",
    "print(calibration.local_origin)\n",
    "print(calibration.world_extrinsics)\n",
    "print(calibration.local_extrinsics)\n",
    "\n",
    "xmin = 0.\n",
    "xmax = 500.\n",
    "ymin = 0.\n",
    "ymax = 700.\n",
    "dx = 1.\n",
    "dy = 1.\n",
    "z =  0.\n",
    "\n",
    "rectifier_grid = TargetGrid(\n",
    "    [xmin, xmax],\n",
    "    [ymin, ymax],\n",
    "    dx,\n",
    "    dy,\n",
    "    z\n",
    ")\n",
    "#print(rectifier_grid.X)\n",
    "\n",
    "rectifier = Rectifier(\n",
    "    rectifier_grid\n",
    ")"
   ]
  },
  {
   "cell_type": "code",
   "execution_count": null,
   "metadata": {},
   "outputs": [],
   "source": [
    "# setup S3 buckets\n",
    "imdir='cmgp-coastcam/cameras/caco-01/products/'\n",
    "fs = fsspec.filesystem('s3',profile='coastcam')\n",
    "\n",
    "fs2 = fsspec.filesystem('s3', profile='default')\n"
   ]
  },
  {
   "cell_type": "code",
   "execution_count": null,
   "metadata": {},
   "outputs": [],
   "source": [
    "# function to create a c2 image name from a c1 image name\n",
    "def c1toc2(c1name):\n",
    "    fn1 = list(c1name)\n",
    "    fn2 = fn1.copy()\n",
    "    fn2[12]='2'\n",
    "    fs2=\"\".join(fn2)\n",
    "    return fs2\n",
    "\n",
    "# test it\n",
    "print(filelist[22])\n",
    "print(c1toc2(filelist[22]))"
   ]
  },
  {
   "cell_type": "code",
   "execution_count": null,
   "metadata": {},
   "outputs": [],
   "source": [
    "# loop through the filelist and calculate image brightness and sharpness.\n",
    "for i, fn in enumerate(filelist):\n",
    "    fpath = imdir+fn\n",
    "    ofile = fn.split('.')[0]+'.jpg'\n",
    "    s = estimate_sharpness(fpath,fs)\n",
    "    rgb, avg = average_color(fpath,fs)\n",
    "    ftime, e = filetime2timestr(fn, timezone='eastern')\n",
    "    impaths = [fpath, imdir+c1toc2(fn)]\n",
    "#     print(ofile)\n",
    "#     print(impaths)\n",
    "#     print(i,fn,ftime,avg,s)\n",
    "    if avg > 40. :\n",
    "        rectified_image, _, _, _ = rectifier.rectify_images(metadata, impaths, intrinsics_list, \\\n",
    "                                                            extrinsics_list, local_origin, fs=fs)        \n",
    "        # write to the public sfm bucket\n",
    "        with fs2.open('s3://cmgp-sfm-public-read-bucket/csherwood/caco01_rectified/'+ofile,'wb') as fo:\n",
    "                    imageio.imwrite(fo,np.flip(rectified_image,0),format='jpg')"
   ]
  }
 ],
 "metadata": {
  "kernelspec": {
   "display_name": "Python 3",
   "language": "python",
   "name": "python3"
  },
  "language_info": {
   "codemirror_mode": {
    "name": "ipython",
    "version": 3
   },
   "file_extension": ".py",
   "mimetype": "text/x-python",
   "name": "python",
   "nbconvert_exporter": "python",
   "pygments_lexer": "ipython3",
   "version": "3.7.8"
  }
 },
 "nbformat": 4,
 "nbformat_minor": 4
}
