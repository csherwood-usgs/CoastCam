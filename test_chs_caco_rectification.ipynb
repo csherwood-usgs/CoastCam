{
 "cells": [
  {
   "cell_type": "code",
   "execution_count": 1,
   "metadata": {},
   "outputs": [],
   "source": [
    "from pathlib import Path\n",
    "import imageio\n",
    "import numpy as np\n",
    "import matplotlib.pyplot as plt\n",
    "%matplotlib inline"
   ]
  },
  {
   "cell_type": "markdown",
   "metadata": {},
   "source": [
    "#### Notes\n",
    " * Metadata is a temporary dict of stuff that the Axiom code reads from files. \n",
    " * extrinsic and intrinsic parameters are stored in a list of dicts\n",
    " * `metadata['coordinate_system']` indicates whether extrinsics are in local `'xyz'` or world `'geo'` coordinates\n",
    " \n",
    " * `lcp` is a dict lens calibration parameters, a synonym for intrinsics\n",
    " * `beta` is an numpy array that contains the values of the extrinsic dict"
   ]
  },
  {
   "cell_type": "code",
   "execution_count": 2,
   "metadata": {},
   "outputs": [],
   "source": [
    "# These .py files define the objects that load calibration data and do the rectification\n",
    "%run -i coastcam_funcs.py\n",
    "%run -i calibration_crs.py\n",
    "%run -i chs_rectifier_crs.py\n"
   ]
  },
  {
   "cell_type": "code",
   "execution_count": 3,
   "metadata": {},
   "outputs": [],
   "source": [
    "# List of files...three for each camera. Calibration parameters are in .json format\n",
    "# These are the USGS image filename format\n",
    "image_files       = ['1600866001.c1.timex.jpg','1600866001.c2.timex.jpg']\n",
    "extrinsic_cal_files = ['CACO01_C1_EOBest.json','CACO01_C2_EOBest.json']\n",
    "intrinsic_cal_files = ['CACO01_C1_IOBest.json','CACO01_C2_IOBest.json']"
   ]
  },
  {
   "cell_type": "code",
   "execution_count": 4,
   "metadata": {},
   "outputs": [],
   "source": [
    "# Dict providing the metadata that the Axiom code infers from the USACE filename format\n",
    "metadata= {'name': 'CACO-01', 'serial_number': 1, 'camera_number': 'C1', 'calibration_date': '2019-12-12', 'coordinate_system': 'geo'}\n",
    "# dict providing origin and orientation of the local grid\n",
    "local_origin = {'x': 410935.,'y':4655890., 'angd': 55.}"
   ]
  },
  {
   "cell_type": "code",
   "execution_count": 5,
   "metadata": {},
   "outputs": [],
   "source": [
    "# read cal files and make lists of cal dicts\n",
    "extrinsics_list = []\n",
    "for f in extrinsic_cal_files:\n",
    "    extrinsics_list.append( json2dict(f) )\n",
    "intrinsics_list = []\n",
    "for f in intrinsic_cal_files:\n",
    "    intrinsics_list.append( json2dict(f) )"
   ]
  },
  {
   "cell_type": "code",
   "execution_count": 6,
   "metadata": {},
   "outputs": [
    {
     "name": "stdout",
     "output_type": "stream",
     "text": [
      "Extrinsics are in world coordinates\n",
      "{'x': 410843.97, 'y': 4655942.49, 'z': 27.3, 'a': -0.271, 't': 1.304, 'r': 0.007}\n",
      "52.49000000022352\n"
     ]
    }
   ],
   "source": [
    "# check test for coordinate system\n",
    "if metadata['coordinate_system'].lower() == 'xyz':\n",
    "    print('Extrinsics are local coordinates')\n",
    "elif metadata['coordinate_system'].lower() == 'geo':\n",
    "    print('Extrinsics are in world coordinates')\n",
    "else:\n",
    "    print('Invalid value of coordinate_system: ',metadata['coordinate_system'])\n",
    "    \n",
    "print(extrinsics_list[0])\n",
    "print(extrinsics_list[0]['y']-local_origin['y'])"
   ]
  },
  {
   "cell_type": "code",
   "execution_count": 7,
   "metadata": {},
   "outputs": [
    {
     "name": "stdout",
     "output_type": "stream",
     "text": [
      "{'x': 410935.0, 'y': 4655890.0, 'angd': 55.0}\n",
      "{'x': 410843.97, 'y': 4655942.49, 'z': 27.3, 'a': -0.271, 't': 1.304, 'r': 0.007}\n",
      "{'x': -9.215372196139484, 'y': 104.67443773584442, 'z': 27.3, 'a': 0.6889310885968812, 't': 1.304, 'r': 0.007}\n"
     ]
    }
   ],
   "source": [
    "calibration = CameraCalibration(metadata,intrinsics_list[0],extrinsics_list[0],local_origin)\n",
    "print(calibration.local_origin)\n",
    "print(calibration.world_extrinsics)\n",
    "print(calibration.local_extrinsics)"
   ]
  },
  {
   "cell_type": "code",
   "execution_count": 8,
   "metadata": {},
   "outputs": [],
   "source": [
    "xmin = 0.\n",
    "xmax = 500.\n",
    "ymin = 0.\n",
    "ymax = 700.\n",
    "dx = 2.\n",
    "dy = 2.\n",
    "z =  0.\n",
    "\n",
    "rectifier_grid = TargetGrid(\n",
    "    [xmin, xmax],\n",
    "    [ymin, ymax],\n",
    "    dx,\n",
    "    dy,\n",
    "    z\n",
    ")\n",
    "#print(rectifier_grid.X)\n",
    "\n",
    "rectifier = Rectifier(\n",
    "    rectifier_grid\n",
    ")"
   ]
  },
  {
   "cell_type": "code",
   "execution_count": 9,
   "metadata": {},
   "outputs": [
    {
     "name": "stdout",
     "output_type": "stream",
     "text": [
      "loop 0 calibrations:\n",
      "{'NU': 2448, 'NV': 2048, 'c0U': 1150.389769, 'c0V': 1200.529802, 'fx': 3599.302724, 'fy': 3600.840045, 'd1': -0.221394, 'd2': 0.129797, 'd3': 0.0, 't1': 0.000599, 't2': -0.000393} {'x': 410843.97, 'y': 4655942.49, 'z': 27.3, 'a': -0.271, 't': 1.304, 'r': 0.007}\n",
      "Image shape:  (2048, 2448, 3)\n",
      "back from get_pixels\n",
      "back from assemble_image_weights\n",
      "back from apply_weights_to_pixles\n",
      "loop 1 calibrations:\n",
      "{'NU': 2448, 'NV': 2048, 'c0U': 1215.323012, 'c0V': 1076.162623, 'fx': 2411.904295, 'fy': 2409.796036, 'd1': -0.219987, 'd2': 0.178703, 'd3': -0.05506, 't1': 0.000114, 't2': -0.002621} {'x': 410844.14, 'y': 4655942.41, 'z': 27.3, 'a': 0.5, 't': 1.173, 'r': 0.03}\n",
      "Image shape:  (2048, 2448, 3)\n",
      "back from get_pixels\n",
      "back from assemble_image_weights\n",
      "back from apply_weights_to_pixles\n",
      "CPU times: user 1.2 s, sys: 1.08 s, total: 2.28 s\n",
      "Wall time: 2.25 s\n"
     ]
    }
   ],
   "source": [
    "%%time\n",
    "#%prun rectified_image = rectifier.rectify_images(metadata, image_files, intrinsics_list, extrinsics_list, local_origin)\n",
    "rectified_image = rectifier.rectify_images(metadata, image_files, intrinsics_list, extrinsics_list, local_origin)"
   ]
  },
  {
   "cell_type": "code",
   "execution_count": 10,
   "metadata": {},
   "outputs": [
    {
     "name": "stderr",
     "output_type": "stream",
     "text": [
      "Lossy conversion from float64 to uint8. Range [0.0, 190.78466404420215]. Convert image to uint8 prior to saving to suppress this warning.\n"
     ]
    }
   ],
   "source": [
    "# This complains about a lossy conversion to uint8. Python does not have the ability to store NaNs in an integer array.\n",
    "# Should we make NaNs zeros?\n",
    "# What is the final product we want? An image, a geotiff, or netCDF/HDF file w/ metadata?\n",
    "# The flip command is needed because the array is not in image order.\n",
    "\n",
    "# write a local file\n",
    "ofile = 'caco01_test_product.jpg'\n",
    "imageio.imwrite(ofile,np.flip(rectified_image,0))"
   ]
  },
  {
   "cell_type": "code",
   "execution_count": 11,
   "metadata": {},
   "outputs": [
    {
     "ename": "ValueError",
     "evalue": "Could not find a format to write the specified file in single-image mode",
     "output_type": "error",
     "traceback": [
      "\u001b[0;31m---------------------------------------------------------------------------\u001b[0m",
      "\u001b[0;31mValueError\u001b[0m                                Traceback (most recent call last)",
      "\u001b[0;32m~/src/CoastCam/chs_rectifier_crs.py\u001b[0m in \u001b[0;36m<module>\u001b[0;34m\u001b[0m\n\u001b[1;32m      2\u001b[0m \u001b[0mfs2\u001b[0m \u001b[0;34m=\u001b[0m \u001b[0mfsspec\u001b[0m\u001b[0;34m.\u001b[0m\u001b[0mfilesystem\u001b[0m\u001b[0;34m(\u001b[0m\u001b[0;34m's3'\u001b[0m\u001b[0;34m,\u001b[0m \u001b[0mprofile\u001b[0m\u001b[0;34m=\u001b[0m\u001b[0;34m'default'\u001b[0m\u001b[0;34m)\u001b[0m\u001b[0;34m\u001b[0m\u001b[0;34m\u001b[0m\u001b[0m\n\u001b[1;32m      3\u001b[0m \u001b[0;32mwith\u001b[0m \u001b[0mfs2\u001b[0m\u001b[0;34m.\u001b[0m\u001b[0mopen\u001b[0m\u001b[0;34m(\u001b[0m\u001b[0;34m's3://cmgp-sfm-public-read-bucket/csherwood/'\u001b[0m\u001b[0;34m+\u001b[0m\u001b[0mofile\u001b[0m\u001b[0;34m,\u001b[0m\u001b[0;34m'wb'\u001b[0m\u001b[0;34m)\u001b[0m \u001b[0;32mas\u001b[0m \u001b[0mfo\u001b[0m\u001b[0;34m:\u001b[0m\u001b[0;34m\u001b[0m\u001b[0;34m\u001b[0m\u001b[0m\n\u001b[0;32m----> 4\u001b[0;31m     \u001b[0mimageio\u001b[0m\u001b[0;34m.\u001b[0m\u001b[0mimwrite\u001b[0m\u001b[0;34m(\u001b[0m\u001b[0mfo\u001b[0m\u001b[0;34m,\u001b[0m\u001b[0mnp\u001b[0m\u001b[0;34m.\u001b[0m\u001b[0mflip\u001b[0m\u001b[0;34m(\u001b[0m\u001b[0mrectified_image\u001b[0m\u001b[0;34m,\u001b[0m\u001b[0;36m0\u001b[0m\u001b[0;34m)\u001b[0m\u001b[0;34m)\u001b[0m\u001b[0;34m\u001b[0m\u001b[0;34m\u001b[0m\u001b[0m\n\u001b[0m",
      "\u001b[0;32m/srv/conda/envs/pangeo/lib/python3.7/site-packages/imageio/core/functions.py\u001b[0m in \u001b[0;36mimwrite\u001b[0;34m(uri, im, format, **kwargs)\u001b[0m\n\u001b[1;32m    301\u001b[0m \u001b[0;34m\u001b[0m\u001b[0m\n\u001b[1;32m    302\u001b[0m     \u001b[0;31m# Get writer and write first\u001b[0m\u001b[0;34m\u001b[0m\u001b[0;34m\u001b[0m\u001b[0;34m\u001b[0m\u001b[0m\n\u001b[0;32m--> 303\u001b[0;31m     \u001b[0mwriter\u001b[0m \u001b[0;34m=\u001b[0m \u001b[0mget_writer\u001b[0m\u001b[0;34m(\u001b[0m\u001b[0muri\u001b[0m\u001b[0;34m,\u001b[0m \u001b[0mformat\u001b[0m\u001b[0;34m,\u001b[0m \u001b[0;34m\"i\"\u001b[0m\u001b[0;34m,\u001b[0m \u001b[0;34m**\u001b[0m\u001b[0mkwargs\u001b[0m\u001b[0;34m)\u001b[0m\u001b[0;34m\u001b[0m\u001b[0;34m\u001b[0m\u001b[0m\n\u001b[0m\u001b[1;32m    304\u001b[0m     \u001b[0;32mwith\u001b[0m \u001b[0mwriter\u001b[0m\u001b[0;34m:\u001b[0m\u001b[0;34m\u001b[0m\u001b[0;34m\u001b[0m\u001b[0m\n\u001b[1;32m    305\u001b[0m         \u001b[0mwriter\u001b[0m\u001b[0;34m.\u001b[0m\u001b[0mappend_data\u001b[0m\u001b[0;34m(\u001b[0m\u001b[0mim\u001b[0m\u001b[0;34m)\u001b[0m\u001b[0;34m\u001b[0m\u001b[0;34m\u001b[0m\u001b[0m\n",
      "\u001b[0;32m/srv/conda/envs/pangeo/lib/python3.7/site-packages/imageio/core/functions.py\u001b[0m in \u001b[0;36mget_writer\u001b[0;34m(uri, format, mode, **kwargs)\u001b[0m\n\u001b[1;32m    225\u001b[0m         \u001b[0mmodename\u001b[0m \u001b[0;34m=\u001b[0m \u001b[0mMODENAMES\u001b[0m\u001b[0;34m.\u001b[0m\u001b[0mget\u001b[0m\u001b[0;34m(\u001b[0m\u001b[0mmode\u001b[0m\u001b[0;34m,\u001b[0m \u001b[0mmode\u001b[0m\u001b[0;34m)\u001b[0m\u001b[0;34m\u001b[0m\u001b[0;34m\u001b[0m\u001b[0m\n\u001b[1;32m    226\u001b[0m         raise ValueError(\n\u001b[0;32m--> 227\u001b[0;31m             \u001b[0;34m\"Could not find a format to write the specified file in %s mode\"\u001b[0m \u001b[0;34m%\u001b[0m \u001b[0mmodename\u001b[0m\u001b[0;34m\u001b[0m\u001b[0;34m\u001b[0m\u001b[0m\n\u001b[0m\u001b[1;32m    228\u001b[0m         )\n\u001b[1;32m    229\u001b[0m \u001b[0;34m\u001b[0m\u001b[0m\n",
      "\u001b[0;31mValueError\u001b[0m: Could not find a format to write the specified file in single-image mode"
     ]
    }
   ],
   "source": [
    "# write to the public sfm bucket\n",
    "fs2 = fsspec.filesystem('s3', profile='default')\n",
    "with fs2.open('s3://cmgp-sfm-public-read-bucket/csherwood/'+ofile,'wb') as fo:\n",
    "    imageio.imwrite(fo,np.flip(rectified_image,0))"
   ]
  },
  {
   "cell_type": "code",
   "execution_count": 12,
   "metadata": {},
   "outputs": [
    {
     "name": "stderr",
     "output_type": "stream",
     "text": [
      "Clipping input data to the valid range for imshow with RGB data ([0..1] for floats or [0..255] for integers).\n"
     ]
    },
    {
     "data": {
      "image/png": "[encoded data removed]",
      "text/plain": [
       "<Figure size 432x288 with 1 Axes>"
      ]
     },
     "metadata": {
      "needs_background": "light"
     },
     "output_type": "display_data"
    }
   ],
   "source": [
    "plt.imshow( rectified_image.astype(np.int))\n",
    "plt.gca().invert_yaxis()"
   ]
  },
  {
   "cell_type": "code",
   "execution_count": null,
   "metadata": {},
   "outputs": [],
   "source": []
  }
 ],
 "metadata": {
  "kernelspec": {
   "display_name": "Python 3",
   "language": "python",
   "name": "python3"
  },
  "language_info": {
   "codemirror_mode": {
    "name": "ipython",
    "version": 3
   },
   "file_extension": ".py",
   "mimetype": "text/x-python",
   "name": "python",
   "nbconvert_exporter": "python",
   "pygments_lexer": "ipython3",
   "version": "3.7.8"
  }
 },
 "nbformat": 4,
 "nbformat_minor": 4
}
