{
 "cells": [
  {
   "cell_type": "code",
   "execution_count": 1,
   "id": "d15371e7",
   "metadata": {},
   "outputs": [],
   "source": [
    "import datetime\n",
    "import pandas as pd\n",
    "import numpy as np\n",
    "\n",
    "# for tides\n",
    "from scipy.interpolate import interp1d\n",
    "import h5py"
   ]
  },
  {
   "cell_type": "code",
   "execution_count": 2,
   "id": "dce1afe7",
   "metadata": {},
   "outputs": [
    {
     "name": "stdout",
     "output_type": "stream",
     "text": [
      "Using info for CACO01 - Head of the Meadow\n"
     ]
    }
   ],
   "source": [
    "station = 'CACO01'\n",
    "if station == 'CACO01':\n",
    "    print('Using info for CACO01 - Head of the Meadow')\n",
    "    # tide_file = 'C:/crs/src/CoastCam/data/HoM_ADCIRC_tide_predictions.mat'\n",
    "    tide_file = 'D:/crs/src/CoastCam/data/HoM_ADCIRC_tide_predictions.mat'\n",
    "    out_file = 'D:/crs/src/CoastCam/data/HoM_ADCIRC_tide_predictions.csv'\n",
    "\n",
    "    latitude = 42.0504803\n",
    "    longitude = -76.0773798\n",
    "\n",
    "elif station == 'CACO02':\n",
    "    print('Using info for CACO02 - Marconi Beach')\n",
    "    latitude = 42.0504796\n",
    "    longitude = -76.0773778\n",
    "    #tide_file = 'C:/crs/src/CoastCam/data/Marconi_ADCIRC_tide_predictions.mat'\n",
    "    tide_file = 'D:/crs/src/CoastCam/data/Marconi_ADCIRC_tide_predictions.mat'\n",
    "    out_file = 'D:/crs/src/CoastCam/data/Marconi_ADCIRC_tide_predictions.csv'\n",
    "\n",
    "\n",
    "# load tide file\n",
    "data = h5py.File(tide_file,'r')\n",
    "T = np.squeeze(np.array(data['T']))\n",
    "tid = np.squeeze(np.array(data['tid']))"
   ]
  },
  {
   "cell_type": "code",
   "execution_count": 3,
   "id": "bd73e121",
   "metadata": {},
   "outputs": [
    {
     "data": {
      "text/plain": [
       "DatetimeIndex([          '2006-01-01 00:00:00+00:00',\n",
       "               '2006-01-01 00:59:59.999996672+00:00',\n",
       "               '2006-01-01 02:00:00.000003328+00:00',\n",
       "                         '2006-01-01 03:00:00+00:00',\n",
       "               '2006-01-01 03:59:59.999996672+00:00',\n",
       "               '2006-01-01 05:00:00.000003328+00:00',\n",
       "                         '2006-01-01 06:00:00+00:00',\n",
       "               '2006-01-01 06:59:59.999996672+00:00',\n",
       "               '2006-01-01 08:00:00.000003328+00:00',\n",
       "                         '2006-01-01 09:00:00+00:00',\n",
       "               ...\n",
       "                         '2022-12-30 15:00:00+00:00',\n",
       "               '2022-12-30 15:59:59.999996672+00:00',\n",
       "               '2022-12-30 17:00:00.000003328+00:00',\n",
       "                         '2022-12-30 18:00:00+00:00',\n",
       "               '2022-12-30 18:59:59.999996672+00:00',\n",
       "               '2022-12-30 20:00:00.000003328+00:00',\n",
       "                         '2022-12-30 21:00:00+00:00',\n",
       "               '2022-12-30 21:59:59.999996672+00:00',\n",
       "               '2022-12-30 23:00:00.000003328+00:00',\n",
       "                         '2022-12-31 00:00:00+00:00'],\n",
       "              dtype='datetime64[ns, UTC]', length=148993, freq=None)"
      ]
     },
     "execution_count": 3,
     "metadata": {},
     "output_type": "execute_result"
    }
   ],
   "source": [
    "# https://stackoverflow.com/questions/13965740/converting-matlabs-datenum-format-to-python\n",
    "timestamps = pd.to_datetime(T-719529, unit='D', utc=True)\n",
    "timestamps"
   ]
  },
  {
   "cell_type": "code",
   "execution_count": 4,
   "id": "6fb2ad82",
   "metadata": {},
   "outputs": [],
   "source": [
    "df = pd.DataFrame(data = (timestamps, tid)).T\n",
    "df.columns=['dates','tide']\n",
    "df.to_csv(out_file,sep=',',index=False)"
   ]
  }
 ],
 "metadata": {
  "kernelspec": {
   "display_name": "Python 3 (ipykernel)",
   "language": "python",
   "name": "python3"
  },
  "language_info": {
   "codemirror_mode": {
    "name": "ipython",
    "version": 3
   },
   "file_extension": ".py",
   "mimetype": "text/x-python",
   "name": "python",
   "nbconvert_exporter": "python",
   "pygments_lexer": "ipython3",
   "version": "3.10.4"
  }
 },
 "nbformat": 4,
 "nbformat_minor": 5
}
