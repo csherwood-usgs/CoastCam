{
 "cells": [
  {
   "cell_type": "code",
   "execution_count": 1,
   "metadata": {},
   "outputs": [
    {
     "name": "stdout",
     "output_type": "stream",
     "text": [
      "[169.49266322 158.11420256 147.98440991] 158.53042522754546\n"
     ]
    }
   ],
   "source": [
    "from skimage import io\n",
    "from coastcam_funcs import *\n",
    "\n",
    "filename='1581508801.c1.timex.jpg'\n",
    "av, avall = average_color( filename)\n",
    "print(av, avall)"
   ]
  },
  {
   "cell_type": "code",
   "execution_count": 2,
   "metadata": {},
   "outputs": [
    {
     "name": "stdout",
     "output_type": "stream",
     "text": [
      "3.471611148396324\n"
     ]
    }
   ],
   "source": [
    "sharpness = estimate_sharpness(filename)\n",
    "print(sharpness)"
   ]
  }
 ],
 "metadata": {
  "kernelspec": {
   "display_name": "Python 3 (ipykernel)",
   "language": "python",
   "name": "python3"
  },
  "language_info": {
   "codemirror_mode": {
    "name": "ipython",
    "version": 3
   },
   "file_extension": ".py",
   "mimetype": "text/x-python",
   "name": "python",
   "nbconvert_exporter": "python",
   "pygments_lexer": "ipython3",
   "version": "3.10.4"
  }
 },
 "nbformat": 4,
 "nbformat_minor": 4
}
