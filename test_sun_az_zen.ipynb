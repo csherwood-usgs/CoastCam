{
 "cells": [
  {
   "cell_type": "code",
   "execution_count": 12,
   "id": "62db49b2",
   "metadata": {},
   "outputs": [
    {
     "name": "stdout",
     "output_type": "stream",
     "text": [
      "2022-08-22T13:00:00\n",
      "(1616267.22650135, -4459377.68244048, 4249769.8236741) m\n"
     ]
    }
   ],
   "source": [
    "# get Unix epoch\n",
    "from datetime import datetime, timedelta\n",
    "import astropy.coordinates as coord\n",
    "from astropy.time import Time\n",
    "import astropy.units as u\n",
    "\n",
    "time_vals = str(datetime(2022,8,22,13,0,0)).replace(\" \", \"T\")\n",
    "print(time_vals)\n",
    "latitude = 42.05049\n",
    "longitude = -70.07734\n",
    "loc = coord.EarthLocation(lon = longitude*u.deg, lat=latitude*u.deg)\n",
    "print(loc)"
   ]
  },
  {
   "cell_type": "code",
   "execution_count": 13,
   "id": "121f9dfa",
   "metadata": {},
   "outputs": [
    {
     "name": "stdout",
     "output_type": "stream",
     "text": [
      "105.09242525644122 57.02984686427535\n"
     ]
    }
   ],
   "source": [
    "#time_vals = str(datetime(ty, tm, td, th, tmin, ts) - timedelta(hours = utc_time_add)).replace(\" \", \"T\")\n",
    "input_time = Time(time_vals, format='isot', scale='utc') # UTC time\n",
    "altaz = coord.AltAz(location=loc, obstime=input_time)\n",
    "sun = coord.get_sun(input_time)\n",
    "\n",
    "# convert azimuth and zenith to degrees\n",
    "az_list = sun.transform_to(altaz).az.degree\n",
    "zen_list = sun.transform_to(altaz).zen.degree\n",
    "print(az_list,zen_list)"
   ]
  },
  {
   "cell_type": "code",
   "execution_count": 14,
   "id": "510eacd8",
   "metadata": {},
   "outputs": [
    {
     "name": "stdout",
     "output_type": "stream",
     "text": [
      "105.09242525644122 57.02984686427535\n"
     ]
    }
   ],
   "source": [
    "def sun_az_zen(timestr,latitude,longitude):\n",
    "    loc = coord.EarthLocation(lon = longitude*u.deg, lat=latitude*u.deg)\n",
    "    input_time = Time(time_vals, format='isot', scale='utc') # UTC time\n",
    "    altaz = coord.AltAz(location=loc, obstime=input_time)\n",
    "    sun = coord.get_sun(input_time)\n",
    "\n",
    "    # convert azimuth and zenith to degrees\n",
    "    az  = sun.transform_to(altaz).az.degree\n",
    "    zen = sun.transform_to(altaz).zen.degree\n",
    "    print(az, zen )\n",
    "    return(az, zen)\n",
    "\n",
    "az, zen = sun_az_zen(time_vals, latitude, longitude)\n",
    "\n",
    "    "
   ]
  },
  {
   "cell_type": "code",
   "execution_count": 19,
   "id": "4891080d",
   "metadata": {},
   "outputs": [
    {
     "name": "stdout",
     "output_type": "stream",
     "text": [
      "7.328177333333333\n"
     ]
    }
   ],
   "source": [
    "solar_noon = 12 + longitude*24/360\n",
    "print(solar_noon)"
   ]
  }
 ],
 "metadata": {
  "kernelspec": {
   "display_name": "Python 3 (ipykernel)",
   "language": "python",
   "name": "python3"
  },
  "language_info": {
   "codemirror_mode": {
    "name": "ipython",
    "version": 3
   },
   "file_extension": ".py",
   "mimetype": "text/x-python",
   "name": "python",
   "nbconvert_exporter": "python",
   "pygments_lexer": "ipython3",
   "version": "3.10.4"
  }
 },
 "nbformat": 4,
 "nbformat_minor": 5
}
