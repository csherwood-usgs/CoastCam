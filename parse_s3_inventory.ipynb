{
 "cells": [
  {
   "cell_type": "code",
   "execution_count": 1,
   "metadata": {},
   "outputs": [],
   "source": [
    "import datetime\n",
    "from dateutil import tz\n",
    "import fsspec\n",
    "import numpy as np\n",
    "import matplotlib.pyplot as plt\n",
    "import pandas as pd\n",
    "%matplotlib inline"
   ]
  },
  {
   "cell_type": "code",
   "execution_count": 16,
   "metadata": {},
   "outputs": [
    {
     "data": {
      "text/html": [
       "<div>\n",
       "<style scoped>\n",
       "    .dataframe tbody tr th:only-of-type {\n",
       "        vertical-align: middle;\n",
       "    }\n",
       "\n",
       "    .dataframe tbody tr th {\n",
       "        vertical-align: top;\n",
       "    }\n",
       "\n",
       "    .dataframe thead th {\n",
       "        text-align: right;\n",
       "    }\n",
       "</style>\n",
       "<table border=\"1\" class=\"dataframe\">\n",
       "  <thead>\n",
       "    <tr style=\"text-align: right;\">\n",
       "      <th></th>\n",
       "      <th>datetime</th>\n",
       "      <th>filename</th>\n",
       "    </tr>\n",
       "  </thead>\n",
       "  <tbody>\n",
       "    <tr>\n",
       "      <th>0</th>\n",
       "      <td>2019-12-11 15:45:06</td>\n",
       "      <td>1576094400.c1.snap.jpg</td>\n",
       "    </tr>\n",
       "    <tr>\n",
       "      <th>1</th>\n",
       "      <td>2019-12-11 15:45:07</td>\n",
       "      <td>1576094400.c2.snap.jpg</td>\n",
       "    </tr>\n",
       "    <tr>\n",
       "      <th>2</th>\n",
       "      <td>2019-12-11 15:45:08</td>\n",
       "      <td>1576094401.c1.timex.jpg</td>\n",
       "    </tr>\n",
       "    <tr>\n",
       "      <th>3</th>\n",
       "      <td>2019-12-11 15:45:08</td>\n",
       "      <td>1576094401.c2.timex.jpg</td>\n",
       "    </tr>\n",
       "    <tr>\n",
       "      <th>4</th>\n",
       "      <td>2019-12-11 15:45:09</td>\n",
       "      <td>1576094402.c1.var.jpg</td>\n",
       "    </tr>\n",
       "    <tr>\n",
       "      <th>...</th>\n",
       "      <td>...</td>\n",
       "      <td>...</td>\n",
       "    </tr>\n",
       "    <tr>\n",
       "      <th>89608</th>\n",
       "      <td>2020-09-25 16:04:50</td>\n",
       "      <td>1601062203.c2.bright.jpg</td>\n",
       "    </tr>\n",
       "    <tr>\n",
       "      <th>89609</th>\n",
       "      <td>2020-09-25 16:04:53</td>\n",
       "      <td>1601062204.c1.dark.jpg</td>\n",
       "    </tr>\n",
       "    <tr>\n",
       "      <th>89610</th>\n",
       "      <td>2020-09-25 16:04:57</td>\n",
       "      <td>1601062204.c2.dark.jpg</td>\n",
       "    </tr>\n",
       "    <tr>\n",
       "      <th>89611</th>\n",
       "      <td>2020-09-25 16:04:59</td>\n",
       "      <td>1601062205.c1.rundark.jpg</td>\n",
       "    </tr>\n",
       "    <tr>\n",
       "      <th>89612</th>\n",
       "      <td>2020-09-25 16:05:03</td>\n",
       "      <td>1601062205.c2.rundark.jpg</td>\n",
       "    </tr>\n",
       "  </tbody>\n",
       "</table>\n",
       "<p>89613 rows × 2 columns</p>\n",
       "</div>"
      ],
      "text/plain": [
       "                 datetime                   filename\n",
       "0     2019-12-11 15:45:06     1576094400.c1.snap.jpg\n",
       "1     2019-12-11 15:45:07     1576094400.c2.snap.jpg\n",
       "2     2019-12-11 15:45:08    1576094401.c1.timex.jpg\n",
       "3     2019-12-11 15:45:08    1576094401.c2.timex.jpg\n",
       "4     2019-12-11 15:45:09      1576094402.c1.var.jpg\n",
       "...                   ...                        ...\n",
       "89608 2020-09-25 16:04:50   1601062203.c2.bright.jpg\n",
       "89609 2020-09-25 16:04:53     1601062204.c1.dark.jpg\n",
       "89610 2020-09-25 16:04:57     1601062204.c2.dark.jpg\n",
       "89611 2020-09-25 16:04:59  1601062205.c1.rundark.jpg\n",
       "89612 2020-09-25 16:05:03  1601062205.c2.rundark.jpg\n",
       "\n",
       "[89613 rows x 2 columns]"
      ]
     },
     "execution_count": 16,
     "metadata": {},
     "output_type": "execute_result"
    }
   ],
   "source": [
    "df = pd.read_csv('caco-01_inventory.txt', header=None, delim_whitespace=True, parse_dates={'datetime': [0, 1]})\n",
    "df.rename(columns={2:'fid',3:'filename'}, inplace=True)\n",
    "del df['fid']\n",
    "df"
   ]
  },
  {
   "cell_type": "code",
   "execution_count": 22,
   "metadata": {},
   "outputs": [
    {
     "name": "stdout",
     "output_type": "stream",
     "text": [
      "c1.snap 7720\n",
      "c1.timex 7718\n",
      "c1.bright 7718\n",
      "c1.dark 7718\n",
      "c1.var 7718\n",
      "c2.snap 7218\n",
      "c2.timex 7217\n",
      "c2.bright 7217\n",
      "c2.dark 7217\n",
      "c2.var 7217\n"
     ]
    }
   ],
   "source": [
    "cams = ['c1','c2']\n",
    "pics = ['snap','timex','bright','dark','var']\n",
    "for c in cams:\n",
    "    for p in pics:\n",
    "        s = c+'.'+p\n",
    "        print(s, df['filename'].str.contains(s).sum())"
   ]
  },
  {
   "cell_type": "code",
   "execution_count": 24,
   "metadata": {},
   "outputs": [
    {
     "name": "stdout",
     "output_type": "stream",
     "text": [
      "0.9349740932642487\n"
     ]
    }
   ],
   "source": [
    "print(7218/7720)"
   ]
  },
  {
   "cell_type": "code",
   "execution_count": 26,
   "metadata": {},
   "outputs": [
    {
     "name": "stdout",
     "output_type": "stream",
     "text": [
      "2020-01-01 00:00:00\n",
      "2020-09-21 19:30:00\n"
     ]
    }
   ],
   "source": [
    "date_time_str = '2020-01-01 00:00'\n",
    "date_time_obj = datetime.datetime.strptime(date_time_str, '%Y-%m-%d %H:%M')\n",
    "print(date_time_obj)\n",
    "utc = datetime.datetime.utcfromtimestamp(1600716600)\n",
    "print(utc)"
   ]
  },
  {
   "cell_type": "code",
   "execution_count": 33,
   "metadata": {},
   "outputs": [
    {
     "name": "stdout",
     "output_type": "stream",
     "text": [
      "06:00:00\n",
      "06:30:00\n",
      "07:00:00\n",
      "07:30:00\n",
      "08:00:00\n",
      "08:30:00\n",
      "09:00:00\n",
      "09:30:00\n",
      "10:00:00\n",
      "10:30:00\n",
      "11:00:00\n",
      "11:30:00\n",
      "12:00:00\n",
      "12:30:00\n",
      "13:00:00\n",
      "13:30:00\n",
      "14:00:00\n",
      "14:30:00\n",
      "15:00:00\n",
      "15:30:00\n",
      "16:00:00\n",
      "16:30:00\n",
      "17:00:00\n",
      "17:30:00\n",
      "18:00:00\n",
      "18:30:00\n",
      "19:00:00\n",
      "19:30:00\n"
     ]
    }
   ],
   "source": [
    "hr_list = ['06','07','08','09','10','11','12','13','14','15','16','17','18','19']\n",
    "mn_list = ['00','30']\n",
    "for h in hr_list:\n",
    "    for m in mn_list:\n",
    "        dts = ('2020-01-01 '+h+':'+m)\n",
    "        dto = datetime.datetime.strptime(dts, '%Y-%m-%d %H:%M')\n",
    "        print(dto.time())"
   ]
  }
 ],
 "metadata": {
  "kernelspec": {
   "display_name": "Python 3",
   "language": "python",
   "name": "python3"
  },
  "language_info": {
   "codemirror_mode": {
    "name": "ipython",
    "version": 3
   },
   "file_extension": ".py",
   "mimetype": "text/x-python",
   "name": "python",
   "nbconvert_exporter": "python",
   "pygments_lexer": "ipython3",
   "version": "3.7.6"
  }
 },
 "nbformat": 4,
 "nbformat_minor": 4
}
