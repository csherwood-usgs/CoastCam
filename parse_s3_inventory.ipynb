{
 "cells": [
  {
   "cell_type": "code",
   "execution_count": 1,
   "metadata": {},
   "outputs": [],
   "source": [
    "import datetime\n",
    "from dateutil import tz\n",
    "import fsspec\n",
    "import numpy as np\n",
    "import matplotlib.pyplot as plt\n",
    "import pandas as pd\n",
    "%matplotlib inline"
   ]
  },
  {
   "cell_type": "markdown",
   "metadata": {},
   "source": [
    "### Read in the inventory "
   ]
  },
  {
   "cell_type": "code",
   "execution_count": 2,
   "metadata": {},
   "outputs": [
    {
     "data": {
      "text/html": [
       "<div>\n",
       "<style scoped>\n",
       "    .dataframe tbody tr th:only-of-type {\n",
       "        vertical-align: middle;\n",
       "    }\n",
       "\n",
       "    .dataframe tbody tr th {\n",
       "        vertical-align: top;\n",
       "    }\n",
       "\n",
       "    .dataframe thead th {\n",
       "        text-align: right;\n",
       "    }\n",
       "</style>\n",
       "<table border=\"1\" class=\"dataframe\">\n",
       "  <thead>\n",
       "    <tr style=\"text-align: right;\">\n",
       "      <th></th>\n",
       "      <th>datetime</th>\n",
       "      <th>filename</th>\n",
       "    </tr>\n",
       "  </thead>\n",
       "  <tbody>\n",
       "    <tr>\n",
       "      <th>0</th>\n",
       "      <td>2019-12-11 15:45:06</td>\n",
       "      <td>1576094400.c1.snap.jpg</td>\n",
       "    </tr>\n",
       "    <tr>\n",
       "      <th>1</th>\n",
       "      <td>2019-12-11 15:45:07</td>\n",
       "      <td>1576094400.c2.snap.jpg</td>\n",
       "    </tr>\n",
       "    <tr>\n",
       "      <th>2</th>\n",
       "      <td>2019-12-11 15:45:08</td>\n",
       "      <td>1576094401.c1.timex.jpg</td>\n",
       "    </tr>\n",
       "    <tr>\n",
       "      <th>3</th>\n",
       "      <td>2019-12-11 15:45:08</td>\n",
       "      <td>1576094401.c2.timex.jpg</td>\n",
       "    </tr>\n",
       "    <tr>\n",
       "      <th>4</th>\n",
       "      <td>2019-12-11 15:45:09</td>\n",
       "      <td>1576094402.c1.var.jpg</td>\n",
       "    </tr>\n",
       "    <tr>\n",
       "      <th>...</th>\n",
       "      <td>...</td>\n",
       "      <td>...</td>\n",
       "    </tr>\n",
       "    <tr>\n",
       "      <th>89608</th>\n",
       "      <td>2020-09-25 16:04:50</td>\n",
       "      <td>1601062203.c2.bright.jpg</td>\n",
       "    </tr>\n",
       "    <tr>\n",
       "      <th>89609</th>\n",
       "      <td>2020-09-25 16:04:53</td>\n",
       "      <td>1601062204.c1.dark.jpg</td>\n",
       "    </tr>\n",
       "    <tr>\n",
       "      <th>89610</th>\n",
       "      <td>2020-09-25 16:04:57</td>\n",
       "      <td>1601062204.c2.dark.jpg</td>\n",
       "    </tr>\n",
       "    <tr>\n",
       "      <th>89611</th>\n",
       "      <td>2020-09-25 16:04:59</td>\n",
       "      <td>1601062205.c1.rundark.jpg</td>\n",
       "    </tr>\n",
       "    <tr>\n",
       "      <th>89612</th>\n",
       "      <td>2020-09-25 16:05:03</td>\n",
       "      <td>1601062205.c2.rundark.jpg</td>\n",
       "    </tr>\n",
       "  </tbody>\n",
       "</table>\n",
       "<p>89613 rows × 2 columns</p>\n",
       "</div>"
      ],
      "text/plain": [
       "                 datetime                   filename\n",
       "0     2019-12-11 15:45:06     1576094400.c1.snap.jpg\n",
       "1     2019-12-11 15:45:07     1576094400.c2.snap.jpg\n",
       "2     2019-12-11 15:45:08    1576094401.c1.timex.jpg\n",
       "3     2019-12-11 15:45:08    1576094401.c2.timex.jpg\n",
       "4     2019-12-11 15:45:09      1576094402.c1.var.jpg\n",
       "...                   ...                        ...\n",
       "89608 2020-09-25 16:04:50   1601062203.c2.bright.jpg\n",
       "89609 2020-09-25 16:04:53     1601062204.c1.dark.jpg\n",
       "89610 2020-09-25 16:04:57     1601062204.c2.dark.jpg\n",
       "89611 2020-09-25 16:04:59  1601062205.c1.rundark.jpg\n",
       "89612 2020-09-25 16:05:03  1601062205.c2.rundark.jpg\n",
       "\n",
       "[89613 rows x 2 columns]"
      ]
     },
     "execution_count": 2,
     "metadata": {},
     "output_type": "execute_result"
    }
   ],
   "source": [
    "df = pd.read_csv('caco-01_inventory.txt', header=None, delim_whitespace=True, parse_dates={'datetime': [0, 1]})\n",
    "df.rename(columns={2:'fid',3:'filename'}, inplace=True)\n",
    "del df['fid']\n",
    "df"
   ]
  },
  {
   "cell_type": "code",
   "execution_count": 3,
   "metadata": {},
   "outputs": [
    {
     "data": {
      "text/html": [
       "<div>\n",
       "<style scoped>\n",
       "    .dataframe tbody tr th:only-of-type {\n",
       "        vertical-align: middle;\n",
       "    }\n",
       "\n",
       "    .dataframe tbody tr th {\n",
       "        vertical-align: top;\n",
       "    }\n",
       "\n",
       "    .dataframe thead th {\n",
       "        text-align: right;\n",
       "    }\n",
       "</style>\n",
       "<table border=\"1\" class=\"dataframe\">\n",
       "  <thead>\n",
       "    <tr style=\"text-align: right;\">\n",
       "      <th></th>\n",
       "      <th>datetime</th>\n",
       "      <th>filename</th>\n",
       "    </tr>\n",
       "  </thead>\n",
       "  <tbody>\n",
       "    <tr>\n",
       "      <th>2</th>\n",
       "      <td>2019-12-11 15:45:08</td>\n",
       "      <td>1576094401.c1.timex.jpg</td>\n",
       "    </tr>\n",
       "    <tr>\n",
       "      <th>14</th>\n",
       "      <td>2019-12-11 15:45:15</td>\n",
       "      <td>1576096201.c1.timex.jpg</td>\n",
       "    </tr>\n",
       "    <tr>\n",
       "      <th>26</th>\n",
       "      <td>2019-12-11 16:45:06</td>\n",
       "      <td>1576098001.c1.timex.jpg</td>\n",
       "    </tr>\n",
       "    <tr>\n",
       "      <th>38</th>\n",
       "      <td>2019-12-11 16:45:16</td>\n",
       "      <td>1576099801.c1.timex.jpg</td>\n",
       "    </tr>\n",
       "    <tr>\n",
       "      <th>50</th>\n",
       "      <td>2019-12-12 11:45:07</td>\n",
       "      <td>1576166401.c1.timex.jpg</td>\n",
       "    </tr>\n",
       "    <tr>\n",
       "      <th>...</th>\n",
       "      <td>...</td>\n",
       "      <td>...</td>\n",
       "    </tr>\n",
       "    <tr>\n",
       "      <th>89555</th>\n",
       "      <td>2020-09-25 13:59:41</td>\n",
       "      <td>1601055001.c1.timex.jpg</td>\n",
       "    </tr>\n",
       "    <tr>\n",
       "      <th>89567</th>\n",
       "      <td>2020-09-25 15:07:12</td>\n",
       "      <td>1601056801.c1.timex.jpg</td>\n",
       "    </tr>\n",
       "    <tr>\n",
       "      <th>89579</th>\n",
       "      <td>2020-09-25 15:08:32</td>\n",
       "      <td>1601058601.c1.timex.jpg</td>\n",
       "    </tr>\n",
       "    <tr>\n",
       "      <th>89591</th>\n",
       "      <td>2020-09-25 16:03:51</td>\n",
       "      <td>1601060401.c1.timex.jpg</td>\n",
       "    </tr>\n",
       "    <tr>\n",
       "      <th>89603</th>\n",
       "      <td>2020-09-25 16:04:34</td>\n",
       "      <td>1601062201.c1.timex.jpg</td>\n",
       "    </tr>\n",
       "  </tbody>\n",
       "</table>\n",
       "<p>7718 rows × 2 columns</p>\n",
       "</div>"
      ],
      "text/plain": [
       "                 datetime                 filename\n",
       "2     2019-12-11 15:45:08  1576094401.c1.timex.jpg\n",
       "14    2019-12-11 15:45:15  1576096201.c1.timex.jpg\n",
       "26    2019-12-11 16:45:06  1576098001.c1.timex.jpg\n",
       "38    2019-12-11 16:45:16  1576099801.c1.timex.jpg\n",
       "50    2019-12-12 11:45:07  1576166401.c1.timex.jpg\n",
       "...                   ...                      ...\n",
       "89555 2020-09-25 13:59:41  1601055001.c1.timex.jpg\n",
       "89567 2020-09-25 15:07:12  1601056801.c1.timex.jpg\n",
       "89579 2020-09-25 15:08:32  1601058601.c1.timex.jpg\n",
       "89591 2020-09-25 16:03:51  1601060401.c1.timex.jpg\n",
       "89603 2020-09-25 16:04:34  1601062201.c1.timex.jpg\n",
       "\n",
       "[7718 rows x 2 columns]"
      ]
     },
     "execution_count": 3,
     "metadata": {},
     "output_type": "execute_result"
    }
   ],
   "source": [
    "# find instances of timex.c1\n",
    "df2 = df[df['filename'].str.contains('c1.timex')]\n",
    "df2"
   ]
  },
  {
   "cell_type": "code",
   "execution_count": 4,
   "metadata": {},
   "outputs": [
    {
     "data": {
      "text/plain": [
       "1"
      ]
     },
     "execution_count": 4,
     "metadata": {},
     "output_type": "execute_result"
    }
   ],
   "source": [
    "# example of how to test to see if a specific record exists\n",
    "len(df[df['filename'].isin(['1576094401.c2.timex.jpg'])])"
   ]
  },
  {
   "cell_type": "markdown",
   "metadata": {},
   "source": [
    "#### Find all of the `c1.timex` images, then loop through and see if they have matching `c2` images"
   ]
  },
  {
   "cell_type": "code",
   "execution_count": 5,
   "metadata": {},
   "outputs": [
    {
     "data": {
      "text/html": [
       "<div>\n",
       "<style scoped>\n",
       "    .dataframe tbody tr th:only-of-type {\n",
       "        vertical-align: middle;\n",
       "    }\n",
       "\n",
       "    .dataframe tbody tr th {\n",
       "        vertical-align: top;\n",
       "    }\n",
       "\n",
       "    .dataframe thead th {\n",
       "        text-align: right;\n",
       "    }\n",
       "</style>\n",
       "<table border=\"1\" class=\"dataframe\">\n",
       "  <thead>\n",
       "    <tr style=\"text-align: right;\">\n",
       "      <th></th>\n",
       "      <th>datetime</th>\n",
       "      <th>filename</th>\n",
       "    </tr>\n",
       "  </thead>\n",
       "  <tbody>\n",
       "    <tr>\n",
       "      <th>2</th>\n",
       "      <td>2019-12-11 15:45:08</td>\n",
       "      <td>1576094401.c1.timex.jpg</td>\n",
       "    </tr>\n",
       "    <tr>\n",
       "      <th>14</th>\n",
       "      <td>2019-12-11 15:45:15</td>\n",
       "      <td>1576096201.c1.timex.jpg</td>\n",
       "    </tr>\n",
       "    <tr>\n",
       "      <th>26</th>\n",
       "      <td>2019-12-11 16:45:06</td>\n",
       "      <td>1576098001.c1.timex.jpg</td>\n",
       "    </tr>\n",
       "    <tr>\n",
       "      <th>38</th>\n",
       "      <td>2019-12-11 16:45:16</td>\n",
       "      <td>1576099801.c1.timex.jpg</td>\n",
       "    </tr>\n",
       "    <tr>\n",
       "      <th>50</th>\n",
       "      <td>2019-12-12 11:45:07</td>\n",
       "      <td>1576166401.c1.timex.jpg</td>\n",
       "    </tr>\n",
       "    <tr>\n",
       "      <th>...</th>\n",
       "      <td>...</td>\n",
       "      <td>...</td>\n",
       "    </tr>\n",
       "    <tr>\n",
       "      <th>89555</th>\n",
       "      <td>2020-09-25 13:59:41</td>\n",
       "      <td>1601055001.c1.timex.jpg</td>\n",
       "    </tr>\n",
       "    <tr>\n",
       "      <th>89567</th>\n",
       "      <td>2020-09-25 15:07:12</td>\n",
       "      <td>1601056801.c1.timex.jpg</td>\n",
       "    </tr>\n",
       "    <tr>\n",
       "      <th>89579</th>\n",
       "      <td>2020-09-25 15:08:32</td>\n",
       "      <td>1601058601.c1.timex.jpg</td>\n",
       "    </tr>\n",
       "    <tr>\n",
       "      <th>89591</th>\n",
       "      <td>2020-09-25 16:03:51</td>\n",
       "      <td>1601060401.c1.timex.jpg</td>\n",
       "    </tr>\n",
       "    <tr>\n",
       "      <th>89603</th>\n",
       "      <td>2020-09-25 16:04:34</td>\n",
       "      <td>1601062201.c1.timex.jpg</td>\n",
       "    </tr>\n",
       "  </tbody>\n",
       "</table>\n",
       "<p>7718 rows × 2 columns</p>\n",
       "</div>"
      ],
      "text/plain": [
       "                 datetime                 filename\n",
       "2     2019-12-11 15:45:08  1576094401.c1.timex.jpg\n",
       "14    2019-12-11 15:45:15  1576096201.c1.timex.jpg\n",
       "26    2019-12-11 16:45:06  1576098001.c1.timex.jpg\n",
       "38    2019-12-11 16:45:16  1576099801.c1.timex.jpg\n",
       "50    2019-12-12 11:45:07  1576166401.c1.timex.jpg\n",
       "...                   ...                      ...\n",
       "89555 2020-09-25 13:59:41  1601055001.c1.timex.jpg\n",
       "89567 2020-09-25 15:07:12  1601056801.c1.timex.jpg\n",
       "89579 2020-09-25 15:08:32  1601058601.c1.timex.jpg\n",
       "89591 2020-09-25 16:03:51  1601060401.c1.timex.jpg\n",
       "89603 2020-09-25 16:04:34  1601062201.c1.timex.jpg\n",
       "\n",
       "[7718 rows x 2 columns]"
      ]
     },
     "execution_count": 5,
     "metadata": {},
     "output_type": "execute_result"
    }
   ],
   "source": [
    "# find instances of timex.c1\n",
    "df2 = df[df['filename'].str.contains('c1.timex')]\n",
    "df2"
   ]
  },
  {
   "cell_type": "code",
   "execution_count": 6,
   "metadata": {},
   "outputs": [
    {
     "name": "stdout",
     "output_type": "stream",
     "text": [
      "7208 510 7718\n"
     ]
    }
   ],
   "source": [
    "filelist = [ ]\n",
    "matches = 0\n",
    "no_matches = 0\n",
    "for i, row in df2.iterrows():\n",
    "    fs1 = row['filename']\n",
    "    # print(fs1)\n",
    "    fn1 = list(fs1)\n",
    "    fn2 = fn1.copy()\n",
    "    fn2[12]='2'\n",
    "    fs2=\"\".join(fn2)\n",
    "    # print(fs2)\n",
    "    if len(df[df['filename'].isin([fs2])]) == 1:\n",
    "        filelist.append(fs1)\n",
    "        matches += 1\n",
    "    else:\n",
    "        no_matches += 1\n",
    "\n",
    "print(matches, no_matches, matches+no_matches)    "
   ]
  },
  {
   "cell_type": "code",
   "execution_count": 7,
   "metadata": {},
   "outputs": [
    {
     "name": "stdout",
     "output_type": "stream",
     "text": [
      "c1.snap 7720\n",
      "c1.timex 7718\n",
      "c1.bright 7718\n",
      "c1.dark 7718\n",
      "c1.var 7718\n",
      "c2.snap 7218\n",
      "c2.timex 7217\n",
      "c2.bright 7217\n",
      "c2.dark 7217\n",
      "c2.var 7217\n"
     ]
    }
   ],
   "source": [
    "cams = ['c1','c2']\n",
    "pics = ['snap','timex','bright','dark','var']\n",
    "for c in cams:\n",
    "    for p in pics:\n",
    "        s = c+'.'+p\n",
    "        print(s, df['filename'].str.contains(s).sum())"
   ]
  },
  {
   "cell_type": "code",
   "execution_count": 8,
   "metadata": {},
   "outputs": [
    {
     "name": "stdout",
     "output_type": "stream",
     "text": [
      "0.9349740932642487\n"
     ]
    }
   ],
   "source": [
    "print(7218/7720)"
   ]
  },
  {
   "cell_type": "code",
   "execution_count": 9,
   "metadata": {},
   "outputs": [
    {
     "name": "stdout",
     "output_type": "stream",
     "text": [
      "2020-01-01 00:00:00\n",
      "2020-09-21 19:30:00\n"
     ]
    }
   ],
   "source": [
    "date_time_str = '2020-01-01 00:00'\n",
    "date_time_obj = datetime.datetime.strptime(date_time_str, '%Y-%m-%d %H:%M')\n",
    "print(date_time_obj)\n",
    "utc = datetime.datetime.utcfromtimestamp(1600716600)\n",
    "print(utc)"
   ]
  },
  {
   "cell_type": "code",
   "execution_count": 10,
   "metadata": {},
   "outputs": [
    {
     "name": "stdout",
     "output_type": "stream",
     "text": [
      "06:00:00\n",
      "06:30:00\n",
      "07:00:00\n",
      "07:30:00\n",
      "08:00:00\n",
      "08:30:00\n",
      "09:00:00\n",
      "09:30:00\n",
      "10:00:00\n",
      "10:30:00\n",
      "11:00:00\n",
      "11:30:00\n",
      "12:00:00\n",
      "12:30:00\n",
      "13:00:00\n",
      "13:30:00\n",
      "14:00:00\n",
      "14:30:00\n",
      "15:00:00\n",
      "15:30:00\n",
      "16:00:00\n",
      "16:30:00\n",
      "17:00:00\n",
      "17:30:00\n",
      "18:00:00\n",
      "18:30:00\n",
      "19:00:00\n",
      "19:30:00\n"
     ]
    }
   ],
   "source": [
    "hr_list = ['06','07','08','09','10','11','12','13','14','15','16','17','18','19']\n",
    "mn_list = ['00','30']\n",
    "for h in hr_list:\n",
    "    for m in mn_list:\n",
    "        dts = ('2020-01-01 '+h+':'+m)\n",
    "        dto = datetime.datetime.strptime(dts, '%Y-%m-%d %H:%M')\n",
    "        print(dto.time())"
   ]
  }
 ],
 "metadata": {
  "kernelspec": {
   "display_name": "Python 3",
   "language": "python",
   "name": "python3"
  },
  "language_info": {
   "codemirror_mode": {
    "name": "ipython",
    "version": 3
   },
   "file_extension": ".py",
   "mimetype": "text/x-python",
   "name": "python",
   "nbconvert_exporter": "python",
   "pygments_lexer": "ipython3",
   "version": "3.7.8"
  }
 },
 "nbformat": 4,
 "nbformat_minor": 4
}
