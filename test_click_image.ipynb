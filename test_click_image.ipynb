{
 "cells": [
  {
   "cell_type": "code",
   "execution_count": 6,
   "id": "57d62c71",
   "metadata": {},
   "outputs": [],
   "source": [
    "# import the required library\n",
    "import cv2\n",
    "\n",
    "# define a function to display the coordinates of\n",
    "# of the points clicked on the image\n",
    "\n",
    "img_dir = 'D:/crs/proj/2019_CACO_CoastCam/CACO-02/2023-03-22_extrinsics/images/'\n",
    "img_fname = '1679497200.Wed.Mar.22_15_00_00.GMT.2023.caco-02.c2.timex.jpg'\n",
    "\n",
    "def click_event(event, x, y, flags, params):\n",
    "   if event == cv2.EVENT_LBUTTONDOWN:\n",
    "      print(f'({x},{y})')\n",
    "      \n",
    "      # put coordinates as text on the image\n",
    "      cv2.putText(img, f'({x},{y})',(x,y),\n",
    "      cv2.FONT_HERSHEY_SIMPLEX, 1, (0, 0, 255), 2)\n",
    "      \n",
    "      # draw point on the image\n",
    "      cv2.circle(img, (x,y), 3, (0,255,255), -1)\n",
    " \n",
    "# read the input image\n",
    "img = cv2.imread(img_dir+img_fname)\n",
    "\n",
    "# create a window\n",
    "cv2.namedWindow('Point Coordinates')\n",
    "\n",
    "cv2.imshow('Point Coordinates',img)\n",
    "cv2.waitKey(0)\n",
    "cv2.destroyAllWindows()"
   ]
  },
  {
   "cell_type": "code",
   "execution_count": 3,
   "id": "8b341ec5-7b9f-445f-b95c-cdb2d5a8dd0c",
   "metadata": {},
   "outputs": [],
   "source": [
    "# # read the input image\n",
    "# img = cv2.imread(img_dir+img_fname)\n",
    "\n",
    "# # create a window\n",
    "# cv2.namedWindow('Point Coordinates')\n",
    "\n",
    "# # bind the callback function to window\n",
    "# cv2.setMouseCallback('Point Coordinates', click_event)\n",
    "\n",
    "# # display the image\n",
    "# while True:\n",
    "#    cv2.imshow('Point Coordinates',img)\n",
    "#    k = cv2.waitKey(1) & 0xFF\n",
    "#    if k == 27:\n",
    "#       break\n",
    "cv2.destroyAllWindows()"
   ]
  }
 ],
 "metadata": {
  "kernelspec": {
   "display_name": "Python 3 (ipykernel)",
   "language": "python",
   "name": "python3"
  },
  "language_info": {
   "codemirror_mode": {
    "name": "ipython",
    "version": 3
   },
   "file_extension": ".py",
   "mimetype": "text/x-python",
   "name": "python",
   "nbconvert_exporter": "python",
   "pygments_lexer": "ipython3",
   "version": "3.9.16"
  }
 },
 "nbformat": 4,
 "nbformat_minor": 5
}
