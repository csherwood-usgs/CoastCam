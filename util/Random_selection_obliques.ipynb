{
 "cells": [
  {
   "cell_type": "markdown",
   "metadata": {},
   "source": [
    "### Random selection of files"
   ]
  },
  {
   "cell_type": "code",
   "execution_count": 1,
   "metadata": {},
   "outputs": [
    {
     "name": "stderr",
     "output_type": "stream",
     "text": [
      "C:\\Users\\csherwood\\AppData\\Local\\Continuum\\miniconda3\\envs\\CRS\\lib\\site-packages\\skimage\\io\\manage_plugins.py:23: UserWarning: Your installed pillow version is < 7.1.0. Several security issues (CVE-2020-11538, CVE-2020-10379, CVE-2020-10994, CVE-2020-10177) have been fixed in pillow 7.1.0 or higher. We recommend to upgrade this library.\n",
      "  from .collection import imread_collection_wrapper\n"
     ]
    }
   ],
   "source": [
    "from pathlib import Path\n",
    "import imageio\n",
    "import fsspec\n",
    "import numpy as np\n",
    "import matplotlib.pyplot as plt\n",
    "import datetime\n",
    "from dateutil import tz\n",
    "import pandas as pd\n",
    "\n",
    "from coastcam_funcs import *\n",
    "from calibration_crs import *\n",
    "from rectifier_crs import *"
   ]
  },
  {
   "cell_type": "markdown",
   "metadata": {},
   "source": [
    "#### Read the inventory of products  \n",
    "Generated with `aws s3 ls s3://cmgp-coastcam/cameras/caco-01/products/ --profile coastcam > inventory.txt`  \n",
    "Then edited to remove a few bad entries.\n",
    "These have beeen deleted from the S3 bucket."
   ]
  },
  {
   "cell_type": "code",
   "execution_count": 2,
   "metadata": {},
   "outputs": [
    {
     "data": {
      "text/html": [
       "<div>\n",
       "<style scoped>\n",
       "    .dataframe tbody tr th:only-of-type {\n",
       "        vertical-align: middle;\n",
       "    }\n",
       "\n",
       "    .dataframe tbody tr th {\n",
       "        vertical-align: top;\n",
       "    }\n",
       "\n",
       "    .dataframe thead th {\n",
       "        text-align: right;\n",
       "    }\n",
       "</style>\n",
       "<table border=\"1\" class=\"dataframe\">\n",
       "  <thead>\n",
       "    <tr style=\"text-align: right;\">\n",
       "      <th></th>\n",
       "      <th>datetime</th>\n",
       "      <th>filename</th>\n",
       "    </tr>\n",
       "  </thead>\n",
       "  <tbody>\n",
       "    <tr>\n",
       "      <th>0</th>\n",
       "      <td>2019-12-13 13:45:15</td>\n",
       "      <td>1576260000.c1.snap.jpg</td>\n",
       "    </tr>\n",
       "    <tr>\n",
       "      <th>1</th>\n",
       "      <td>2019-12-13 13:45:15</td>\n",
       "      <td>1576260000.c2.snap.jpg</td>\n",
       "    </tr>\n",
       "    <tr>\n",
       "      <th>2</th>\n",
       "      <td>2019-12-13 13:45:16</td>\n",
       "      <td>1576260001.c1.timex.jpg</td>\n",
       "    </tr>\n",
       "    <tr>\n",
       "      <th>3</th>\n",
       "      <td>2019-12-13 13:45:17</td>\n",
       "      <td>1576260001.c2.timex.jpg</td>\n",
       "    </tr>\n",
       "    <tr>\n",
       "      <th>4</th>\n",
       "      <td>2019-12-13 13:45:18</td>\n",
       "      <td>1576260002.c1.var.jpg</td>\n",
       "    </tr>\n",
       "    <tr>\n",
       "      <th>...</th>\n",
       "      <td>...</td>\n",
       "      <td>...</td>\n",
       "    </tr>\n",
       "    <tr>\n",
       "      <th>126214</th>\n",
       "      <td>2021-02-12 14:54:42</td>\n",
       "      <td>1613151003.c2.bright.jpg</td>\n",
       "    </tr>\n",
       "    <tr>\n",
       "      <th>126215</th>\n",
       "      <td>2021-02-12 14:54:42</td>\n",
       "      <td>1613151004.c1.dark.jpg</td>\n",
       "    </tr>\n",
       "    <tr>\n",
       "      <th>126216</th>\n",
       "      <td>2021-02-12 14:54:42</td>\n",
       "      <td>1613151004.c2.dark.jpg</td>\n",
       "    </tr>\n",
       "    <tr>\n",
       "      <th>126217</th>\n",
       "      <td>2021-02-12 14:54:43</td>\n",
       "      <td>1613151005.c1.rundark.jpg</td>\n",
       "    </tr>\n",
       "    <tr>\n",
       "      <th>126218</th>\n",
       "      <td>2021-02-12 14:54:43</td>\n",
       "      <td>1613151005.c2.rundark.jpg</td>\n",
       "    </tr>\n",
       "  </tbody>\n",
       "</table>\n",
       "<p>126219 rows × 2 columns</p>\n",
       "</div>"
      ],
      "text/plain": [
       "                  datetime                   filename\n",
       "0      2019-12-13 13:45:15     1576260000.c1.snap.jpg\n",
       "1      2019-12-13 13:45:15     1576260000.c2.snap.jpg\n",
       "2      2019-12-13 13:45:16    1576260001.c1.timex.jpg\n",
       "3      2019-12-13 13:45:17    1576260001.c2.timex.jpg\n",
       "4      2019-12-13 13:45:18      1576260002.c1.var.jpg\n",
       "...                    ...                        ...\n",
       "126214 2021-02-12 14:54:42   1613151003.c2.bright.jpg\n",
       "126215 2021-02-12 14:54:42     1613151004.c1.dark.jpg\n",
       "126216 2021-02-12 14:54:42     1613151004.c2.dark.jpg\n",
       "126217 2021-02-12 14:54:43  1613151005.c1.rundark.jpg\n",
       "126218 2021-02-12 14:54:43  1613151005.c2.rundark.jpg\n",
       "\n",
       "[126219 rows x 2 columns]"
      ]
     },
     "execution_count": 2,
     "metadata": {},
     "output_type": "execute_result"
    }
   ],
   "source": [
    "df = pd.read_csv('inventory.txt', header=None, delim_whitespace=True, parse_dates={'datetime': [0, 1]})\n",
    "df.rename(columns={2:'fid',3:'filename'}, inplace=True)\n",
    "del df['fid']\n",
    "df"
   ]
  },
  {
   "cell_type": "markdown",
   "metadata": {},
   "source": [
    "### Get list of `c1.timex` files and find matching `c2.timex` files. Make list of `c1.timex` images with matches. Randomly sample *n*."
   ]
  },
  {
   "cell_type": "code",
   "execution_count": 3,
   "metadata": {},
   "outputs": [
    {
     "data": {
      "text/html": [
       "<div>\n",
       "<style scoped>\n",
       "    .dataframe tbody tr th:only-of-type {\n",
       "        vertical-align: middle;\n",
       "    }\n",
       "\n",
       "    .dataframe tbody tr th {\n",
       "        vertical-align: top;\n",
       "    }\n",
       "\n",
       "    .dataframe thead th {\n",
       "        text-align: right;\n",
       "    }\n",
       "</style>\n",
       "<table border=\"1\" class=\"dataframe\">\n",
       "  <thead>\n",
       "    <tr style=\"text-align: right;\">\n",
       "      <th></th>\n",
       "      <th>datetime</th>\n",
       "      <th>filename</th>\n",
       "    </tr>\n",
       "  </thead>\n",
       "  <tbody>\n",
       "    <tr>\n",
       "      <th>0</th>\n",
       "      <td>2020-08-06 12:01:06</td>\n",
       "      <td>1596718801.c1.timex.jpg</td>\n",
       "    </tr>\n",
       "    <tr>\n",
       "      <th>1</th>\n",
       "      <td>2020-11-25 16:02:54</td>\n",
       "      <td>1606334401.c1.timex.jpg</td>\n",
       "    </tr>\n",
       "    <tr>\n",
       "      <th>2</th>\n",
       "      <td>2020-04-01 18:48:08</td>\n",
       "      <td>1585778401.c1.timex.jpg</td>\n",
       "    </tr>\n",
       "    <tr>\n",
       "      <th>3</th>\n",
       "      <td>2020-11-01 14:59:54</td>\n",
       "      <td>1604257201.c1.timex.jpg</td>\n",
       "    </tr>\n",
       "    <tr>\n",
       "      <th>4</th>\n",
       "      <td>2020-10-23 18:03:42</td>\n",
       "      <td>1603486801.c1.timex.jpg</td>\n",
       "    </tr>\n",
       "    <tr>\n",
       "      <th>...</th>\n",
       "      <td>...</td>\n",
       "      <td>...</td>\n",
       "    </tr>\n",
       "    <tr>\n",
       "      <th>195</th>\n",
       "      <td>2020-01-19 06:47:05</td>\n",
       "      <td>1579431601.c1.timex.jpg</td>\n",
       "    </tr>\n",
       "    <tr>\n",
       "      <th>196</th>\n",
       "      <td>2020-07-29 13:35:12</td>\n",
       "      <td>1596036601.c1.timex.jpg</td>\n",
       "    </tr>\n",
       "    <tr>\n",
       "      <th>197</th>\n",
       "      <td>2020-06-06 17:49:37</td>\n",
       "      <td>1591477201.c1.timex.jpg</td>\n",
       "    </tr>\n",
       "    <tr>\n",
       "      <th>198</th>\n",
       "      <td>2020-06-06 18:49:36</td>\n",
       "      <td>1591482601.c1.timex.jpg</td>\n",
       "    </tr>\n",
       "    <tr>\n",
       "      <th>199</th>\n",
       "      <td>2020-01-11 13:46:44</td>\n",
       "      <td>1578765601.c1.timex.jpg</td>\n",
       "    </tr>\n",
       "  </tbody>\n",
       "</table>\n",
       "<p>200 rows × 2 columns</p>\n",
       "</div>"
      ],
      "text/plain": [
       "               datetime                 filename\n",
       "0   2020-08-06 12:01:06  1596718801.c1.timex.jpg\n",
       "1   2020-11-25 16:02:54  1606334401.c1.timex.jpg\n",
       "2   2020-04-01 18:48:08  1585778401.c1.timex.jpg\n",
       "3   2020-11-01 14:59:54  1604257201.c1.timex.jpg\n",
       "4   2020-10-23 18:03:42  1603486801.c1.timex.jpg\n",
       "..                  ...                      ...\n",
       "195 2020-01-19 06:47:05  1579431601.c1.timex.jpg\n",
       "196 2020-07-29 13:35:12  1596036601.c1.timex.jpg\n",
       "197 2020-06-06 17:49:37  1591477201.c1.timex.jpg\n",
       "198 2020-06-06 18:49:36  1591482601.c1.timex.jpg\n",
       "199 2020-01-11 13:46:44  1578765601.c1.timex.jpg\n",
       "\n",
       "[200 rows x 2 columns]"
      ]
     },
     "execution_count": 3,
     "metadata": {},
     "output_type": "execute_result"
    }
   ],
   "source": [
    "# find instances of timex.c1\n",
    "df2 = df[df['filename'].str.contains('c1.timex')]\n",
    "df2.reset_index(drop=True, inplace=True)\n",
    "# random sample n\n",
    "dfs = df2.sample(n=200)\n",
    "dfs.reset_index(drop=True, inplace=True)\n",
    "dfs"
   ]
  },
  {
   "cell_type": "code",
   "execution_count": 4,
   "metadata": {},
   "outputs": [
    {
     "name": "stdout",
     "output_type": "stream",
     "text": [
      "173 27 200\n"
     ]
    }
   ],
   "source": [
    "# filelist will contain all of the c1.timex images that have matching c2 images\n",
    "filelist = [ ]\n",
    "matches = 0\n",
    "no_matches = 0\n",
    "for i, row in dfs.iterrows():\n",
    "    fs1 = row['filename']\n",
    "    # print(fs1)\n",
    "    fn1 = list(fs1)\n",
    "    fn2 = fn1.copy()\n",
    "    fn2[12]='2'\n",
    "    fs2=\"\".join(fn2)\n",
    "    # print(fs2)\n",
    "    if len(df[df['filename'].isin([fs2])]) == 1:\n",
    "        filelist.append(fs1)\n",
    "        matches += 1\n",
    "    else:\n",
    "        no_matches += 1\n",
    "\n",
    "print(matches, no_matches, matches+no_matches)"
   ]
  },
  {
   "cell_type": "code",
   "execution_count": 5,
   "metadata": {},
   "outputs": [],
   "source": [
    "# setup S3 buckets\n",
    "imdir='cmgp-coastcam/cameras/caco-01/products/'\n",
    "fs = fsspec.filesystem('s3',profile='coastcam')\n",
    "\n",
    "# fs2 = fsspec.filesystem('s3', profile='default')\n"
   ]
  },
  {
   "cell_type": "code",
   "execution_count": 6,
   "metadata": {},
   "outputs": [
    {
     "name": "stdout",
     "output_type": "stream",
     "text": [
      "1602496801.c1.timex.jpg\n",
      "1602496801.c2.timex.jpg\n"
     ]
    }
   ],
   "source": [
    "# function to create a c2 image name from a c1 image name\n",
    "def c1toc2(c1name):\n",
    "    fn1 = list(c1name)\n",
    "    fn2 = fn1.copy()\n",
    "    fn2[12]='2'\n",
    "    fs2=\"\".join(fn2)\n",
    "    return fs2\n",
    "\n",
    "# test it\n",
    "print(filelist[22])\n",
    "print(c1toc2(filelist[22]))"
   ]
  },
  {
   "cell_type": "code",
   "execution_count": 7,
   "metadata": {},
   "outputs": [
    {
     "name": "stdout",
     "output_type": "stream",
     "text": [
      "20\n",
      "40\n",
      "60\n",
      "80\n",
      "100\n",
      "120\n",
      "140\n",
      "151  images processed.\n"
     ]
    }
   ],
   "source": [
    "# loop through the filelist and calculate image time, brightness, sharpness, and contrast.\n",
    "# If the brightness > 40, copy both obliques to local dir\n",
    "localdir = r\"C:\\\\crs\\\\proj\\\\2019_CACO_CoastCam\\\\random_obliques\\\\\"\n",
    "\n",
    "stats_to_csv = True\n",
    "if stats_to_csv:\n",
    "    # set up file for output\n",
    "    with open('random_stats.csv','w') as csvfile:\n",
    "        csvfile.write('filname, time (UTC),avg0,s0,c0,avg1,s1,c1'+'\\n')\n",
    "\n",
    "icount = 0\n",
    "for i, fn0 in enumerate(filelist):\n",
    "\n",
    "    # second path is same but for camera 2\n",
    "    fn1 = c1toc2(fn0)\n",
    "\n",
    "    impaths = [imdir+fn0, imdir+fn1]\n",
    "\n",
    "    s0, c0 = estimate_sharpness(impaths[0],fs)\n",
    "    rgb0, avg0 = average_color(impaths[0],fs)\n",
    "    s1, c1 = estimate_sharpness(impaths[1],fs)\n",
    "    rgb1, avg1 = average_color(impaths[1],fs)\n",
    "    \n",
    "    ftime, e = filetime2timestr(fn0, timezone='eastern')\n",
    "\n",
    "    if avg0 > 40.:\n",
    "\n",
    "        fs.download(impaths[0],localdir+fn0)\n",
    "        fs.download(impaths[1],localdir+fn1)\n",
    "\n",
    "        # copy to local dir\n",
    "        icount += 1\n",
    "       \n",
    "        if stats_to_csv:\n",
    "            ostring = '{}.jpg,{},{:.0f},{:3.1f},{:5.1f},{:.0f},{:3.1f},{:5.1f}'.format(e,ftime,avg0,s0,c0,avg1,s1,c1)\n",
    "            #print(ostring)\n",
    "            with open('random_stats.csv', 'a') as csvfile:\n",
    "                csvfile.write(ostring+'\\n')\n",
    "            \n",
    "        if not(icount % 20):\n",
    "            print(icount)\n",
    "        \n",
    "#         if icount > 11:\n",
    "#             break\n",
    "            \n",
    "print(icount,' images processed.')                    "
   ]
  }
 ],
 "metadata": {
  "kernelspec": {
   "display_name": "Python 3",
   "language": "python",
   "name": "python3"
  },
  "language_info": {
   "codemirror_mode": {
    "name": "ipython",
    "version": 3
   },
   "file_extension": ".py",
   "mimetype": "text/x-python",
   "name": "python",
   "nbconvert_exporter": "python",
   "pygments_lexer": "ipython3",
   "version": "3.7.6"
  }
 },
 "nbformat": 4,
 "nbformat_minor": 4
}
