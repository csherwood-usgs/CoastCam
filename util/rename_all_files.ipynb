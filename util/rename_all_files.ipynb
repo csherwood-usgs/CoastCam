{
 "cells": [
  {
   "cell_type": "code",
   "execution_count": 2,
   "metadata": {},
   "outputs": [],
   "source": [
    "import os\n",
    "path = r'C:\\crs\\proj\\2019_CACO_CoastCam\\test_files'\n",
    "files = os.listdir(path)\n",
    "\n",
    "\n",
    "for i, file in enumerate(files):\n",
    "    newfn = 'f{:05d}.png'.format(i)\n",
    "    os.rename(os.path.join(path, file), os.path.join(path, newfn))"
   ]
  }
 ],
 "metadata": {
  "kernelspec": {
   "display_name": "Python 3",
   "language": "python",
   "name": "python3"
  },
  "language_info": {
   "codemirror_mode": {
    "name": "ipython",
    "version": 3
   },
   "file_extension": ".py",
   "mimetype": "text/x-python",
   "name": "python",
   "nbconvert_exporter": "python",
   "pygments_lexer": "ipython3",
   "version": "3.7.6"
  }
 },
 "nbformat": 4,
 "nbformat_minor": 4
}
