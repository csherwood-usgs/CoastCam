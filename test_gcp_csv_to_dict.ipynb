{
 "cells": [
  {
   "cell_type": "code",
   "execution_count": 25,
   "id": "5b21bb42",
   "metadata": {},
   "outputs": [
    {
     "name": "stdout",
     "output_type": "stream",
     "text": [
      "First row:  ['Northing_UTM19N', 'Easting_UTM19N', 'Orthometric_height_NAVD88', 'GCPID']\n",
      "GCP ids:  dict_keys(['A158', 'P3A', 'P1B', 'P2B', 'P3B', 'P6B', 'T31', 'A697', 'P2A', 'P5B', 'P6A', 'T1'])\n",
      "northing =  4638378.883\n",
      "easting =  420120.9642\n",
      "elevation =  3.272\n"
     ]
    }
   ],
   "source": [
    "import csv\n",
    "import numpy as np\n",
    "\n",
    "gcp_file = 'GCPs_2023-012-FA_Marconi_GPS_visible.csv'\n",
    "\n",
    "def gcp_csv_to_dict( gcp_file ):\n",
    "    \"\"\"\n",
    "    Read a .csv file and return a dict containing gcps\n",
    "    \n",
    "    This version assumes there is one header line in the .csv file,\n",
    "    and that the gcp id is in the fourth column.\n",
    "    \n",
    "    On return, you can access the data as follows:\n",
    "    northing = gcp['id'][0]\n",
    "    easting = gcp['id'][1]\n",
    "    elevation = gcp['id'][2]\n",
    "    \"\"\"\n",
    "    gcp = {}\n",
    "    reader = csv.reader( open(gcp_file, 'r') )\n",
    "    header = next(reader)\n",
    "    print('First row: ', header)\n",
    "    for row in reader:\n",
    "        k = row[3]\n",
    "        v = np.asarray( row[:3], dtype=float )\n",
    "        gcp[k]=v\n",
    "    return gcp\n",
    "\n",
    "gcp = gcp_csv_to_dict( gcp_file )\n",
    "\n",
    "print('GCP ids: ', gcp.keys() )\n",
    "print('northing = ', gcp['A158'][0] )\n",
    "print('easting = ', gcp['A158'][1] )\n",
    "print('elevation = ', gcp['A158'][2] )"
   ]
  }
 ],
 "metadata": {
  "kernelspec": {
   "display_name": "Python 3 (ipykernel)",
   "language": "python",
   "name": "python3"
  },
  "language_info": {
   "codemirror_mode": {
    "name": "ipython",
    "version": 3
   },
   "file_extension": ".py",
   "mimetype": "text/x-python",
   "name": "python",
   "nbconvert_exporter": "python",
   "pygments_lexer": "ipython3",
   "version": "3.10.8"
  }
 },
 "nbformat": 4,
 "nbformat_minor": 5
}
