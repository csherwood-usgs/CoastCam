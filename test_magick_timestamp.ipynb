{
 "cells": [
  {
   "cell_type": "code",
   "execution_count": 13,
   "id": "96e14052",
   "metadata": {},
   "outputs": [
    {
     "name": "stdout",
     "output_type": "stream",
     "text": [
      "magick ./data/1615401000.c1.snap.jpg -gravity NorthEast -font Arial -pointsize 70 -fill white -stroke black -strokewidth 10 -annotate +40+40 2022-08-30T17:30:00 -stroke none -annotate +40+40 2022-08-30T17:30:00 test.jpg\n",
      "Success\n"
     ]
    }
   ],
   "source": [
    "import os\n",
    "tstring = '2022-08-30T17:30:00'\n",
    "fn = './data/1615401000.c1.snap.jpg'\n",
    "ofn = 'test.jpg'\n",
    "magick_cmd = \" -gravity NorthEast -font Arial -pointsize 70 -fill white -stroke black -strokewidth 10 -annotate +40+40 {0} -stroke none -annotate +40+40 {0} \".format(tstring)\n",
    "mcmd = 'magick ' +fn+magick_cmd+ofn\n",
    "print(mcmd)\n",
    "\n",
    "if os.system(mcmd) == 0:\n",
    "    print('Success')"
   ]
  },
  {
   "cell_type": "code",
   "execution_count": 10,
   "id": "a8d0d1ea",
   "metadata": {},
   "outputs": [
    {
     "data": {
      "text/plain": [
       "False"
      ]
     },
     "execution_count": 10,
     "metadata": {},
     "output_type": "execute_result"
    }
   ],
   "source": [
    "os.path.isfile(fn)"
   ]
  }
 ],
 "metadata": {
  "kernelspec": {
   "display_name": "Python 3 (ipykernel)",
   "language": "python",
   "name": "python3"
  },
  "language_info": {
   "codemirror_mode": {
    "name": "ipython",
    "version": 3
   },
   "file_extension": ".py",
   "mimetype": "text/x-python",
   "name": "python",
   "nbconvert_exporter": "python",
   "pygments_lexer": "ipython3",
   "version": "3.10.4"
  }
 },
 "nbformat": 4,
 "nbformat_minor": 5
}
