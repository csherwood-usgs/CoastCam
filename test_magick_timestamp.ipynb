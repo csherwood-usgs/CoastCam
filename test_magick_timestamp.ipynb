{
 "cells": [
  {
   "cell_type": "code",
   "execution_count": null,
   "id": "095f60f0",
   "metadata": {},
   "outputs": [],
   "source": [
    "import os"
   ]
  },
  {
   "cell_type": "code",
   "execution_count": 23,
   "id": "96e14052",
   "metadata": {},
   "outputs": [
    {
     "name": "stdout",
     "output_type": "stream",
     "text": [
      "magick ./data/1615401000.c1.snap.jpg -gravity NorthEast -font Arial -pointsize 70 -fill white -stroke black -strokewidth 10 -annotate +40+40 2022-08-30T17:30:00 -stroke none -annotate +40+40 2022-08-30T17:30:00 test.jpg\n",
      "Success\n",
      "magick test.jpg -gravity NorthEast -font Arial -pointsize 70 -fill white -stroke black -strokewidth 10 -annotate +40+120 \"Tide: 0.8 Sun: -8.3\" -stroke none -annotate +40+120 \"Tide: 0.8 Sun: -8.3\" test.jpg\n",
      "Success\n",
      "CPU times: total: 31.2 ms\n",
      "Wall time: 946 ms\n"
     ]
    }
   ],
   "source": [
    "%%time\n",
    "tstring = '2022-08-30T17:30:00'\n",
    "fn = './data/1615401000.c1.snap.jpg'\n",
    "ofn = 'test.jpg'\n",
    "magick_cmd = \" -gravity NorthEast -font Arial -pointsize 70 -fill white -stroke black -strokewidth 10 -annotate +40+40 {0} -stroke none -annotate +40+40 {0} \".format(tstring)\n",
    "mcmd = 'magick ' +fn+magick_cmd+ofn\n",
    "print(mcmd)\n",
    "\n",
    "if os.system(mcmd) == 0:\n",
    "    print('Success')\n",
    "    \n",
    "tid = .75\n",
    "hsn = -8.3\n",
    "tstring = 'Tide: {:03.1f} Sun: {:03.1f}'.format(tid,hsn) \n",
    "fn = 'test.jpg'\n",
    "ofn = 'test.jpg'\n",
    "magick_cmd = ' -gravity NorthEast -font Arial -pointsize 70 -fill white -stroke black -strokewidth 10 -annotate +40+120 \"{0}\" -stroke none -annotate +40+120 \"{0}\" '.format(tstring)\n",
    "mcmd = 'magick ' +fn+magick_cmd+ofn\n",
    "print(mcmd)\n",
    "\n",
    "if os.system(mcmd) == 0:\n",
    "    print('Success')"
   ]
  },
  {
   "cell_type": "code",
   "execution_count": 27,
   "id": "9cc20e75",
   "metadata": {},
   "outputs": [
    {
     "name": "stdout",
     "output_type": "stream",
     "text": [
      "magick ./data/1615401000.c1.snap.jpg -gravity NorthEast -font Arial -pointsize 70 -fill white -stroke black -strokewidth 10 -annotate +40+40 \"2022-08-30T17:30:00\" -stroke none -annotate +40+40 \"2022-08-30T17:30:00\" -fill white -stroke black -strokewidth 10 -annotate +40+120 \"Tide: 0.8 Sun: -8.3\" -stroke none -annotate +40+120 \"Tide: 0.8 Sun: -8.3\" test.jpg\n",
      "Success\n",
      "CPU times: total: 0 ns\n",
      "Wall time: 566 ms\n"
     ]
    }
   ],
   "source": [
    "%%time\n",
    "# it is faster to put both annotations in the same command line (but harder to read)\n",
    "fn = './data/1615401000.c1.snap.jpg'\n",
    "ofn = 'test.jpg'\n",
    "\n",
    "tstring = '2022-08-30T17:30:00'\n",
    "tid = .75\n",
    "hsn = -8.3\n",
    "tstring2 = 'Tide: {:03.1f} Sun: {:03.1f}'.format(tid,hsn) \n",
    "\n",
    "magick_cmd = ' -gravity NorthEast -font Arial -pointsize 70 -fill white -stroke black -strokewidth 10 -annotate +40+40 \"{0}\" -stroke none -annotate +40+40 \"{0}\" -fill white -stroke black -strokewidth 10 -annotate +40+120 \"{1}\" -stroke none -annotate +40+120 \"{1}\" '.format(tstring, tstring2)\n",
    "mcmd = 'magick ' +fn+magick_cmd+ofn\n",
    "print(mcmd)\n",
    "\n",
    "if os.system(mcmd) == 0:\n",
    "    print('Success')"
   ]
  },
  {
   "cell_type": "code",
   "execution_count": 17,
   "id": "a8d0d1ea",
   "metadata": {},
   "outputs": [
    {
     "name": "stdout",
     "output_type": "stream",
     "text": [
      "magick test.jpg -gravity NorthEast -font Arial -pointsize 70 -fill white -stroke black -strokewidth 10 -annotate +40+120 \"Tide -1.8 SolarH -8.3\" -stroke none -annotate +40+120 \"Tide -1.8 SolarH -8.3\" test.jpg\n",
      "Success\n"
     ]
    }
   ],
   "source": []
  }
 ],
 "metadata": {
  "kernelspec": {
   "display_name": "Python 3 (ipykernel)",
   "language": "python",
   "name": "python3"
  },
  "language_info": {
   "codemirror_mode": {
    "name": "ipython",
    "version": 3
   },
   "file_extension": ".py",
   "mimetype": "text/x-python",
   "name": "python",
   "nbconvert_exporter": "python",
   "pygments_lexer": "ipython3",
   "version": "3.10.4"
  }
 },
 "nbformat": 4,
 "nbformat_minor": 5
}
