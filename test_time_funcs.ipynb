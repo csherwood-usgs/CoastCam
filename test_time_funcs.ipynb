{
 "cells": [
  {
   "cell_type": "code",
   "execution_count": 1,
   "metadata": {},
   "outputs": [
    {
     "name": "stdout",
     "output_type": "stream",
     "text": [
      "1600867800\n",
      "2020-09-23 09:30:00-04:00\n",
      "2020-09-23 13:30:00\n",
      "2020-09-23 13:30:00\n",
      "ts =  2020-09-23 13:30:00\n",
      "2020-09-23 09:30:00-04:00\n",
      "1600867801.c2.timex.jpg\n"
     ]
    }
   ],
   "source": [
    "import datetime\n",
    "from dateutil import tz\n",
    "import numpy as np\n",
    "\n",
    "%run -i coastcam_funcs.py\n",
    "datestr = '2020-09-23 09:30'\n",
    "ts, dto = dts2unix(datestr, timezone='eastern')\n",
    "print(ts)\n",
    "print(dto)\n",
    "dt_str, dt_obj = unix2dts(str(ts))\n",
    "print(dt_str)\n",
    "print(dt_obj)\n",
    "\n",
    "ts = filetime2timestr('1600867801.c1.timex.jpg')\n",
    "\n",
    "print('ts = ',ts)\n",
    "print(dto)\n",
    "\n",
    "fn = timestr2filename( datestr, camera = 'c2' , timezone='eastern')\n",
    "print(fn)"
   ]
  },
  {
   "cell_type": "code",
   "execution_count": 2,
   "metadata": {},
   "outputs": [
    {
     "name": "stdout",
     "output_type": "stream",
     "text": [
      "Current UTC time stamp:  1601319604.537199\n",
      "Day number:  16013\n",
      "Today is: 2020-09-28\n",
      "Yesterday was: 2020-09-27\n"
     ]
    }
   ],
   "source": [
    "# Check for files from today\n",
    "tsNow = datetime.datetime.utcnow().timestamp()\n",
    "print(\"Current UTC time stamp: \",tsNow)\n",
    "dayn = str(int(tsNow/100000.))\n",
    "print(\"Day number: \",dayn)\n",
    "today = datetime.date.today()\n",
    "print(\"Today is:\",today)\n",
    "yesterday = today-datetime.timedelta(days=1)\n",
    "print(\"Yesterday was:\",yesterday)"
   ]
  },
  {
   "cell_type": "code",
   "execution_count": 3,
   "metadata": {},
   "outputs": [
    {
     "name": "stdout",
     "output_type": "stream",
     "text": [
      "2020-09-21 19:30:00\n"
     ]
    }
   ],
   "source": [
    "utc = datetime.datetime.utcfromtimestamp(1600716600)\n",
    "print(utc)"
   ]
  }
 ],
 "metadata": {
  "kernelspec": {
   "display_name": "Python 3",
   "language": "python",
   "name": "python3"
  },
  "language_info": {
   "codemirror_mode": {
    "name": "ipython",
    "version": 3
   },
   "file_extension": ".py",
   "mimetype": "text/x-python",
   "name": "python",
   "nbconvert_exporter": "python",
   "pygments_lexer": "ipython3",
   "version": "3.7.8"
  }
 },
 "nbformat": 4,
 "nbformat_minor": 4
}
