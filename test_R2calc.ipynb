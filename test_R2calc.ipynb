{
 "cells": [
  {
   "cell_type": "code",
   "execution_count": 13,
   "metadata": {},
   "outputs": [
    {
     "name": "stdout",
     "output_type": "stream",
     "text": [
      "2.0 10.0 0.02 0.019997333973150535\n",
      "0.7371312480617593 1.0928784990557863 0.12368006689188799 0.2650287147683314 1.060256192647171 0.17668580984555426 0.43658966082141804\n"
     ]
    }
   ],
   "source": [
    "import numpy as np\n",
    "\n",
    "def calcR2(H,T,slope,igflag=0):\n",
    "    \"\"\"\n",
    "    %\n",
    "    % [R2,S,setup, Sinc, SIG, ir] = calcR2(H,T,slope,igflag);\n",
    "    %\n",
    "    % Calculated 2% runup (R2), swash (S), setup (setup), incident swash (Sinc)\n",
    "    % and infragravity swash (SIG) elevations based on parameterizations from runup paper\n",
    "    % also Iribarren (ir)\n",
    "    % August 2010 - Included 15% runup (R16) statistic that, for a Guassian distribution, \n",
    "    % represents mean+sigma. It is calculated as R16 = setup + swash/4.  \n",
    "    % In a wave tank, Palmsten et al (2010) found this statistic represented initiation of dune erosion. \n",
    "    %\n",
    "    %\n",
    "    % H = significant wave height, reverse shoaled to deep water\n",
    "    % T = deep-water peak wave period\n",
    "    % slope = radians\n",
    "    % igflag = 0 (default)use full equation for all data\n",
    "    %        = 1  use dissipative-specific calculations when dissipative conditions exist (Iribarren < 0.3)\n",
    "    %        = 2  use dissipative-specific (IG energy) calculation for all data\n",
    "    %\n",
    "    % based on:\n",
    "    %  Stockdon, H. F., R. A. Holman, P. A. Howd, and J. Sallenger A. H. (2006),\n",
    "    %    Empirical parameterization of setup, swash, and runup,\n",
    "    %    Coastal Engineering, 53, 573-588.\n",
    "    % author: hstockdon@usgs.gov\n",
    "    # Converted to Python by csherwood@usgs.gov\n",
    "    \"\"\"\n",
    "    g = 9.81\n",
    "\n",
    "    # make slopes positive!\n",
    "    slope = np.abs(slope)\n",
    "\n",
    "    # compute wavelength and Iribarren\n",
    "    L = (g*T**2) / (2.*np.pi)\n",
    "    sqHL = np.sqrt(H*L)\n",
    "    ir = slope/np.sqrt(H/L)\n",
    "\n",
    "    if igflag == 2:                     # use dissipative equations (IG) for ALL data\n",
    "        R2 = 1.1*(0.039 * sqHL)\n",
    "        S = 0.046*sqHL\n",
    "        setup = 0.016*sqHL\n",
    "\n",
    "    elif igflag == 1 and ir < 0.3:      # if dissipative site use diss equations\n",
    "        R2 = 1.1*(0.039 * sqHL)\n",
    "        S = 0.046*sqHL\n",
    "        setup = 0.016*sqHL\n",
    "\n",
    "    else:                               # if int/ref site, use full equations\n",
    "        setup = 0.35*slope*sqHL\n",
    "        Sinc = 0.75*slope*sqHL\n",
    "        SIG = 0.06*sqHL\n",
    "        S = np.sqrt(Sinc**2 + SIG**2)\n",
    "        R2 = 1.1*(setup + S/2.)\n",
    "        R16 = 1.1*(setup + S/4.)\n",
    "\n",
    "    return R2, S, setup, Sinc, SIG, ir, R16\n",
    "\n",
    "H = 2.\n",
    "T = 10.\n",
    "tana = 1./50.\n",
    "slope = np.arctan(tana)\n",
    "igflag=0\n",
    "print(H,T,tana,slope)\n",
    "R2, S, setup, Sinc, SIG, ir, R16 = calcR2(H,T,slope)\n",
    "print(R2, S, setup, Sinc, SIG, ir, R16)"
   ]
  }
 ],
 "metadata": {
  "kernelspec": {
   "display_name": "Python 3",
   "language": "python",
   "name": "python3"
  },
  "language_info": {
   "codemirror_mode": {
    "name": "ipython",
    "version": 3
   },
   "file_extension": ".py",
   "mimetype": "text/x-python",
   "name": "python",
   "nbconvert_exporter": "python",
   "pygments_lexer": "ipython3",
   "version": "3.7.6"
  }
 },
 "nbformat": 4,
 "nbformat_minor": 4
}
