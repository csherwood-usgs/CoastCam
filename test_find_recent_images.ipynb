{
 "cells": [
  {
   "cell_type": "code",
   "execution_count": 1,
   "metadata": {},
   "outputs": [],
   "source": [
    "import fsspec\n",
    "import numpy as np\n",
    "import imageio\n",
    "import datetime\n",
    "from dateutil import tz"
   ]
  },
  {
   "cell_type": "code",
   "execution_count": 2,
   "metadata": {},
   "outputs": [
    {
     "name": "stdout",
     "output_type": "stream",
     "text": [
      "Current UTC time stamp:  1602882215.68883\n",
      "Day number:  16028\n",
      "Today is: 2020-10-16\n",
      "Yesterday was: 2020-10-15\n"
     ]
    }
   ],
   "source": [
    "# Check for files from today\n",
    "tsNow = datetime.datetime.utcnow().timestamp()\n",
    "print(\"Current UTC time stamp: \",tsNow)\n",
    "dayn = str(int(tsNow/100000.))\n",
    "print(\"Day number: \",dayn)\n",
    "today = datetime.date.today()\n",
    "print(\"Today is:\",today)"
   ]
  },
  {
   "cell_type": "code",
   "execution_count": 3,
   "metadata": {},
   "outputs": [
    {
     "name": "stdout",
     "output_type": "stream",
     "text": [
      "['cmgp-coastcam/cameras/caco-01/products/1602801001.c1.timex.jpg', 'cmgp-coastcam/cameras/caco-01/products/1602838801.c1.timex.jpg', 'cmgp-coastcam/cameras/caco-01/products/1602838801.c2.timex.jpg', 'cmgp-coastcam/cameras/caco-01/products/1602840601.c1.timex.jpg', 'cmgp-coastcam/cameras/caco-01/products/1602840601.c2.timex.jpg', 'cmgp-coastcam/cameras/caco-01/products/1602842401.c1.timex.jpg', 'cmgp-coastcam/cameras/caco-01/products/1602842401.c2.timex.jpg', 'cmgp-coastcam/cameras/caco-01/products/1602844201.c1.timex.jpg', 'cmgp-coastcam/cameras/caco-01/products/1602844201.c2.timex.jpg', 'cmgp-coastcam/cameras/caco-01/products/1602846001.c1.timex.jpg', 'cmgp-coastcam/cameras/caco-01/products/1602846001.c2.timex.jpg', 'cmgp-coastcam/cameras/caco-01/products/1602847801.c1.timex.jpg', 'cmgp-coastcam/cameras/caco-01/products/1602847801.c2.timex.jpg', 'cmgp-coastcam/cameras/caco-01/products/1602849601.c1.timex.jpg', 'cmgp-coastcam/cameras/caco-01/products/1602849601.c2.timex.jpg', 'cmgp-coastcam/cameras/caco-01/products/1602851401.c1.timex.jpg', 'cmgp-coastcam/cameras/caco-01/products/1602851401.c2.timex.jpg', 'cmgp-coastcam/cameras/caco-01/products/1602853201.c1.timex.jpg', 'cmgp-coastcam/cameras/caco-01/products/1602855001.c1.timex.jpg', 'cmgp-coastcam/cameras/caco-01/products/1602856801.c1.timex.jpg', 'cmgp-coastcam/cameras/caco-01/products/1602856801.c2.timex.jpg', 'cmgp-coastcam/cameras/caco-01/products/1602858601.c1.timex.jpg', 'cmgp-coastcam/cameras/caco-01/products/1602858601.c2.timex.jpg', 'cmgp-coastcam/cameras/caco-01/products/1602860401.c1.timex.jpg', 'cmgp-coastcam/cameras/caco-01/products/1602860401.c2.timex.jpg', 'cmgp-coastcam/cameras/caco-01/products/1602862201.c1.timex.jpg', 'cmgp-coastcam/cameras/caco-01/products/1602862201.c2.timex.jpg', 'cmgp-coastcam/cameras/caco-01/products/1602864001.c1.timex.jpg', 'cmgp-coastcam/cameras/caco-01/products/1602864001.c2.timex.jpg', 'cmgp-coastcam/cameras/caco-01/products/1602865801.c1.timex.jpg', 'cmgp-coastcam/cameras/caco-01/products/1602865801.c2.timex.jpg', 'cmgp-coastcam/cameras/caco-01/products/1602867601.c1.timex.jpg', 'cmgp-coastcam/cameras/caco-01/products/1602867601.c2.timex.jpg', 'cmgp-coastcam/cameras/caco-01/products/1602869401.c1.timex.jpg', 'cmgp-coastcam/cameras/caco-01/products/1602869401.c2.timex.jpg', 'cmgp-coastcam/cameras/caco-01/products/1602871201.c1.timex.jpg', 'cmgp-coastcam/cameras/caco-01/products/1602871201.c2.timex.jpg', 'cmgp-coastcam/cameras/caco-01/products/1602873001.c1.timex.jpg', 'cmgp-coastcam/cameras/caco-01/products/1602873001.c2.timex.jpg', 'cmgp-coastcam/cameras/caco-01/products/1602874801.c1.timex.jpg', 'cmgp-coastcam/cameras/caco-01/products/1602874801.c2.timex.jpg', 'cmgp-coastcam/cameras/caco-01/products/1602876601.c1.timex.jpg', 'cmgp-coastcam/cameras/caco-01/products/1602876601.c2.timex.jpg', 'cmgp-coastcam/cameras/caco-01/products/1602878401.c1.timex.jpg', 'cmgp-coastcam/cameras/caco-01/products/1602878401.c2.timex.jpg', 'cmgp-coastcam/cameras/caco-01/products/1602880201.c1.timex.jpg', 'cmgp-coastcam/cameras/caco-01/products/1602880201.c2.timex.jpg']\n"
     ]
    }
   ],
   "source": [
    "fs = fsspec.filesystem('s3')\n",
    "recent_list=fs.glob('cmgp-coastcam/cameras/caco-01/products/'+dayn+'*.c?.timex.jpg')"
   ]
  },
  {
   "cell_type": "code",
   "execution_count": 7,
   "metadata": {},
   "outputs": [
    {
     "name": "stdout",
     "output_type": "stream",
     "text": [
      "cmgp-coastcam/cameras/caco-01/products/1602880201.c2.timex.jpg\n"
     ]
    }
   ],
   "source": [
    "print(recent_list[-1])"
   ]
  },
  {
   "cell_type": "markdown",
   "metadata": {},
   "source": [
    "### strategy\n",
    "Not sure what the best strategy is. I think we tend to miss some c2 files, so maybe the best plan it find the last c2 file and the corresponding c1 file."
   ]
  },
  {
   "cell_type": "code",
   "execution_count": 18,
   "metadata": {},
   "outputs": [
    {
     "name": "stdout",
     "output_type": "stream",
     "text": [
      "['cmgp-coastcam/cameras/caco-01/products/1602880201', 'c2', 'timex', 'jpg']\n",
      "cmgp-coastcam/cameras/caco-01/products/1602880201.c1.timex.jpg\n"
     ]
    }
   ],
   "source": [
    "ss = recent_list[-1].split('.')\n",
    "print(ss)\n",
    "c1fn = ss[0]+'.c1.'+ss[2]+'.'+ss[3]\n",
    "print(c1fn)"
   ]
  },
  {
   "cell_type": "code",
   "execution_count": 20,
   "metadata": {},
   "outputs": [
    {
     "name": "stdout",
     "output_type": "stream",
     "text": [
      "cmgp-coastcam/cameras/caco-01/products/1602880201.c1.timex.jpg\n"
     ]
    }
   ],
   "source": [
    "# is there a corresponding c1 file?\n",
    "for e in recent_list:\n",
    "    if e == c1fn:\n",
    "        print(e)"
   ]
  },
  {
   "cell_type": "code",
   "execution_count": 21,
   "metadata": {},
   "outputs": [
    {
     "name": "stdout",
     "output_type": "stream",
     "text": [
      "(2048, 2448, 3)\n"
     ]
    }
   ],
   "source": [
    "\n",
    "with fs.open(c1fn) as f:\n",
    "    im = imageio.imread(f)\n",
    "    \n",
    "print(im.shape)"
   ]
  },
  {
   "cell_type": "code",
   "execution_count": 4,
   "metadata": {},
   "outputs": [
    {
     "name": "stdout",
     "output_type": "stream",
     "text": [
      "['cmgp-coastcam/cameras/caco-01/latest/1594377000.c1.snap.jpg', 'cmgp-coastcam/cameras/caco-01/latest/1594377000.c2.snap.jpg', 'cmgp-coastcam/cameras/caco-01/latest/1594377001.c1.timex.jpg', 'cmgp-coastcam/cameras/caco-01/latest/1594377001.c2.timex.jpg', 'cmgp-coastcam/cameras/caco-01/latest/1594377002.c1.var.jpg', 'cmgp-coastcam/cameras/caco-01/latest/1594377002.c2.var.jpg', 'cmgp-coastcam/cameras/caco-01/latest/1594377003.c1.bright.jpg', 'cmgp-coastcam/cameras/caco-01/latest/1594377003.c2.bright.jpg', 'cmgp-coastcam/cameras/caco-01/latest/1594377004.c1.dark.jpg', 'cmgp-coastcam/cameras/caco-01/latest/1594377004.c2.dark.jpg', 'cmgp-coastcam/cameras/caco-01/latest/1594377005.c1.rundark.jpg', 'cmgp-coastcam/cameras/caco-01/latest/1594377005.c2.rundark.jpg', 'cmgp-coastcam/cameras/caco-01/latest/1594378800.c1.snap.jpg', 'cmgp-coastcam/cameras/caco-01/latest/1594378800.c2.snap.jpg', 'cmgp-coastcam/cameras/caco-01/latest/1594378801.c1.timex.jpg', 'cmgp-coastcam/cameras/caco-01/latest/1594378801.c2.timex.jpg', 'cmgp-coastcam/cameras/caco-01/latest/1594378802.c1.var.jpg', 'cmgp-coastcam/cameras/caco-01/latest/1594378802.c2.var.jpg', 'cmgp-coastcam/cameras/caco-01/latest/1594378803.c1.bright.jpg', 'cmgp-coastcam/cameras/caco-01/latest/1594378803.c2.bright.jpg', 'cmgp-coastcam/cameras/caco-01/latest/1594378804.c1.dark.jpg', 'cmgp-coastcam/cameras/caco-01/latest/1594378804.c2.dark.jpg', 'cmgp-coastcam/cameras/caco-01/latest/1594378805.c1.rundark.jpg', 'cmgp-coastcam/cameras/caco-01/latest/1594378805.c2.rundark.jpg', 'cmgp-coastcam/cameras/caco-01/latest/c1_bright.jpg', 'cmgp-coastcam/cameras/caco-01/latest/c1_dark.jpg', 'cmgp-coastcam/cameras/caco-01/latest/c1_rundark.jpg', 'cmgp-coastcam/cameras/caco-01/latest/c1_snap.jpg', 'cmgp-coastcam/cameras/caco-01/latest/c1_timex.jpg', 'cmgp-coastcam/cameras/caco-01/latest/c1_var.jpg', 'cmgp-coastcam/cameras/caco-01/latest/c2_bright.jpg', 'cmgp-coastcam/cameras/caco-01/latest/c2_dark.jpg', 'cmgp-coastcam/cameras/caco-01/latest/c2_rundark.jpg', 'cmgp-coastcam/cameras/caco-01/latest/c2_snap.jpg', 'cmgp-coastcam/cameras/caco-01/latest/c2_timex.jpg', 'cmgp-coastcam/cameras/caco-01/latest/c2_var.jpg']\n"
     ]
    }
   ],
   "source": [
    "recent_list=fs.glob('cmgp-coastcam/cameras/caco-01/latest/*')\n",
    "print(recent_list)"
   ]
  },
  {
   "cell_type": "code",
   "execution_count": 5,
   "metadata": {},
   "outputs": [],
   "source": [
    "# test writing to the public bucket\n",
    "fs2 = fsspec.filesystem('s3', profile='default')\n",
    "\n",
    "with fs2.open('s3://cmgp-sfm-public-read-bucket/csherwood/foo.txt','w') as fo:\n",
    "    fo.write('test file text')\n",
    "\n",
    "    "
   ]
  }
 ],
 "metadata": {
  "kernelspec": {
   "display_name": "Python 3",
   "language": "python",
   "name": "python3"
  },
  "language_info": {
   "codemirror_mode": {
    "name": "ipython",
    "version": 3
   },
   "file_extension": ".py",
   "mimetype": "text/x-python",
   "name": "python",
   "nbconvert_exporter": "python",
   "pygments_lexer": "ipython3",
   "version": "3.7.8"
  }
 },
 "nbformat": 4,
 "nbformat_minor": 4
}
