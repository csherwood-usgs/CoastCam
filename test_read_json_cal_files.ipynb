{
 "cells": [
  {
   "cell_type": "code",
   "execution_count": 1,
   "metadata": {},
   "outputs": [
    {
     "name": "stdout",
     "output_type": "stream",
     "text": [
      "Extrinsics:\n",
      "{'x': 410844.14, 'y': 4655942.41, 'z': 27.3, 'a': 0.5, 't': 1.173, 'r': 0.03}\n",
      "Intrinsics:\n",
      "{'NU': 2448, 'NV': 2048, 'c0U': 1215.323012, 'c0V': 1076.162623, 'fx': 2411.904295, 'fy': 2409.796036, 'd1': -0.219987, 'd2': 0.178703, 'd3': -0.05506, 't1': 0.000114, 't2': -0.002621}\n",
      "Extrinsics as an array:\n",
      "[4.10844140e+05 4.65594241e+06 2.73000000e+01 5.00000000e-01\n",
      " 1.17300000e+00 3.00000000e-02]\n"
     ]
    }
   ],
   "source": [
    "# test reading json into dict\n",
    "import numpy as np\n",
    "import json\n",
    "\n",
    "def json2dict(jsonfile):\n",
    "    with open(jsonfile, \"r\") as data:\n",
    "        dictname = json.loads(data.read())\n",
    "    return dictname \n",
    "\n",
    "# read individual calibration files\n",
    "extrinsics = json2dict(\"CACO01_C2_EOBest.json\")\n",
    "print(\"Extrinsics:\")\n",
    "print(extrinsics)\n",
    "\n",
    "intrinsics = json2dict(\"CACO01_C2_IOBest.json\")\n",
    "print(\"Intrinsics:\")\n",
    "print(intrinsics)\n",
    "\n",
    "# put intrinsics in an array\n",
    "beta = np.array([*extrinsics.values()], dtype='float64')\n",
    "print(\"Extrinsics as an array:\")\n",
    "print(beta)"
   ]
  },
  {
   "cell_type": "code",
   "execution_count": 2,
   "metadata": {},
   "outputs": [
    {
     "name": "stdout",
     "output_type": "stream",
     "text": [
      "All calibration parameters:\n",
      "{'extrinsics': {'x': 410843.97, 'y': 4655942.49, 'z': 27.3, 'a': -0.271, 't': 1.304, 'r': 0.007}, 'intrinsics': {'NU': 2448, 'NV': 2048, 'c0U': 1150.389769, 'c0V': 1200.529802, 'fx': 3599.302724, 'fy': 3600.840045, 'd1': -0.221394, 'd2': 0.129797, 'd3': 0.0, 't1': 0.000599, 't2': -0.000393}}\n",
      "Extrinsics:\n",
      "{'x': 410843.97, 'y': 4655942.49, 'z': 27.3, 'a': -0.271, 't': 1.304, 'r': 0.007}\n",
      "Instrinsics:\n",
      "{'NU': 2448, 'NV': 2048, 'c0U': 1150.389769, 'c0V': 1200.529802, 'fx': 3599.302724, 'fy': 3600.840045, 'd1': -0.221394, 'd2': 0.129797, 'd3': 0.0, 't1': 0.000599, 't2': -0.000393}\n",
      "Extrinsics as an array:\n",
      "[ 4.10843970e+05  4.65594249e+06  2.73000000e+01 -2.71000000e-01\n",
      "  1.30400000e+00  7.00000000e-03]\n"
     ]
    }
   ],
   "source": [
    "# Read combined calibration file\n",
    "calib = json2dict(\"CACO01_C1_IOEOBest.json\")\n",
    "\n",
    "print(\"All calibration parameters:\")\n",
    "print(calib)\n",
    "print(\"Extrinsics:\")\n",
    "print(calib[\"extrinsics\"])\n",
    "print(\"Instrinsics:\")\n",
    "print(calib[\"intrinsics\"])\n",
    "\n",
    "# put intrinsics in an array\n",
    "beta = np.array([*calib[\"extrinsics\"].values()], dtype='float64')\n",
    "print(\"Extrinsics as an array:\")\n",
    "print(beta)"
   ]
  },
  {
   "cell_type": "code",
   "execution_count": 3,
   "metadata": {},
   "outputs": [],
   "source": [
    "# test transform\n",
    "%run -i coastcam_funcs.py"
   ]
  }
 ],
 "metadata": {
  "kernelspec": {
   "display_name": "Python 3",
   "language": "python",
   "name": "python3"
  },
  "language_info": {
   "codemirror_mode": {
    "name": "ipython",
    "version": 3
   },
   "file_extension": ".py",
   "mimetype": "text/x-python",
   "name": "python",
   "nbconvert_exporter": "python",
   "pygments_lexer": "ipython3",
   "version": "3.7.6"
  }
 },
 "nbformat": 4,
 "nbformat_minor": 4
}
